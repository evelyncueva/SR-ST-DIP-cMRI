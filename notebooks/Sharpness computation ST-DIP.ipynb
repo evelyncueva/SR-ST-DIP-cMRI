{
 "cells": [
  {
   "cell_type": "code",
   "execution_count": 1,
   "id": "693e78d2-702e-4d00-b057-d3c320162781",
   "metadata": {},
   "outputs": [],
   "source": [
    "import scipy.io\n",
    "import jax.numpy as np\n",
    "from scipy.io import loadmat \n",
    "import numpy as onp\n",
    "import nibabel as nib\n",
    "import matplotlib.pyplot as plt \n",
    "import os\n",
    "import shutil\n",
    "from PIL import Image\n",
    "from inrmri.bart import bart_acquisition_from_arrays\n",
    "from inrmri.data_harvard import get_csmaps_and_mask, get_reference_reco\n",
    "import pandas as pd\n",
    "from jax import jit, vmap, random\n",
    "from inrmri.dip import TimeDependant_DIP_Net, helix_generator, circle_generator\n",
    "from inrmri.new_radon import ForwardRadonOperator\n",
    "from inrmri.fourier import fastshiftfourier, get_freqs\n",
    "from inrmri.basic_nn import weighted_loss \n",
    "from inrmri.utils import to_complex, is_inside_of_radial_lim, meshgrid_from_subdiv_autolims, total_variation_batch_complex, save_matrix_and_dict_in_zpy, load_matrix_and_dict_from_zpy    \n",
    "from inrmri.utils import create_exp_file_name, total_variation_complex\n",
    "import optax \n",
    "from inrmri.metrics_rd import mean_psnr, mean_ssim, mean_artifact_power\n",
    "from inrmri.utils_rdls import seconds_to_min_sec_format, filter_and_get_columns, apply_transform\n",
    "\n",
    "from inrmri.image_processor import BeforeLinRegNormalizer\n",
    "from inrmri.basic_plotting import full_halph_FOV_space_time \n",
    "from inrmri.image_processor import reduce_FOV \n",
    "\n",
    "from inrmri.utils_rdls import safe_normalize, get_center\n",
    "\n",
    "from inrmri.utils_rdls import get_info_volunteer, read_segmentation, read_ref_dataset"
   ]
  },
  {
   "cell_type": "markdown",
   "id": "10bf9d97-0b53-4d04-a341-824ce4b71528",
   "metadata": {},
   "source": [
    "## General"
   ]
  },
  {
   "cell_type": "code",
   "execution_count": 2,
   "id": "278b0d8c-7d59-4709-9d94-e1163b4105da",
   "metadata": {},
   "outputs": [],
   "source": [
    "total_slices          = 8\n",
    "num_frames            = 30\n",
    "base_path             = '/mnt/workspace/datasets/pulseqCINE/'\n",
    "target_columns        = ['training_name', 'psnr', 'ssim', 'it', 'duration [min]', 'duration [s]']"
   ]
  },
  {
   "cell_type": "markdown",
   "id": "bdf2908e-db3b-42d8-81db-42884ca189f8",
   "metadata": {},
   "source": [
    "## Volunteer"
   ]
  },
  {
   "cell_type": "code",
   "execution_count": 3,
   "id": "63f1f0e9-5be8-4b46-9a80-b8b31d129170",
   "metadata": {},
   "outputs": [],
   "source": [
    "dataset        = 'DATA_0.55T'\n",
    "volunteer      = 'FB'\n",
    "# --- PATH ---\n",
    "base_folder                     = base_path + dataset + '/' + volunteer + '/'\n",
    "train_data_folder               = base_folder + 'traindata/'\n",
    "segmentation_folder             = base_folder + 'segmentations/'\n",
    "segmentation_endo_folder        = segmentation_folder + 'endocardium/'\n",
    "segmentation_septum_folder      = segmentation_folder + 'septum/'"
   ]
  },
  {
   "cell_type": "code",
   "execution_count": 4,
   "id": "eafb7829-d16e-437c-9bc5-b9cddd3e3ebe",
   "metadata": {},
   "outputs": [],
   "source": [
    "es_folder = base_folder + 'es/'\n",
    "if not os.path.exists(es_folder):\n",
    "    os.makedirs(es_folder)"
   ]
  },
  {
   "cell_type": "markdown",
   "id": "d3de7d0b-88b0-4b22-9c3e-48f88673aff0",
   "metadata": {},
   "source": [
    "## DIP Model reconstructions"
   ]
  },
  {
   "cell_type": "code",
   "execution_count": 5,
   "id": "a2bc8185-da22-478a-982a-494653a07e63",
   "metadata": {},
   "outputs": [],
   "source": [
    "stdip_parameters = {\n",
    "    'experiment_name': 'iter_lr_init_value', \n",
    "    'training_params': {\n",
    "        'iter':2000,\n",
    "        'lr_init_value': 1e-3,\n",
    "        'slice':None,\n",
    "    }\n",
    "}\n",
    "\n",
    "tddip_parameters = {\n",
    "    'experiment_name': 'iter_lr_init_value', \n",
    "    'training_params': {\n",
    "        'iter':2000,\n",
    "        'lr_init_value': 1e-3,\n",
    "        'slice':None,\n",
    "    }\n",
    "}"
   ]
  },
  {
   "cell_type": "code",
   "execution_count": 6,
   "id": "e26d9dc4-16bf-4cfa-b626-489d52f6c15d",
   "metadata": {},
   "outputs": [],
   "source": [
    "stdip_parameters['path']               = base_folder + 'stDIP'\n",
    "stdip_parameters['csv_path']           = stdip_parameters['path'] +  '/' + stdip_parameters['experiment_name'] + \".csv\"\n",
    "stdip_parameters['csv_path_summary']   = stdip_parameters['path'] +  '/' + stdip_parameters['experiment_name'] + \"_summary.csv\""
   ]
  },
  {
   "cell_type": "code",
   "execution_count": 7,
   "id": "6cccf0c6-5002-4363-a769-72d6c1c9b0f6",
   "metadata": {},
   "outputs": [],
   "source": [
    "tddip_parameters['path']               = base_folder + 'tdDIP'\n",
    "tddip_parameters['csv_path']           = tddip_parameters['path'] +  '/' + tddip_parameters['experiment_name'] + \".csv\"\n",
    "tddip_parameters['csv_path_summary']   = tddip_parameters['path'] +  '/' + tddip_parameters['experiment_name'] + \"_summary.csv\""
   ]
  },
  {
   "cell_type": "markdown",
   "id": "8ab697c6-2916-4a7f-b0ef-ccad6b439f27",
   "metadata": {},
   "source": [
    "## Data"
   ]
  },
  {
   "cell_type": "code",
   "execution_count": 8,
   "id": "2cfcd308-5bf3-4628-9e81-d2fd1519677e",
   "metadata": {},
   "outputs": [
    {
     "name": "stdout",
     "output_type": "stream",
     "text": [
      "slice 1\n"
     ]
    },
    {
     "name": "stderr",
     "output_type": "stream",
     "text": [
      "2025-08-04 11:27:38.461974: W external/xla/xla/service/gpu/nvptx_compiler.cc:836] The NVIDIA driver's CUDA version is 12.2 which is older than the PTX compiler version (12.6.20). Because the driver is older than the PTX compiler version, XLA is disabling parallel compilation, which may slow down compilation. You should update your NVIDIA driver or use the NVIDIA-provided CUDA forward compatibility packages.\n"
     ]
    },
    {
     "ename": "FileNotFoundError",
     "evalue": "No such file or no access: '/mnt/workspace/datasets/pulseqCINE/DATA_0.55T/FB/segmentations/septum/FB_grasp_slice1.nii'",
     "output_type": "error",
     "traceback": [
      "\u001b[0;31m---------------------------------------------------------------------------\u001b[0m",
      "\u001b[0;31mFileNotFoundError\u001b[0m                         Traceback (most recent call last)",
      "File \u001b[0;32m/mnt/workspace/rdelasotta/.conda/envs/jaxenv/lib/python3.11/site-packages/nibabel/loadsave.py:101\u001b[0m, in \u001b[0;36mload\u001b[0;34m(filename, **kwargs)\u001b[0m\n\u001b[1;32m    100\u001b[0m \u001b[38;5;28;01mtry\u001b[39;00m:\n\u001b[0;32m--> 101\u001b[0m     stat_result \u001b[38;5;241m=\u001b[39m os\u001b[38;5;241m.\u001b[39mstat(filename)\n\u001b[1;32m    102\u001b[0m \u001b[38;5;28;01mexcept\u001b[39;00m \u001b[38;5;167;01mOSError\u001b[39;00m:\n",
      "\u001b[0;31mFileNotFoundError\u001b[0m: [Errno 2] No such file or directory: '/mnt/workspace/datasets/pulseqCINE/DATA_0.55T/FB/segmentations/septum/FB_grasp_slice1.nii'",
      "\nDuring handling of the above exception, another exception occurred:\n",
      "\u001b[0;31mFileNotFoundError\u001b[0m                         Traceback (most recent call last)",
      "Cell \u001b[0;32mIn[8], line 73\u001b[0m\n\u001b[1;32m     70\u001b[0m \u001b[38;5;66;03m# === GRASP Segmentations ===\u001b[39;00m\n\u001b[1;32m     71\u001b[0m seg_endo, seg_endo_fill, seg_end_area \u001b[38;5;241m=\u001b[39m read_segmentation(\n\u001b[1;32m     72\u001b[0m     os\u001b[38;5;241m.\u001b[39mpath\u001b[38;5;241m.\u001b[39mjoin(segmentation_endo_folder, \u001b[38;5;124mf\u001b[39m\u001b[38;5;124m\"\u001b[39m\u001b[38;5;132;01m{\u001b[39;00mvolunteer\u001b[38;5;132;01m}\u001b[39;00m\u001b[38;5;124m_grasp_slice\u001b[39m\u001b[38;5;132;01m{\u001b[39;00mi\u001b[38;5;132;01m}\u001b[39;00m\u001b[38;5;124m.nii\u001b[39m\u001b[38;5;124m\"\u001b[39m))\n\u001b[0;32m---> 73\u001b[0m seg_sep \u001b[38;5;241m=\u001b[39m read_segmentation(\n\u001b[1;32m     74\u001b[0m     os\u001b[38;5;241m.\u001b[39mpath\u001b[38;5;241m.\u001b[39mjoin(segmentation_septum_folder, \u001b[38;5;124mf\u001b[39m\u001b[38;5;124m\"\u001b[39m\u001b[38;5;132;01m{\u001b[39;00mvolunteer\u001b[38;5;132;01m}\u001b[39;00m\u001b[38;5;124m_grasp_slice\u001b[39m\u001b[38;5;132;01m{\u001b[39;00mi\u001b[38;5;132;01m}\u001b[39;00m\u001b[38;5;124m.nii\u001b[39m\u001b[38;5;124m\"\u001b[39m), fill\u001b[38;5;241m=\u001b[39m\u001b[38;5;28;01mFalse\u001b[39;00m)\n\u001b[1;32m     75\u001b[0m slice_data[\u001b[38;5;124m'\u001b[39m\u001b[38;5;124msegmentation\u001b[39m\u001b[38;5;124m'\u001b[39m][\u001b[38;5;124m'\u001b[39m\u001b[38;5;124mgrasp\u001b[39m\u001b[38;5;124m'\u001b[39m] \u001b[38;5;241m=\u001b[39m {\n\u001b[1;32m     76\u001b[0m     \u001b[38;5;124m'\u001b[39m\u001b[38;5;124msep\u001b[39m\u001b[38;5;124m'\u001b[39m: seg_sep,\n\u001b[1;32m     77\u001b[0m     \u001b[38;5;124m'\u001b[39m\u001b[38;5;124mendo\u001b[39m\u001b[38;5;124m'\u001b[39m: seg_endo,\n\u001b[0;32m   (...)\u001b[0m\n\u001b[1;32m     80\u001b[0m     \u001b[38;5;124m'\u001b[39m\u001b[38;5;124marea_es\u001b[39m\u001b[38;5;124m'\u001b[39m: seg_end_area[volunteer_params[\u001b[38;5;124m'\u001b[39m\u001b[38;5;124mEF_frames\u001b[39m\u001b[38;5;124m'\u001b[39m][\u001b[38;5;124m'\u001b[39m\u001b[38;5;124mESV\u001b[39m\u001b[38;5;124m'\u001b[39m]]\n\u001b[1;32m     81\u001b[0m }\n\u001b[1;32m     83\u001b[0m \u001b[38;5;66;03m# === stDIP Segmentations ===\u001b[39;00m\n",
      "File \u001b[0;32m/mnt/workspace/rdelasotta/NF-cMRI/inrmri/utils_rdls.py:1045\u001b[0m, in \u001b[0;36mread_segmentation\u001b[0;34m(path2file, fill)\u001b[0m\n\u001b[1;32m   1044\u001b[0m \u001b[38;5;28;01mdef\u001b[39;00m \u001b[38;5;21mread_segmentation\u001b[39m(path2file, fill\u001b[38;5;241m=\u001b[39m\u001b[38;5;28;01mTrue\u001b[39;00m):\n\u001b[0;32m-> 1045\u001b[0m     nii_file \u001b[38;5;241m=\u001b[39m nib\u001b[38;5;241m.\u001b[39mload(path2file)\n\u001b[1;32m   1046\u001b[0m     segmentation \u001b[38;5;241m=\u001b[39m nii_file\u001b[38;5;241m.\u001b[39mget_fdata()\n\u001b[1;32m   1047\u001b[0m     binary_segmentation \u001b[38;5;241m=\u001b[39m (segmentation \u001b[38;5;241m>\u001b[39m \u001b[38;5;241m0\u001b[39m)\u001b[38;5;241m.\u001b[39mastype(onp\u001b[38;5;241m.\u001b[39muint8)\n",
      "File \u001b[0;32m/mnt/workspace/rdelasotta/.conda/envs/jaxenv/lib/python3.11/site-packages/nibabel/loadsave.py:103\u001b[0m, in \u001b[0;36mload\u001b[0;34m(filename, **kwargs)\u001b[0m\n\u001b[1;32m    101\u001b[0m     stat_result \u001b[38;5;241m=\u001b[39m os\u001b[38;5;241m.\u001b[39mstat(filename)\n\u001b[1;32m    102\u001b[0m \u001b[38;5;28;01mexcept\u001b[39;00m \u001b[38;5;167;01mOSError\u001b[39;00m:\n\u001b[0;32m--> 103\u001b[0m     \u001b[38;5;28;01mraise\u001b[39;00m \u001b[38;5;167;01mFileNotFoundError\u001b[39;00m(\u001b[38;5;124mf\u001b[39m\u001b[38;5;124m\"\u001b[39m\u001b[38;5;124mNo such file or no access: \u001b[39m\u001b[38;5;124m'\u001b[39m\u001b[38;5;132;01m{\u001b[39;00mfilename\u001b[38;5;132;01m}\u001b[39;00m\u001b[38;5;124m'\u001b[39m\u001b[38;5;124m\"\u001b[39m)\n\u001b[1;32m    104\u001b[0m \u001b[38;5;28;01mif\u001b[39;00m stat_result\u001b[38;5;241m.\u001b[39mst_size \u001b[38;5;241m<\u001b[39m\u001b[38;5;241m=\u001b[39m \u001b[38;5;241m0\u001b[39m:\n\u001b[1;32m    105\u001b[0m     \u001b[38;5;28;01mraise\u001b[39;00m ImageFileError(\u001b[38;5;124mf\u001b[39m\u001b[38;5;124m\"\u001b[39m\u001b[38;5;124mEmpty file: \u001b[39m\u001b[38;5;124m'\u001b[39m\u001b[38;5;132;01m{\u001b[39;00mfilename\u001b[38;5;132;01m}\u001b[39;00m\u001b[38;5;124m'\u001b[39m\u001b[38;5;124m\"\u001b[39m)\n",
      "\u001b[0;31mFileNotFoundError\u001b[0m: No such file or no access: '/mnt/workspace/datasets/pulseqCINE/DATA_0.55T/FB/segmentations/septum/FB_grasp_slice1.nii'"
     ]
    }
   ],
   "source": [
    "import os\n",
    "\n",
    "all_slices_data = []\n",
    "\n",
    "for i in range(1, total_slices + 1):\n",
    "    print(f'slice {i}')\n",
    "    slice_data = {}\n",
    "\n",
    "    # === Volunteer and Training Parameters ===\n",
    "    volunteer_params = get_info_volunteer(dataset, volunteer, i)\n",
    "    stdip_parameters['training_params']['slice'] = i\n",
    "    tddip_parameters['training_params']['slice'] = i\n",
    "\n",
    "    # === Reference Dataset Path ===\n",
    "    dataset_name = f'slice_{i}_{total_slices}_nbins{num_frames}'\n",
    "    path_dataset = os.path.join(train_data_folder, f'{dataset_name}.npz')\n",
    "\n",
    "    # === Reference Reconstructions ===\n",
    "    recon_fs, recon_grasp, recon_sense, time_grasp, time_sense = read_ref_dataset(path_dataset)\n",
    "    recon_grasp    = get_center(recon_grasp) \n",
    "    recon_sense    = get_center(recon_sense)\n",
    "    recon_fs       = get_center(recon_fs) \n",
    "    recon_grasp    = safe_normalize(recon_grasp) \n",
    "    recon_sense    = safe_normalize(recon_sense) \n",
    "    recon_fs       = safe_normalize(recon_fs) \n",
    "    recon_fs = apply_transform(recon_fs, volunteer_params['trans_gt'])\n",
    "    recon_grasp = apply_transform(recon_grasp, volunteer_params['trans'])\n",
    "    recon_sense = apply_transform(recon_sense, volunteer_params['trans'])\n",
    "    slice_data['recon'] = {\n",
    "        'fs': recon_fs,\n",
    "        'grasp': recon_grasp,\n",
    "        'sense': recon_sense\n",
    "    }\n",
    "\n",
    "    # === stDIP Reconstruction ===\n",
    "    stdip_parameters['exp_folder_path'] = os.path.join(stdip_parameters['path'], dataset_name, stdip_parameters['experiment_name'])\n",
    "    df_stdip = pd.read_csv(stdip_parameters['csv_path'], delimiter=';')\n",
    "    stDIP_results = filter_and_get_columns(df_stdip, stdip_parameters['training_params'], target_columns)[0]\n",
    "    stdip_parameters['best_recon_path'] = os.path.join(stdip_parameters['exp_folder_path'], stDIP_results['training_name'], 'best_recon.npz')\n",
    "    recon_stdip = onp.load(stdip_parameters['best_recon_path'], allow_pickle=True)['best_recon']\n",
    "    recon_stdip = safe_normalize(recon_stdip)\n",
    "    recon_stdip = apply_transform(recon_stdip, volunteer_params['trans'])\n",
    "    slice_data['recon']['stdip'] = recon_stdip\n",
    "\n",
    "    # === tdDIP Reconstruction ===\n",
    "    tddip_parameters['exp_folder_path'] = os.path.join(tddip_parameters['path'], dataset_name, tddip_parameters['experiment_name'])\n",
    "    df_tddip = pd.read_csv(tddip_parameters['csv_path'], delimiter=';')\n",
    "    tdDIP_results = filter_and_get_columns(df_tddip, tddip_parameters['training_params'], target_columns)[0]\n",
    "    tddip_parameters['best_recon_path'] = os.path.join(tddip_parameters['exp_folder_path'], tdDIP_results['training_name'], 'best_recon.npz')\n",
    "    recon_tddip = onp.load(tddip_parameters['best_recon_path'], allow_pickle=True)['best_recon']\n",
    "    recon_stdip = safe_normalize(recon_tddip)\n",
    "    recon_tddip = apply_transform(recon_tddip, volunteer_params['trans'])\n",
    "    slice_data['recon']['tddip'] = recon_tddip\n",
    "\n",
    "    # === fs Segmentations ===\n",
    "    seg_endo, seg_endo_fill, seg_end_area = read_segmentation(\n",
    "        os.path.join(segmentation_endo_folder, f\"{volunteer}_recon_fs_slice{i}.nii\"))\n",
    "    seg_sep = read_segmentation(\n",
    "        os.path.join(segmentation_septum_folder, f\"{volunteer}_recon_fs_slice{i}.nii\"), fill=False)\n",
    "    slice_data['segmentation'] = {\n",
    "        'fs': {\n",
    "            'sep': seg_sep,\n",
    "            'endo': seg_endo,\n",
    "            'endo_fill': seg_endo_fill,\n",
    "            'area_ed': seg_end_area[volunteer_params['EF_frames']['EDV_gt']],\n",
    "            'area_es': seg_end_area[volunteer_params['EF_frames']['ESV_gt']]\n",
    "        }\n",
    "    }\n",
    "\n",
    "    # === GRASP Segmentations ===\n",
    "    seg_endo, seg_endo_fill, seg_end_area = read_segmentation(\n",
    "        os.path.join(segmentation_endo_folder, f\"{volunteer}_grasp_slice{i}.nii\"))\n",
    "    seg_sep = read_segmentation(\n",
    "        os.path.join(segmentation_septum_folder, f\"{volunteer}_grasp_slice{i}.nii\"), fill=False)\n",
    "    slice_data['segmentation']['grasp'] = {\n",
    "        'sep': seg_sep,\n",
    "        'endo': seg_endo,\n",
    "        'endo_fill': seg_endo_fill,\n",
    "        'area_ed': seg_end_area[volunteer_params['EF_frames']['EDV']],\n",
    "        'area_es': seg_end_area[volunteer_params['EF_frames']['ESV']]\n",
    "    }\n",
    "    \n",
    "    # === stDIP Segmentations ===\n",
    "    seg_endo, seg_endo_fill, seg_end_area = read_segmentation(\n",
    "        os.path.join(segmentation_endo_folder, f\"{volunteer}_stdip_slice{i}.nii\"))\n",
    "    seg_sep = read_segmentation(\n",
    "        os.path.join(segmentation_septum_folder, f\"{volunteer}_stdip_slice{i}.nii\"), fill=False)\n",
    "    slice_data['segmentation']['stdip'] = {\n",
    "        'sep': seg_sep,\n",
    "        'endo': seg_endo,\n",
    "        'endo_fill': seg_endo_fill,\n",
    "        'area_ed': seg_end_area[volunteer_params['EF_frames']['EDV']],\n",
    "        'area_es': seg_end_area[volunteer_params['EF_frames']['ESV']]\n",
    "    }\n",
    "\n",
    "    # === tdDIP Segmentations ===\n",
    "    seg_endo, seg_endo_fill, seg_end_area = read_segmentation(\n",
    "        os.path.join(segmentation_endo_folder, f\"{volunteer}_tddip_slice{i}.nii\"))\n",
    "    seg_sep = read_segmentation(\n",
    "        os.path.join(segmentation_septum_folder, f\"{volunteer}_tddip_slice{i}.nii\"), fill=False)\n",
    "    slice_data['segmentation']['tddip'] = {\n",
    "        'sep': seg_sep,\n",
    "        'endo': seg_endo,\n",
    "        'endo_fill': seg_endo_fill,\n",
    "        'area_ed': seg_end_area[volunteer_params['EF_frames']['EDV']],\n",
    "        'area_es': seg_end_area[volunteer_params['EF_frames']['ESV']]\n",
    "    }\n",
    "\n",
    "    # === Save Slice Info ===\n",
    "    slice_data['metadata'] = {\n",
    "        'slice_number': i,\n",
    "        'dataset_name': dataset_name,\n",
    "        'volunteer_params': volunteer_params\n",
    "    }\n",
    "\n",
    "    all_slices_data.append(slice_data)\n"
   ]
  },
  {
   "cell_type": "code",
   "execution_count": null,
   "id": "ff63b8cf-4f2c-4616-8f6f-939f37270b2f",
   "metadata": {},
   "outputs": [],
   "source": [
    "all_slices_data[0]['metadata']['volunteer_params']"
   ]
  },
  {
   "cell_type": "markdown",
   "id": "6c591998-ba7a-4969-9234-be5009493eb3",
   "metadata": {},
   "source": [
    "## Functions"
   ]
  },
  {
   "cell_type": "code",
   "execution_count": null,
   "id": "7ccb23d4-211d-407e-a949-e8ec28bd7f00",
   "metadata": {},
   "outputs": [],
   "source": [
    "from scipy.ndimage import center_of_mass\n",
    "\n",
    "def get_center_of_mass(segmentation_2d):\n",
    "    cy, cx = center_of_mass(segmentation_2d)\n",
    "    return cy, cx\n",
    "\n",
    "def get_center_of_mass_dict(segmentation_3d):\n",
    "    centers_dict = {\n",
    "        'cx': [], \n",
    "        'cy': []\n",
    "    }\n",
    "    for i in range(segmentation_3d.shape[-1]):\n",
    "        cy, cx = get_center_of_mass(segmentation_3d[..., i])\n",
    "        centers_dict['cy'].append(  cy  )\n",
    "        centers_dict['cx'].append(  cx  )\n",
    "    return centers_dict\n",
    "    \n",
    "def get_random_point(segmentation):\n",
    "    \"\"\"Returns a random (row, col) point from a 2D binary segmentation.\"\"\"\n",
    "    indices = onp.argwhere(segmentation > 0)\n",
    "    if indices.size == 0:\n",
    "        raise ValueError(\"Segmentation is empty.\")\n",
    "    random_index = onp.random.choice(len(indices))\n",
    "    return tuple(indices[random_index])\n",
    "\n",
    "def get_random_point_list(segmentation_3d):\n",
    "    random_dict = {\n",
    "        'cx': [], \n",
    "        'cy': []\n",
    "    }\n",
    "    for i in range(segmentation_3d.shape[-1]):\n",
    "        cy, cx = get_random_point(segmentation_3d[..., i])\n",
    "        random_dict['cy'].append(  cy  )\n",
    "        random_dict['cx'].append(  cx  )\n",
    "    return random_dict"
   ]
  },
  {
   "cell_type": "code",
   "execution_count": null,
   "id": "0862893a-5535-400d-af90-9eb0d0c59ee0",
   "metadata": {},
   "outputs": [],
   "source": [
    "def get_all_points(segmentation):\n",
    "    \"\"\"Returns a list of (row, col) points from a 2D binary segmentation.\"\"\"\n",
    "    indices = onp.argwhere(segmentation > 0)\n",
    "    if indices.size == 0:\n",
    "        raise ValueError(\"Segmentation is empty.\")\n",
    "    return [tuple(idx) for idx in indices]\n",
    "\n",
    "def get_all_points_per_slice(segmentation_3d):\n",
    "    \"\"\"\n",
    "    Returns a dictionary with lists of (cy, cx) points for each slice \n",
    "    in a 3D binary segmentation.\n",
    "    \"\"\"\n",
    "    all_points_dict = {\n",
    "        'cx': [],  # List of lists\n",
    "        'cy': []   # Each sublist contains all cx/cy for a slice\n",
    "    }\n",
    "\n",
    "    for i in range(segmentation_3d.shape[-1]):\n",
    "        indices = onp.argwhere(segmentation_3d[..., i] > 0)\n",
    "        if indices.size == 0:\n",
    "            all_points_dict['cy'].append([])\n",
    "            all_points_dict['cx'].append([])\n",
    "        else:\n",
    "            cy_list = [int(pt[0]) for pt in indices]\n",
    "            cx_list = [int(pt[1]) for pt in indices]\n",
    "            all_points_dict['cy'].append(cy_list)\n",
    "            all_points_dict['cx'].append(cx_list)\n",
    "\n",
    "    return all_points_dict"
   ]
  },
  {
   "cell_type": "code",
   "execution_count": null,
   "id": "0dce3935-c9fe-4798-b2ad-5b6db1832014",
   "metadata": {},
   "outputs": [],
   "source": [
    "from inrmri.image_processor import crop_2d_im \n",
    "from inrmri.sharpness import (\n",
    "    radial_sharpness,\n",
    "    extract_line_at_points,\n",
    "    get_line_points_from_angle,\n",
    "    find_percentile_idx, \n",
    "    get_distance\n",
    ")"
   ]
  },
  {
   "cell_type": "code",
   "execution_count": null,
   "id": "3fd7f7c3-5ccd-4c20-83d8-11be4a32450c",
   "metadata": {},
   "outputs": [],
   "source": [
    "import numpy as np\n",
    "from scipy.ndimage import map_coordinates\n",
    "\n",
    "def get_line_points(p1, p2, num=100):\n",
    "    \"\"\"\n",
    "    Get equally spaced points between p1 and p2.\n",
    "    Args:\n",
    "        p1: (x1, y1)\n",
    "        p2: (x2, y2)\n",
    "        num: number of points\n",
    "    Returns:\n",
    "        2 x N array with row coords and col coords\n",
    "    \"\"\"\n",
    "    x_vals = np.linspace(p1[0], p2[0], num)\n",
    "    y_vals = np.linspace(p1[1], p2[1], num)\n",
    "    return np.vstack([x_vals, y_vals])\n",
    "\n",
    "def sample_line_from_image(image, p1, p2, num=100):\n",
    "    \"\"\"\n",
    "    Sample image intensity along a line between two points.\n",
    "    Args:\n",
    "        image: 2D numpy array\n",
    "        p1, p2: (x, y) start and end coordinates (row, col)\n",
    "        num: number of points along the line\n",
    "    Returns:\n",
    "        values: intensity values along the line\n",
    "        coords: (2 x N) coordinates sampled\n",
    "    \"\"\"\n",
    "    coords = get_line_points(p1, p2, num)\n",
    "    values = map_coordinates(image, coords, order=1, mode='reflect')\n",
    "    return values, coords\n",
    "\n",
    "def plot_image_and_projection(image, coords, values, interpolation_factor, vmax=1.0, sigmoid_fit=False):\n",
    "    fig, axes = plt.subplots(1, 2, figsize=(10, 5))\n",
    "\n",
    "    x_values = [i / interpolation_factor for i in range(len(values))]\n",
    "\n",
    "    # Image with line\n",
    "    ax1 = axes[0]\n",
    "    ax1.imshow(np.clip(image, 0, vmax), cmap='bone', vmin=0, vmax=vmax)\n",
    "    ax1.scatter(coords[1], coords[0], s=1, c='red')  # coords: (row, col)\n",
    "    ax1.set_title(\"Image and Sampled Line\")\n",
    "    ax1.axis('off')\n",
    "\n",
    "    # Projection\n",
    "    ax2 = axes[1]\n",
    "    ax2.plot(x_values, values, 'b.', label='Profile')\n",
    "    \n",
    "    if sigmoid_fit:\n",
    "        fitted, params, x_centered, r2 = fit_sigmoid(values)\n",
    "        if fitted is not None:\n",
    "            ax2.plot(x_values, fitted, 'r-', label=f'Fitted Sigmoid\\nR²={r2:.3f}')\n",
    "        else:\n",
    "            ax2.set_title(\"Sigmoid fit failed\")\n",
    "    else:\n",
    "        ax2.plot(x_values,values, 'b.')\n",
    "\n",
    "    ax2.set_title(\"Intensity Profile Along Line\")\n",
    "    ax2.set_xlabel(\"Sample Index\")\n",
    "    ax2.set_ylabel(\"Intensity\")\n",
    "    ax2.legend()\n",
    "\n",
    "    plt.tight_layout()\n",
    "    plt.show()\n",
    "    if sigmoid_fit:\n",
    "        return fitted, params, x_centered, r2"
   ]
  },
  {
   "cell_type": "code",
   "execution_count": null,
   "id": "63721abf-f57c-4c76-b9be-fc25cd38f2bb",
   "metadata": {},
   "outputs": [],
   "source": [
    "import math\n",
    "def compute_distance_two_points_2d(point1,point2, bool_round=False):\n",
    "    distance = math.sqrt((point2[0] - point1[0])**2 + (point2[1] - point1[1])**2)\n",
    "    if bool_round:\n",
    "        distance = round(distance)\n",
    "    return distance\n",
    "\n",
    "def first_index_greater_than(lst, value):\n",
    "    for i, v in enumerate(lst):\n",
    "        if v > value:\n",
    "            return i\n",
    "    return -1  # or None if no such element exists"
   ]
  },
  {
   "cell_type": "code",
   "execution_count": null,
   "id": "e8b6f987-76ab-4f41-aede-75dfaa059e05",
   "metadata": {},
   "outputs": [],
   "source": [
    "import numpy as np\n",
    "from scipy.optimize import curve_fit\n",
    "from sklearn.metrics import r2_score\n",
    "import matplotlib.pyplot as plt\n",
    "\n",
    "def safe_sigmoid(x, L, x0, k, b):\n",
    "    z = -k * (x - x0)\n",
    "    z = np.clip(z, -500, 500)\n",
    "    return L / (1 + np.exp(z)) + b\n",
    "\n",
    "def fit_sigmoid(profile, p0=None, bounds=None, show_plot=False):\n",
    "    y = np.asarray(profile)\n",
    "    estimated_center_value = (np.max(y) + np.min(y))/2\n",
    "    estimated_center_idx = first_index_greater_than(y, estimated_center_value)\n",
    "    x_centered = np.arange(len(y)) - estimated_center_idx\n",
    "\n",
    "    if p0 is None:\n",
    "        p0 = [np.max(y) - np.min(y), 0, 0.1, np.min(y)]\n",
    "    if bounds is None:\n",
    "        bounds = ([0, -np.inf, -10, -np.inf], [np.inf, np.inf, 10, np.inf])\n",
    "\n",
    "    try:\n",
    "        popt, _ = curve_fit(\n",
    "            safe_sigmoid, x_centered, y, p0,\n",
    "            method='trf', maxfev=10000, bounds=bounds\n",
    "        )\n",
    "        fitted_profile = safe_sigmoid(x_centered, *popt)\n",
    "        r2 = r2_score(y, fitted_profile)\n",
    "\n",
    "        if show_plot:\n",
    "            plt.figure()\n",
    "            plt.plot(x_centered, y, 'bo', label='Data')\n",
    "            plt.plot(x_centered, fitted_profile, 'r-', label='Fit')\n",
    "            plt.legend()\n",
    "            plt.title(f\"Sigmoid Fit (R² = {r2:.3f})\")\n",
    "            plt.xlabel('Centered x')\n",
    "            plt.ylabel('y')\n",
    "            plt.grid(True)\n",
    "            plt.show()\n",
    "\n",
    "        return fitted_profile, popt, x_centered, r2\n",
    "    except RuntimeError:\n",
    "        print(\"Sigmoid fit did not converge.\")\n",
    "        return None, None, x_centered, None\n",
    "\n"
   ]
  },
  {
   "cell_type": "code",
   "execution_count": null,
   "id": "217ad5ee-3115-4379-b589-058ceac3fe7f",
   "metadata": {},
   "outputs": [],
   "source": [
    "def compute_20_80_statistics(values, coords):\n",
    "    # find_percentile_idx funciona en un vector ordenado y entrega el indice más\n",
    "    # cercano al valor min + (max-min)*p/100, con p=20 y 80\n",
    "    idx_sorting   = np.argsort(values)\n",
    "    idx_sorted_20, p20 = find_percentile_idx(values[idx_sorting], 20) \n",
    "    idx_sorted_80, p80 = find_percentile_idx(values[idx_sorting], 80) \n",
    "    \n",
    "    # encontrar los índeces del vector original \n",
    "    corrected_idxs = np.arange(values.shape[0])[idx_sorting]\n",
    "    idx_20 = corrected_idxs[idx_sorted_20]\n",
    "    idx_80 = corrected_idxs[idx_sorted_80]\n",
    "    \n",
    "    # get_distance(points) es 1 si los puntos están en horizontal o vertical \n",
    "    # pero es mayor cuando los puntos están en diagonal\n",
    "    d_20_80 = np.abs(idx_20 - idx_80)\n",
    "    d       = d_20_80 * get_distance(coords.T)\n",
    "    dict_20_80_statistics = {\n",
    "        'p20':p20,\n",
    "        'p80':p80,\n",
    "        'idx_20':idx_20,\n",
    "        'idx_80':idx_80,\n",
    "        'd_20_80':d_20_80,\n",
    "        'd':d,\n",
    "    }\n",
    "    return dict_20_80_statistics\n",
    "\n",
    "def plot_20_80_statistics(values, dict_20_80_statistics, interpolation_factor):\n",
    "    p20     = dict_20_80_statistics['p20'] \n",
    "    p80     = dict_20_80_statistics['p80']\n",
    "    idx_20  = dict_20_80_statistics['idx_20']   / interpolation_factor\n",
    "    idx_80  = dict_20_80_statistics['idx_80']   / interpolation_factor\n",
    "    d_20_80 = dict_20_80_statistics['d_20_80']  / interpolation_factor\n",
    "    d       = dict_20_80_statistics['d']\n",
    "\n",
    "    x_values = [i / interpolation_factor for i in range(len(values))]\n",
    "    \n",
    "    plt.plot(x_values, values, '.-', color = 'red', label= 'profile')\n",
    "    \n",
    "    p20_color = 'orange'\n",
    "    plt.hlines([p20], xmin=0, xmax=14, color=p20_color, label='p20', linestyles=(0,(1,3)))\n",
    "    plt.vlines([idx_20], ymin=values.min(), ymax=values.max(), color=p20_color, label='idx_20', linestyles=(0,(1,1)))\n",
    "    \n",
    "    p80_color = 'blue'\n",
    "    plt.hlines([p80], xmin=0, xmax=14, color=p80_color, label='p80', linestyles=(0, (3,3,1,3)))\n",
    "    plt.vlines([idx_80], ymin=values.min(), ymax=values.max(), color=p80_color, label='idx_80', linestyles=(0, (3,1,1,1)))\n",
    "    \n",
    "    plt.hlines([values.min()], xmin=idx_20, xmax=idx_80, color='gray', linestyles='-')\n",
    "    plt.text(x=(idx_20 + idx_80)/2, y=values.min() + 0.07 * (values.max() - values.min()), s='$d_{20, 80} = $' + f'{d_20_80}', ha='center', va='center', color='gray')\n",
    "    \n",
    "    plt.legend(bbox_to_anchor=(1.05, 1), loc='upper left')\n",
    "    plt.title('$d_{20,80} = ' f'{d:.3f}$, sharpness 1/d {1 / d:.3f}')\n",
    "    plt.tight_layout()\n",
    "    plt.show()"
   ]
  },
  {
   "cell_type": "markdown",
   "id": "f26d9628-c3ef-4a68-a2df-ecd1bab8334f",
   "metadata": {},
   "source": [
    "# 1 .- Select points"
   ]
  },
  {
   "cell_type": "code",
   "execution_count": null,
   "id": "d75a151d-5e51-4d8a-91c2-85e38f2de0de",
   "metadata": {},
   "outputs": [],
   "source": [
    "interpolation_factor = 100\n",
    "selected_slice = 3"
   ]
  },
  {
   "cell_type": "code",
   "execution_count": null,
   "id": "51e98a9d-53b7-4e5c-82ac-b2386ab90b75",
   "metadata": {},
   "outputs": [],
   "source": [
    "slice_data       = all_slices_data[selected_slice]\n",
    "recon            = np.abs(slice_data['recon']['fs'])\n",
    "seg_endo         = slice_data['segmentation']['fs']['endo']\n",
    "seg_sep          = slice_data['segmentation']['fs']['sep']\n",
    "volunteer_params = all_slices_data[selected_slice]['metadata']['volunteer_params']\n",
    "slice_idx_EDV    = volunteer_params['EF_frames']['EDV']\n",
    "slice_idx_ESV    = volunteer_params['EF_frames']['ESV']\n",
    "centers_dict = get_center_of_mass_dict(seg_endo)\n",
    "random_dict  = get_random_point_list(seg_sep)\n",
    "all_dict     = get_all_points_per_slice(seg_sep)\n",
    "vmax         = volunteer_params['saturation']"
   ]
  },
  {
   "cell_type": "markdown",
   "id": "4d3e29a4-ba69-41d6-9bce-290a3e801cc7",
   "metadata": {},
   "source": [
    "## 1.1 .- EDV"
   ]
  },
  {
   "cell_type": "code",
   "execution_count": null,
   "id": "b6cd97cf-58b3-481b-b660-dea224d21b5c",
   "metadata": {},
   "outputs": [],
   "source": [
    "fig, axes = plt.subplots(1, 2, figsize=(10, 5))  # 1 row, 2 columns\n",
    "\n",
    "# --- Left subplot: Endocardium + center ---\n",
    "ax = axes[0]\n",
    "ax.imshow(np.clip(recon[:, :, slice_idx_EDV], 0, vmax), cmap='bone', vmin=0, vmax=vmax)\n",
    "ax.contour(seg_endo[:, :, slice_idx_EDV], levels=[0.5], colors='red', linewidths=1.5)\n",
    "ax.plot(centers_dict['cx'][slice_idx_EDV], centers_dict['cy'][slice_idx_EDV], 'yo', markersize=6)\n",
    "ax.set_title('Endocardium + Center')\n",
    "\n",
    "# --- Right subplot: Septum + random point ---\n",
    "ax = axes[1]\n",
    "ax.imshow(np.clip(recon[:, :, slice_idx_EDV], 0, vmax), cmap='bone', vmin=0, vmax=vmax)\n",
    "ax.contour(seg_sep[:, :, slice_idx_EDV], levels=[0.5], colors='lime', linewidths=1.5)\n",
    "ax.plot(random_dict['cx'][slice_idx_EDV], random_dict['cy'][slice_idx_EDV], 'bo', markersize=6)\n",
    "ax.set_title('Septum + Random Point')\n",
    "\n",
    "plt.tight_layout()\n",
    "plt.show()"
   ]
  },
  {
   "cell_type": "code",
   "execution_count": null,
   "id": "bc38a7aa-8227-44ad-a2d0-f131c19ab3af",
   "metadata": {
    "scrolled": true
   },
   "outputs": [],
   "source": [
    "p2 = (centers_dict['cy'][slice_idx_EDV], centers_dict['cx'][slice_idx_EDV])\n",
    "for i in range(  len(all_dict['cx'][0])  ):\n",
    "    p1 = (all_dict['cy'][slice_idx_EDV][i], all_dict['cx'][slice_idx_EDV][i])\n",
    "    values, coords = sample_line_from_image(recon[:,:,slice_idx_EDV], p1, p2, num=interpolation_factor*compute_distance_two_points_2d(p1, p2, bool_round=True))\n",
    "    plot_image_and_projection(recon[:,:,slice_idx_EDV], coords, values, interpolation_factor, vmax=vmax, sigmoid_fit = True)"
   ]
  },
  {
   "cell_type": "code",
   "execution_count": null,
   "id": "8d5157d7-764b-4b95-9f1d-099e0ea75ab0",
   "metadata": {},
   "outputs": [],
   "source": [
    "p2 = (centers_dict['cy'][slice_idx_EDV], centers_dict['cx'][slice_idx_EDV])\n",
    "p1 = (all_dict['cy'][slice_idx_EDV][3], all_dict['cx'][slice_idx_EDV][3])\n",
    "values, coords = sample_line_from_image(recon[:,:,slice_idx_EDV], p1, p2, num=interpolation_factor*compute_distance_two_points_2d(p1, p2, bool_round=True))\n",
    "fitted, params, x_centered, r2 = plot_image_and_projection(recon[:,:,slice_idx_EDV], coords, values, interpolation_factor, vmax=vmax, sigmoid_fit = True)"
   ]
  },
  {
   "cell_type": "code",
   "execution_count": null,
   "id": "c762da82-2d6d-4031-b7cd-38ca579c7281",
   "metadata": {},
   "outputs": [],
   "source": [
    "np.max(values), np.min(values), np.max(values) - np.min(values)"
   ]
  },
  {
   "cell_type": "code",
   "execution_count": null,
   "id": "a54fe5c4-66b1-44c4-81a3-c93df79b525f",
   "metadata": {},
   "outputs": [],
   "source": [
    "plt.plot(x_centered, values)"
   ]
  },
  {
   "cell_type": "markdown",
   "id": "992ca907-b039-4012-a702-bd4c518153f5",
   "metadata": {},
   "source": [
    "## 1.2 .- ESV"
   ]
  },
  {
   "cell_type": "code",
   "execution_count": null,
   "id": "59034eca-acb4-4e64-892e-e46b48e357df",
   "metadata": {},
   "outputs": [],
   "source": [
    "fig, axes = plt.subplots(1, 2, figsize=(10, 5))  # 1 row, 2 columns\n",
    "\n",
    "# --- Left subplot: Endocardium + center ---\n",
    "ax = axes[0]\n",
    "ax.imshow(np.clip(recon[:, :, slice_idx_ESV], 0, vmax), cmap='bone', vmin=0, vmax=vmax)\n",
    "ax.contour(seg_endo[:, :, slice_idx_ESV], levels=[0.5], colors='red', linewidths=1.5)\n",
    "ax.plot(centers_dict['cx'][slice_idx_ESV], centers_dict['cy'][slice_idx_ESV], 'yo', markersize=6)\n",
    "ax.set_title('Endocardium + Center')\n",
    "\n",
    "# --- Right subplot: Septum + random point ---\n",
    "ax = axes[1]\n",
    "ax.imshow(np.clip(recon[:, :, slice_idx_ESV], 0, vmax), cmap='bone', vmin=0, vmax=vmax)\n",
    "ax.contour(seg_sep[:, :, slice_idx_ESV], levels=[0.5], colors='lime', linewidths=1.5)\n",
    "ax.plot(random_dict['cx'][slice_idx_ESV], random_dict['cy'][slice_idx_ESV], 'bo', markersize=6)\n",
    "ax.set_title('Septum + Random Point')\n",
    "\n",
    "plt.tight_layout()\n",
    "plt.show()"
   ]
  },
  {
   "cell_type": "code",
   "execution_count": null,
   "id": "ce0c6376-c8c6-46dd-9ed5-1762ef55c857",
   "metadata": {
    "scrolled": true
   },
   "outputs": [],
   "source": [
    "p2 = (centers_dict['cy'][slice_idx_ESV], centers_dict['cx'][slice_idx_ESV])\n",
    "for i in range(  len(all_dict['cx'][slice_idx_ESV])  ):\n",
    "    p1 = (all_dict['cy'][slice_idx_ESV][i], all_dict['cx'][slice_idx_ESV][i])\n",
    "    values, coords = sample_line_from_image(recon[:,:,slice_idx_ESV], p1, p2, num=interpolation_factor*compute_distance_two_points_2d(p1, p2, bool_round=True))\n",
    "    plot_image_and_projection(recon[:,:,slice_idx_ESV], coords, values, interpolation_factor, vmax=vmax, sigmoid_fit = True)"
   ]
  },
  {
   "cell_type": "markdown",
   "id": "59dac253-301c-4cb7-b929-9047e0d8839a",
   "metadata": {},
   "source": [
    "# 4 .- Get 20 80 statistics per line"
   ]
  },
  {
   "cell_type": "code",
   "execution_count": null,
   "id": "caaeef43-ede0-4507-b7d2-7e899338f3d6",
   "metadata": {
    "scrolled": true
   },
   "outputs": [],
   "source": [
    "p2 = (centers_dict['cy'][0], centers_dict['cx'][0])\n",
    "for i in range(  len(all_dict['cx'][0])  ):\n",
    "    p1 = (all_dict['cy'][0][i], all_dict['cx'][0][i])\n",
    "    values, coords = sample_line_from_image(recon[:,:,0], p1, p2, num=interpolation_factor*compute_distance_two_points_2d(p1, p2, bool_round=True))\n",
    "    fitted, params, x_centered, r2 = fit_sigmoid(values)\n",
    "    dict_20_80_statistics =  compute_20_80_statistics(fitted, coords)\n",
    "    plot_20_80_statistics(fitted, dict_20_80_statistics, interpolation_factor)"
   ]
  },
  {
   "cell_type": "markdown",
   "id": "65a4c9b5-767b-4aaa-9364-4de1e074c101",
   "metadata": {},
   "source": [
    "## Create a function that gets the mean edge sharpness"
   ]
  },
  {
   "cell_type": "code",
   "execution_count": null,
   "id": "849f2d0c-bdfb-4e9d-ac21-49016bce6c91",
   "metadata": {},
   "outputs": [],
   "source": [
    "slice_idx_EDV = volunteer_params['EF_frames']['EDV']\n",
    "slice_idx_ESV = volunteer_params['EF_frames']['ESV']"
   ]
  },
  {
   "cell_type": "code",
   "execution_count": null,
   "id": "82b0fe3c-658b-46e4-a0a7-531385378f97",
   "metadata": {},
   "outputs": [],
   "source": [
    "def get_edge_sharpness(recon, seg_endo, seg_sep, interpolation_factor, slice_idx):\n",
    "    centers_dict = get_center_of_mass_dict(seg_endo)\n",
    "    all_dict     = get_all_points_per_slice(seg_sep)\n",
    "    # data from the selected frame\n",
    "    recon_slice = recon[:,:,slice_idx]\n",
    "    # loop\n",
    "    d_list = []\n",
    "    p2 = (centers_dict['cy'][slice_idx], centers_dict['cx'][slice_idx])\n",
    "    for i in range(  len(all_dict['cx'][slice_idx])  ):\n",
    "        p1 = (all_dict['cy'][slice_idx][i],  all_dict['cx'][slice_idx][i])\n",
    "        values, coords = sample_line_from_image(recon_slice, p1, p2, num=round(interpolation_factor*compute_distance_two_points_2d(p1, p2)))\n",
    "        fitted, params, x_centered, r2 = fit_sigmoid(values)\n",
    "        dict_20_80_statistics =  compute_20_80_statistics(fitted, coords)\n",
    "        d_list.append(dict_20_80_statistics['d'])\n",
    "    return d_list"
   ]
  },
  {
   "cell_type": "markdown",
   "id": "12b5761d-a787-419c-8f31-0e5581770191",
   "metadata": {},
   "source": [
    "# FS"
   ]
  },
  {
   "cell_type": "code",
   "execution_count": null,
   "id": "d2ad698d-23b9-4ddb-b189-064755c006fe",
   "metadata": {},
   "outputs": [],
   "source": [
    "edv_all = []\n",
    "esv_all = []\n",
    "\n",
    "es_edv_all = []\n",
    "es_esv_all = []\n",
    "\n",
    "edv_mean = []\n",
    "esv_mean = []\n",
    "edv_std = []\n",
    "esv_std = []\n",
    "\n",
    "es_edv_mean = []\n",
    "es_esv_mean = []\n",
    "es_edv_std = []\n",
    "es_esv_std = []\n",
    "\n",
    "for selected_slice in range(8):\n",
    "    print('slice: ', str(selected_slice))\n",
    "    # slice data\n",
    "    slice_data       = all_slices_data[selected_slice]\n",
    "    recon            = np.abs(slice_data['recon']['fs'])\n",
    "    seg_endo         = slice_data['segmentation']['fs']['endo']\n",
    "    seg_sep          = slice_data['segmentation']['fs']['sep']\n",
    "    volunteer_params = all_slices_data[selected_slice]['metadata']['volunteer_params']\n",
    "    slice_idx_EDV    = volunteer_params['EF_frames']['EDV_gt']\n",
    "    slice_idx_ESV    = volunteer_params['EF_frames']['ESV_gt']\n",
    "    # get edge sharpness\n",
    "    d_list_edv = get_edge_sharpness(recon, seg_endo, seg_sep, interpolation_factor, slice_idx_EDV)\n",
    "    d_list_esv = get_edge_sharpness(recon, seg_endo, seg_sep, interpolation_factor, slice_idx_ESV)\n",
    "    edv_all = edv_all + d_list_edv\n",
    "    esv_all = esv_all + d_list_esv\n",
    "    d_list_edv = np.array(d_list_edv)\n",
    "    d_list_esv = np.array(d_list_esv)\n",
    "    es_edv_all = es_edv_all + list(1 / d_list_edv)\n",
    "    es_esv_all = es_edv_all + list(1 / d_list_esv)\n",
    "    # save\n",
    "    edv_mean.append(np.mean(d_list_edv))\n",
    "    esv_mean.append(np.mean(d_list_esv))\n",
    "    edv_std.append(np.std(d_list_edv))\n",
    "    esv_std.append(np.std(d_list_esv))\n",
    "\n",
    "    es_edv_mean.append(np.mean(1 / d_list_edv))\n",
    "    es_esv_mean.append(np.mean(1 / d_list_esv))\n",
    "    es_edv_std.append(np.std(1 / d_list_edv))\n",
    "    es_esv_std.append(np.std(1 / d_list_esv))"
   ]
  },
  {
   "cell_type": "code",
   "execution_count": null,
   "id": "823455d6-f78c-4f7c-b100-03290633c1a9",
   "metadata": {},
   "outputs": [],
   "source": [
    "plt.plot(edv_mean)\n",
    "plt.plot(esv_mean)"
   ]
  },
  {
   "cell_type": "code",
   "execution_count": null,
   "id": "4a7eb143-b1ff-4c83-a963-8140c68e2408",
   "metadata": {},
   "outputs": [],
   "source": [
    "plt.plot(es_edv_mean)\n",
    "plt.plot(es_esv_mean)"
   ]
  },
  {
   "cell_type": "code",
   "execution_count": null,
   "id": "795f78c1-2f76-4bc8-bbf1-a078e251c451",
   "metadata": {},
   "outputs": [],
   "source": [
    "print('overall distance EDV: ' , round(np.mean(edv_all),2) ,  ' +- ', round(np.std(edv_all),2))\n",
    "print('overall distance ESV: ' , round(np.mean(esv_all),2) ,  ' +- ', round(np.std(esv_all),2))"
   ]
  },
  {
   "cell_type": "code",
   "execution_count": null,
   "id": "147d9775-ff01-405f-a9ad-6e1f3c4edc3c",
   "metadata": {},
   "outputs": [],
   "source": [
    "print('overall edge sharpness EDV: ' , round(np.mean(es_edv_all),2) ,  ' +- ', round(np.std(es_edv_all),2))\n",
    "print('overall edge sharpness ESV: ' , round(np.mean(es_esv_all),2) ,  ' +- ', round(np.std(es_esv_all),2))"
   ]
  },
  {
   "cell_type": "code",
   "execution_count": null,
   "id": "cbd4a599-87c6-4c11-b1e0-fa65e4d984e0",
   "metadata": {},
   "outputs": [],
   "source": [
    "print('overall distance EDV: ' , round(np.mean(edv_mean),2) ,  ' +- ', round(np.std(edv_mean),2))\n",
    "print('overall distance ESV: ' , round(np.mean(esv_mean),2) ,  ' +- ', round(np.std(esv_mean),2))"
   ]
  },
  {
   "cell_type": "code",
   "execution_count": null,
   "id": "17030f28-63cf-41c9-a68e-6646311c5925",
   "metadata": {},
   "outputs": [],
   "source": [
    "print('overall edge sharpness EDV: ' , round(np.mean(es_edv_mean),2) ,  ' +- ', round(np.std(es_edv_mean),2))\n",
    "print('overall edge sharpness ESV: ' , round(np.mean(es_esv_mean),2) ,  ' +- ', round(np.std(es_esv_mean),2))"
   ]
  },
  {
   "cell_type": "markdown",
   "id": "878ba501-8186-4f1e-bc7a-0abc804fce82",
   "metadata": {},
   "source": [
    "# ST-DIP"
   ]
  },
  {
   "cell_type": "code",
   "execution_count": null,
   "id": "1baf58ee-8ee0-4da9-9602-18d8682bcb05",
   "metadata": {
    "scrolled": true
   },
   "outputs": [],
   "source": [
    "edv_all = []\n",
    "esv_all = []\n",
    "\n",
    "es_edv_all = []\n",
    "es_esv_all = []\n",
    "\n",
    "edv_mean = []\n",
    "esv_mean = []\n",
    "edv_std = []\n",
    "esv_std = []\n",
    "\n",
    "es_edv_mean = []\n",
    "es_esv_mean = []\n",
    "es_edv_std = []\n",
    "es_esv_std = []\n",
    "\n",
    "for selected_slice in range(8):\n",
    "    print('slice: ', str(selected_slice))\n",
    "    # slice data\n",
    "    slice_data       = all_slices_data[selected_slice]\n",
    "    recon            = np.abs(slice_data['recon']['stdip'])\n",
    "    seg_endo         = slice_data['segmentation']['stdip']['endo']\n",
    "    seg_sep          = slice_data['segmentation']['stdip']['sep']\n",
    "    volunteer_params = all_slices_data[selected_slice]['metadata']['volunteer_params']\n",
    "    slice_idx_EDV    = volunteer_params['EF_frames']['EDV']\n",
    "    slice_idx_ESV    = volunteer_params['EF_frames']['ESV']\n",
    "    # get edge sharpness\n",
    "    d_list_edv = get_edge_sharpness(recon, seg_endo, seg_sep, interpolation_factor, slice_idx_EDV)\n",
    "    d_list_esv = get_edge_sharpness(recon, seg_endo, seg_sep, interpolation_factor, slice_idx_ESV)\n",
    "    edv_all = edv_all + d_list_edv\n",
    "    esv_all = esv_all + d_list_esv\n",
    "    d_list_edv = np.array(d_list_edv)\n",
    "    d_list_esv = np.array(d_list_esv)\n",
    "    es_edv_all = es_edv_all + list(1 / d_list_edv)\n",
    "    es_esv_all = es_edv_all + list(1 / d_list_esv)\n",
    "    # save\n",
    "    edv_mean.append(np.mean(d_list_edv))\n",
    "    esv_mean.append(np.mean(d_list_esv))\n",
    "    edv_std.append(np.std(d_list_edv))\n",
    "    esv_std.append(np.std(d_list_esv))\n",
    "\n",
    "    es_edv_mean.append(np.mean(1 / d_list_edv))\n",
    "    es_esv_mean.append(np.mean(1 / d_list_esv))\n",
    "    es_edv_std.append(np.std(1 / d_list_edv))\n",
    "    es_esv_std.append(np.std(1 / d_list_esv))"
   ]
  },
  {
   "cell_type": "code",
   "execution_count": null,
   "id": "3e420d7f-b2c1-4cea-ad2f-83da50061e94",
   "metadata": {},
   "outputs": [],
   "source": [
    "plt.plot(edv_mean)\n",
    "plt.plot(esv_mean)"
   ]
  },
  {
   "cell_type": "code",
   "execution_count": null,
   "id": "7375893e-74bf-4ba4-97a0-f3f5e3ae2f9a",
   "metadata": {},
   "outputs": [],
   "source": [
    "plt.plot(es_edv_mean)\n",
    "plt.plot(es_esv_mean)"
   ]
  },
  {
   "cell_type": "code",
   "execution_count": null,
   "id": "4da3acf9-097c-4783-9f80-6d997f5ca9e9",
   "metadata": {},
   "outputs": [],
   "source": [
    "print('overall distance EDV: ' , round(np.mean(edv_all),2) ,  ' +- ', round(np.std(edv_all),2))\n",
    "print('overall distance ESV: ' , round(np.mean(esv_all),2) ,  ' +- ', round(np.std(esv_all),2))"
   ]
  },
  {
   "cell_type": "code",
   "execution_count": null,
   "id": "6f7864f2-f6e0-465f-b016-3560e9dc7472",
   "metadata": {},
   "outputs": [],
   "source": [
    "print('overall edge sharpness EDV: ' , round(np.mean(es_edv_all),2) ,  ' +- ', round(np.std(es_edv_all),2))\n",
    "print('overall edge sharpness ESV: ' , round(np.mean(es_esv_all),2) ,  ' +- ', round(np.std(es_esv_all),2))"
   ]
  },
  {
   "cell_type": "code",
   "execution_count": null,
   "id": "9cbd2d06-4e99-4086-b01a-83869c26fb0b",
   "metadata": {},
   "outputs": [],
   "source": [
    "print('overall distance EDV: ' , round(np.mean(edv_mean),2) ,  ' +- ', round(np.std(edv_mean),2))\n",
    "print('overall distance ESV: ' , round(np.mean(esv_mean),2) ,  ' +- ', round(np.std(esv_mean),2))"
   ]
  },
  {
   "cell_type": "code",
   "execution_count": null,
   "id": "db11fab8-4267-4acb-be35-f5df5e27d2fd",
   "metadata": {},
   "outputs": [],
   "source": [
    "print('overall edge sharpness EDV: ' , round(np.mean(es_edv_mean),2) ,  ' +- ', round(np.std(es_edv_mean),2))\n",
    "print('overall edge sharpness ESV: ' , round(np.mean(es_esv_mean),2) ,  ' +- ', round(np.std(es_esv_mean),2))"
   ]
  },
  {
   "cell_type": "markdown",
   "id": "e1f156c3-5498-419e-a958-2369ac399884",
   "metadata": {},
   "source": [
    "# TD-DIP"
   ]
  },
  {
   "cell_type": "code",
   "execution_count": null,
   "id": "7d4b856c-36e1-4606-be7f-33bc6e14912f",
   "metadata": {},
   "outputs": [],
   "source": [
    "edv_all = []\n",
    "esv_all = []\n",
    "\n",
    "es_edv_all = []\n",
    "es_esv_all = []\n",
    "\n",
    "edv_mean = []\n",
    "esv_mean = []\n",
    "edv_std = []\n",
    "esv_std = []\n",
    "\n",
    "es_edv_mean = []\n",
    "es_esv_mean = []\n",
    "es_edv_std = []\n",
    "es_esv_std = []\n",
    "\n",
    "for selected_slice in range(8):\n",
    "    print('slice: ', str(selected_slice))\n",
    "    # slice data\n",
    "    slice_data       = all_slices_data[selected_slice]\n",
    "    recon            = np.abs(slice_data['recon']['tddip'])\n",
    "    seg_endo         = slice_data['segmentation']['stdip']['endo']\n",
    "    seg_sep          = slice_data['segmentation']['stdip']['sep']\n",
    "    volunteer_params = all_slices_data[selected_slice]['metadata']['volunteer_params']\n",
    "    slice_idx_EDV    = volunteer_params['EF_frames']['EDV']\n",
    "    slice_idx_ESV    = volunteer_params['EF_frames']['ESV']\n",
    "    # get edge sharpness\n",
    "    d_list_edv = get_edge_sharpness(recon, seg_endo, seg_sep, interpolation_factor, slice_idx_EDV)\n",
    "    d_list_esv = get_edge_sharpness(recon, seg_endo, seg_sep, interpolation_factor, slice_idx_ESV)\n",
    "    edv_all = edv_all + d_list_edv\n",
    "    esv_all = esv_all + d_list_esv\n",
    "    d_list_edv = np.array(d_list_edv)\n",
    "    d_list_esv = np.array(d_list_esv)\n",
    "    es_edv_all = es_edv_all + list(1 / d_list_edv)\n",
    "    es_esv_all = es_edv_all + list(1 / d_list_esv)\n",
    "    # save\n",
    "    edv_mean.append(np.mean(d_list_edv))\n",
    "    esv_mean.append(np.mean(d_list_esv))\n",
    "    edv_std.append(np.std(d_list_edv))\n",
    "    esv_std.append(np.std(d_list_esv))\n",
    "\n",
    "    es_edv_mean.append(np.mean(1 / d_list_edv))\n",
    "    es_esv_mean.append(np.mean(1 / d_list_esv))\n",
    "    es_edv_std.append(np.std(1 / d_list_edv))\n",
    "    es_esv_std.append(np.std(1 / d_list_esv))"
   ]
  },
  {
   "cell_type": "code",
   "execution_count": null,
   "id": "012511ed-881d-4420-883d-db478cf77e12",
   "metadata": {},
   "outputs": [],
   "source": [
    "plt.plot(edv_mean)\n",
    "plt.plot(esv_mean)"
   ]
  },
  {
   "cell_type": "code",
   "execution_count": null,
   "id": "aa7a7434-4caa-42db-9e59-b49a20dd96de",
   "metadata": {},
   "outputs": [],
   "source": [
    "plt.plot(es_edv_mean)\n",
    "plt.plot(es_esv_mean)"
   ]
  },
  {
   "cell_type": "code",
   "execution_count": null,
   "id": "c16e37db-1747-4606-bd51-6532a6f23f89",
   "metadata": {},
   "outputs": [],
   "source": [
    "print('overall distance EDV: ' , round(np.mean(edv_all),2) ,  ' +- ', round(np.std(edv_all),2))\n",
    "print('overall distance ESV: ' , round(np.mean(esv_all),2) ,  ' +- ', round(np.std(esv_all),2))"
   ]
  },
  {
   "cell_type": "code",
   "execution_count": null,
   "id": "60580572-19c1-4e60-9c8a-8b3b108a2dc6",
   "metadata": {},
   "outputs": [],
   "source": [
    "print('overall edge sharpness EDV: ' , round(np.mean(es_edv_all),2) ,  ' +- ', round(np.std(es_edv_all),2))\n",
    "print('overall edge sharpness ESV: ' , round(np.mean(es_esv_all),2) ,  ' +- ', round(np.std(es_esv_all),2))"
   ]
  },
  {
   "cell_type": "code",
   "execution_count": null,
   "id": "53339086-d1e0-4912-8883-844fd59ee9a1",
   "metadata": {},
   "outputs": [],
   "source": [
    "print('overall distance EDV: ' , round(np.mean(edv_mean),2) ,  ' +- ', round(np.std(edv_mean),2))\n",
    "print('overall distance ESV: ' , round(np.mean(esv_mean),2) ,  ' +- ', round(np.std(esv_mean),2))"
   ]
  },
  {
   "cell_type": "code",
   "execution_count": null,
   "id": "16529069-abea-4565-b04c-3c116b0ebac0",
   "metadata": {},
   "outputs": [],
   "source": [
    "print('overall edge sharpness EDV: ' , round(np.mean(es_edv_mean),2) ,  ' +- ', round(np.std(es_edv_mean),2))\n",
    "print('overall edge sharpness ESV: ' , round(np.mean(es_esv_mean),2) ,  ' +- ', round(np.std(es_esv_mean),2))"
   ]
  },
  {
   "cell_type": "markdown",
   "id": "bd2ffb5d-ae58-485e-b88c-aa0fabfbed4f",
   "metadata": {},
   "source": [
    "# GRASP"
   ]
  },
  {
   "cell_type": "code",
   "execution_count": null,
   "id": "a4ef80ae-bc6e-4f1e-ab38-7bf90f33f018",
   "metadata": {
    "scrolled": true
   },
   "outputs": [],
   "source": [
    "edv_all = []\n",
    "esv_all = []\n",
    "\n",
    "es_edv_all = []\n",
    "es_esv_all = []\n",
    "\n",
    "edv_mean = []\n",
    "esv_mean = []\n",
    "edv_std = []\n",
    "esv_std = []\n",
    "\n",
    "es_edv_mean = []\n",
    "es_esv_mean = []\n",
    "es_edv_std = []\n",
    "es_esv_std = []\n",
    "\n",
    "for selected_slice in range(8):\n",
    "    print('slice: ', str(selected_slice))\n",
    "    # slice data\n",
    "    slice_data       = all_slices_data[selected_slice]\n",
    "    recon            = np.abs(slice_data['recon']['grasp'])\n",
    "    seg_endo         = slice_data['segmentation']['stdip']['endo']\n",
    "    seg_sep          = slice_data['segmentation']['stdip']['sep']\n",
    "    volunteer_params = all_slices_data[selected_slice]['metadata']['volunteer_params']\n",
    "    slice_idx_EDV    = volunteer_params['EF_frames']['EDV']\n",
    "    slice_idx_ESV    = volunteer_params['EF_frames']['ESV']\n",
    "    # get edge sharpness\n",
    "    d_list_edv = get_edge_sharpness(recon, seg_endo, seg_sep, interpolation_factor, slice_idx_EDV)\n",
    "    d_list_esv = get_edge_sharpness(recon, seg_endo, seg_sep, interpolation_factor, slice_idx_ESV)\n",
    "    edv_all = edv_all + d_list_edv\n",
    "    esv_all = esv_all + d_list_esv\n",
    "    d_list_edv = np.array(d_list_edv)\n",
    "    d_list_esv = np.array(d_list_esv)\n",
    "    es_edv_all = es_edv_all + list(1 / d_list_edv)\n",
    "    es_esv_all = es_edv_all + list(1 / d_list_esv)\n",
    "    # save\n",
    "    edv_mean.append(np.mean(d_list_edv))\n",
    "    esv_mean.append(np.mean(d_list_esv))\n",
    "    edv_std.append(np.std(d_list_edv))\n",
    "    esv_std.append(np.std(d_list_esv))\n",
    "\n",
    "    es_edv_mean.append(np.mean(1 / d_list_edv))\n",
    "    es_esv_mean.append(np.mean(1 / d_list_esv))\n",
    "    es_edv_std.append(np.std(1 / d_list_edv))\n",
    "    es_esv_std.append(np.std(1 / d_list_esv))"
   ]
  },
  {
   "cell_type": "code",
   "execution_count": null,
   "id": "fd12fd25-181b-4755-b930-15b729618f1c",
   "metadata": {},
   "outputs": [],
   "source": [
    "plt.plot(edv_mean)\n",
    "plt.plot(esv_mean)"
   ]
  },
  {
   "cell_type": "code",
   "execution_count": null,
   "id": "8d79ab9a-8d0f-48c3-a2c1-17216a31256f",
   "metadata": {},
   "outputs": [],
   "source": [
    "plt.plot(es_edv_mean)\n",
    "plt.plot(es_esv_mean)"
   ]
  },
  {
   "cell_type": "code",
   "execution_count": null,
   "id": "883d58e2-9445-435a-aefa-57e8fee49fbd",
   "metadata": {},
   "outputs": [],
   "source": [
    "print('overall distance EDV: ' , round(np.mean(edv_all),2) ,  ' +- ', round(np.std(edv_all),2))\n",
    "print('overall distance ESV: ' , round(np.mean(esv_all),2) ,  ' +- ', round(np.std(esv_all),2))"
   ]
  },
  {
   "cell_type": "code",
   "execution_count": null,
   "id": "0a572a82-ca2e-424f-9eb8-e41667d524d9",
   "metadata": {},
   "outputs": [],
   "source": [
    "print('overall edge sharpness EDV: ' , round(np.mean(es_edv_all),2) ,  ' +- ', round(np.std(es_edv_all),2))\n",
    "print('overall edge sharpness ESV: ' , round(np.mean(es_esv_all),2) ,  ' +- ', round(np.std(es_esv_all),2))"
   ]
  },
  {
   "cell_type": "code",
   "execution_count": null,
   "id": "f77da4c5-1e8b-4367-8e04-629e5d3c6fe5",
   "metadata": {},
   "outputs": [],
   "source": [
    "print('overall distance EDV: ' , round(np.mean(edv_mean),2) ,  ' +- ', round(np.std(edv_mean),2))\n",
    "print('overall distance ESV: ' , round(np.mean(esv_mean),2) ,  ' +- ', round(np.std(esv_mean),2))"
   ]
  },
  {
   "cell_type": "code",
   "execution_count": null,
   "id": "7f99e266-b9e2-4b4c-8ea4-406b8f71503a",
   "metadata": {},
   "outputs": [],
   "source": [
    "print('overall edge sharpness EDV: ' , round(np.mean(es_edv_mean),2) ,  ' +- ', round(np.std(es_edv_mean),2))\n",
    "print('overall edge sharpness ESV: ' , round(np.mean(es_esv_mean),2) ,  ' +- ', round(np.std(es_esv_mean),2))"
   ]
  },
  {
   "cell_type": "markdown",
   "id": "19f17b95-6b21-49af-9360-cacf48f66cea",
   "metadata": {},
   "source": [
    "# SENSE"
   ]
  },
  {
   "cell_type": "code",
   "execution_count": null,
   "id": "5a09229c-90c6-43b5-accd-893b5cb1bfbc",
   "metadata": {},
   "outputs": [],
   "source": [
    "edv_all = []\n",
    "esv_all = []\n",
    "\n",
    "es_edv_all = []\n",
    "es_esv_all = []\n",
    "\n",
    "edv_mean = []\n",
    "esv_mean = []\n",
    "edv_std = []\n",
    "esv_std = []\n",
    "\n",
    "es_edv_mean = []\n",
    "es_esv_mean = []\n",
    "es_edv_std = []\n",
    "es_esv_std = []\n",
    "\n",
    "for selected_slice in range(8):\n",
    "    print('slice: ', str(selected_slice))\n",
    "    # slice data\n",
    "    slice_data       = all_slices_data[selected_slice]\n",
    "    recon            = np.abs(slice_data['recon']['sense'])\n",
    "    seg_endo         = slice_data['segmentation']['stdip']['endo']\n",
    "    seg_sep          = slice_data['segmentation']['stdip']['sep']\n",
    "    volunteer_params = all_slices_data[selected_slice]['metadata']['volunteer_params']\n",
    "    slice_idx_EDV    = volunteer_params['EF_frames']['EDV']\n",
    "    slice_idx_ESV    = volunteer_params['EF_frames']['ESV']\n",
    "    # get edge sharpness\n",
    "    d_list_edv = get_edge_sharpness(recon, seg_endo, seg_sep, interpolation_factor, slice_idx_EDV)\n",
    "    d_list_esv = get_edge_sharpness(recon, seg_endo, seg_sep, interpolation_factor, slice_idx_ESV)\n",
    "    edv_all = edv_all + d_list_edv\n",
    "    esv_all = esv_all + d_list_esv\n",
    "    d_list_edv = np.array(d_list_edv)\n",
    "    d_list_esv = np.array(d_list_esv)\n",
    "    es_edv_all = es_edv_all + list(1 / d_list_edv)\n",
    "    es_esv_all = es_edv_all + list(1 / d_list_esv)\n",
    "    # save\n",
    "    edv_mean.append(np.mean(d_list_edv))\n",
    "    esv_mean.append(np.mean(d_list_esv))\n",
    "    edv_std.append(np.std(d_list_edv))\n",
    "    esv_std.append(np.std(d_list_esv))\n",
    "\n",
    "    es_edv_mean.append(np.mean(1 / d_list_edv))\n",
    "    es_esv_mean.append(np.mean(1 / d_list_esv))\n",
    "    es_edv_std.append(np.std(1 / d_list_edv))\n",
    "    es_esv_std.append(np.std(1 / d_list_esv))"
   ]
  },
  {
   "cell_type": "code",
   "execution_count": null,
   "id": "4d06e4dc-902d-4349-95e4-af0a56d8fa83",
   "metadata": {},
   "outputs": [],
   "source": [
    "slice_idx_EDV, slice_idx_ESV"
   ]
  },
  {
   "cell_type": "code",
   "execution_count": null,
   "id": "58a09c4b-c120-481f-99c5-05189e310904",
   "metadata": {},
   "outputs": [],
   "source": [
    "plt.plot(edv_mean)\n",
    "plt.plot(esv_mean)"
   ]
  },
  {
   "cell_type": "code",
   "execution_count": null,
   "id": "487477a2-89b3-4c91-8303-2ab8bfa5ea9f",
   "metadata": {},
   "outputs": [],
   "source": [
    "plt.plot(es_edv_mean)\n",
    "plt.plot(es_esv_mean)"
   ]
  },
  {
   "cell_type": "code",
   "execution_count": null,
   "id": "9a40ae24-a7b0-4250-b874-27ea16845e6f",
   "metadata": {},
   "outputs": [],
   "source": [
    "print('overall distance EDV: ' , round(np.mean(edv_all),2) ,  ' +- ', round(np.std(edv_all),2))\n",
    "print('overall distance ESV: ' , round(np.mean(esv_all),2) ,  ' +- ', round(np.std(esv_all),2))"
   ]
  },
  {
   "cell_type": "code",
   "execution_count": null,
   "id": "ab94f141-5d23-4bd0-bc3f-225ad9b95c9f",
   "metadata": {},
   "outputs": [],
   "source": [
    "print('overall edge sharpness EDV: ' , round(np.mean(es_edv_all),2) ,  ' +- ', round(np.std(es_edv_all),2))\n",
    "print('overall edge sharpness ESV: ' , round(np.mean(es_esv_all),2) ,  ' +- ', round(np.std(es_esv_all),2))"
   ]
  },
  {
   "cell_type": "code",
   "execution_count": null,
   "id": "e347ed28-1705-4bdc-9239-6b308896d0d4",
   "metadata": {},
   "outputs": [],
   "source": [
    "print('overall distance EDV: ' , round(np.mean(edv_mean),2) ,  ' +- ', round(np.std(edv_mean),2))\n",
    "print('overall distance ESV: ' , round(np.mean(esv_mean),2) ,  ' +- ', round(np.std(esv_mean),2))"
   ]
  },
  {
   "cell_type": "code",
   "execution_count": null,
   "id": "a7d8c9d2-ffe4-4bcb-8893-3ad08c6c7797",
   "metadata": {},
   "outputs": [],
   "source": [
    "print('overall edge sharpness EDV: ' , round(np.mean(es_edv_mean),2) ,  ' +- ', round(np.std(es_edv_mean),2))\n",
    "print('overall edge sharpness ESV: ' , round(np.mean(es_esv_mean),2) ,  ' +- ', round(np.std(es_esv_mean),2))"
   ]
  },
  {
   "cell_type": "code",
   "execution_count": null,
   "id": "bd1eced4-4246-4e25-8516-6d9cb477363d",
   "metadata": {},
   "outputs": [],
   "source": []
  }
 ],
 "metadata": {
  "kernelspec": {
   "display_name": "Python 3 (ipykernel)",
   "language": "python",
   "name": "python3"
  },
  "language_info": {
   "codemirror_mode": {
    "name": "ipython",
    "version": 3
   },
   "file_extension": ".py",
   "mimetype": "text/x-python",
   "name": "python",
   "nbconvert_exporter": "python",
   "pygments_lexer": "ipython3",
   "version": "3.11.9"
  }
 },
 "nbformat": 4,
 "nbformat_minor": 5
}
