{
 "cells": [
  {
   "cell_type": "code",
   "execution_count": 1,
   "id": "f681dc03-749b-4adb-b223-b03ea6281606",
   "metadata": {},
   "outputs": [],
   "source": [
    "import scipy.io\n",
    "import jax.numpy as np\n",
    "from scipy.io import loadmat \n",
    "import numpy as onp\n",
    "import nibabel as nib\n",
    "import matplotlib.pyplot as plt \n",
    "import os\n",
    "import shutil\n",
    "from PIL import Image\n",
    "from inrmri.bart import bart_acquisition_from_arrays\n",
    "from inrmri.data_harvard import get_csmaps_and_mask, get_reference_reco\n",
    "import pandas as pd\n",
    "from jax import jit, vmap, random\n",
    "from inrmri.dip import TimeDependant_DIP_Net, helix_generator, circle_generator\n",
    "from inrmri.new_radon import ForwardRadonOperator\n",
    "from inrmri.fourier import fastshiftfourier, get_freqs\n",
    "from inrmri.basic_nn import weighted_loss \n",
    "from inrmri.utils import to_complex, is_inside_of_radial_lim, meshgrid_from_subdiv_autolims, total_variation_batch_complex, save_matrix_and_dict_in_zpy, load_matrix_and_dict_from_zpy    \n",
    "from inrmri.utils import create_exp_file_name, total_variation_complex\n",
    "import optax \n",
    "from inrmri.metrics_rd import mean_psnr, mean_ssim, mean_artifact_power\n",
    "from inrmri.utils_rdls import seconds_to_min_sec_format, filter_and_get_columns, apply_transform\n",
    "\n",
    "from inrmri.image_processor import BeforeLinRegNormalizer\n",
    "from inrmri.basic_plotting import full_halph_FOV_space_time , full_halph_FOV_space_time_multislice\n",
    "from inrmri.image_processor import reduce_FOV \n",
    "\n",
    "from inrmri.utils_rdls import safe_normalize, get_center\n",
    "\n",
    "from inrmri.utils_rdls import get_info_volunteer, read_segmentation, read_ref_dataset"
   ]
  },
  {
   "cell_type": "code",
   "execution_count": 2,
   "id": "0ce89013-bc40-4a33-90a8-a72fbeb231d1",
   "metadata": {},
   "outputs": [],
   "source": [
    "## General"
   ]
  },
  {
   "cell_type": "code",
   "execution_count": 3,
   "id": "7212fc40-a98a-488c-9cd2-1e9c4c2a9e79",
   "metadata": {},
   "outputs": [],
   "source": [
    "total_slices          = 8\n",
    "num_frames            = 30\n",
    "base_path             = '/mnt/workspace/datasets/pulseqCINE/'\n",
    "target_columns        = ['training_name', 'psnr', 'ssim', 'it', 'duration [min]', 'duration [s]']"
   ]
  },
  {
   "cell_type": "code",
   "execution_count": 4,
   "id": "c0ffd967-12be-4aad-80b8-73c87e534387",
   "metadata": {},
   "outputs": [],
   "source": [
    "## Volunteer"
   ]
  },
  {
   "cell_type": "code",
   "execution_count": 5,
   "id": "55632c2f-521d-4320-b537-4ef8a2e9bd54",
   "metadata": {},
   "outputs": [],
   "source": [
    "dataset        = 'DATA_0.55T'\n",
    "volunteer      = 'DP'  \n",
    "# --- PATH ---\n",
    "base_folder                     = base_path + dataset + '/' + volunteer + '/'\n",
    "train_data_folder               = base_folder + 'traindata/'\n",
    "segmentation_folder             = base_folder + 'segmentations/'\n",
    "segmentation_endocardium_folder = segmentation_folder + 'endocardium/'\n",
    "segmentation_septum_folder      = segmentation_folder + 'septum/'"
   ]
  },
  {
   "cell_type": "code",
   "execution_count": 6,
   "id": "2eeef22e-9f99-4d33-a87f-69c698af8f36",
   "metadata": {},
   "outputs": [],
   "source": [
    "export_folder = base_folder + 'export/'\n",
    "if not os.path.exists(export_folder):\n",
    "    os.makedirs(export_folder)"
   ]
  },
  {
   "cell_type": "code",
   "execution_count": 7,
   "id": "9c64cd49-c1e5-43bc-8ca9-c6a86151a4c3",
   "metadata": {},
   "outputs": [],
   "source": [
    "## DIP Model reconstructions"
   ]
  },
  {
   "cell_type": "code",
   "execution_count": 8,
   "id": "d4665cf6-10d1-4cf5-a055-7e18a5384d7e",
   "metadata": {},
   "outputs": [],
   "source": [
    "stdip_parameters = {\n",
    "    'experiment_name': 'iter_lr_init_value', \n",
    "    'training_params': {\n",
    "        'iter':2000,\n",
    "        'lr_init_value': 1e-3,\n",
    "        'slice':None,\n",
    "    }\n",
    "}\n",
    "\n",
    "tddip_parameters = {\n",
    "    'experiment_name': 'iter_lr_init_value', \n",
    "    'training_params': {\n",
    "        'iter':2000,\n",
    "        'lr_init_value': 1e-3,\n",
    "        'slice':None,\n",
    "    }\n",
    "}"
   ]
  },
  {
   "cell_type": "code",
   "execution_count": 9,
   "id": "db917022-6d95-4fd9-8144-fcff8c5ea2d5",
   "metadata": {},
   "outputs": [],
   "source": [
    "stdip_parameters['path']               = base_folder + 'stDIP'\n",
    "stdip_parameters['csv_path']           = stdip_parameters['path'] +  '/' + stdip_parameters['experiment_name'] + \".csv\"\n",
    "stdip_parameters['csv_path_summary']   = stdip_parameters['path'] +  '/' + stdip_parameters['experiment_name'] + \"_summary.csv\""
   ]
  },
  {
   "cell_type": "code",
   "execution_count": 10,
   "id": "1b486274-5d2d-451d-93b6-44e590bc7c01",
   "metadata": {},
   "outputs": [],
   "source": [
    "tddip_parameters['path']               = base_folder + 'tdDIP'\n",
    "tddip_parameters['csv_path']           = tddip_parameters['path'] +  '/' + tddip_parameters['experiment_name'] + \".csv\"\n",
    "tddip_parameters['csv_path_summary']   = tddip_parameters['path'] +  '/' + tddip_parameters['experiment_name'] + \"_summary.csv\""
   ]
  },
  {
   "cell_type": "code",
   "execution_count": 11,
   "id": "73b095da-c9b6-4d17-8b5e-f86a74940f17",
   "metadata": {},
   "outputs": [],
   "source": [
    "## Data"
   ]
  },
  {
   "cell_type": "code",
   "execution_count": 12,
   "id": "73a3a6e5-cf10-411e-9aa1-2328705228f7",
   "metadata": {},
   "outputs": [
    {
     "name": "stdout",
     "output_type": "stream",
     "text": [
      "slice 1\n"
     ]
    },
    {
     "name": "stderr",
     "output_type": "stream",
     "text": [
      "2025-08-03 19:51:16.397865: W external/xla/xla/service/gpu/nvptx_compiler.cc:836] The NVIDIA driver's CUDA version is 12.2 which is older than the PTX compiler version (12.6.20). Because the driver is older than the PTX compiler version, XLA is disabling parallel compilation, which may slow down compilation. You should update your NVIDIA driver or use the NVIDIA-provided CUDA forward compatibility packages.\n"
     ]
    },
    {
     "ename": "FileNotFoundError",
     "evalue": "[Errno 2] No such file or directory: '/mnt/workspace/datasets/pulseqCINE/DATA_0.55T/DP/tdDIP/iter_lr_init_value.csv'",
     "output_type": "error",
     "traceback": [
      "\u001b[0;31m---------------------------------------------------------------------------\u001b[0m",
      "\u001b[0;31mFileNotFoundError\u001b[0m                         Traceback (most recent call last)",
      "Cell \u001b[0;32mIn[12], line 47\u001b[0m\n\u001b[1;32m     45\u001b[0m \u001b[38;5;66;03m# === tdDIP Reconstruction ===\u001b[39;00m\n\u001b[1;32m     46\u001b[0m tddip_parameters[\u001b[38;5;124m'\u001b[39m\u001b[38;5;124mexp_folder_path\u001b[39m\u001b[38;5;124m'\u001b[39m] \u001b[38;5;241m=\u001b[39m os\u001b[38;5;241m.\u001b[39mpath\u001b[38;5;241m.\u001b[39mjoin(tddip_parameters[\u001b[38;5;124m'\u001b[39m\u001b[38;5;124mpath\u001b[39m\u001b[38;5;124m'\u001b[39m], dataset_name, tddip_parameters[\u001b[38;5;124m'\u001b[39m\u001b[38;5;124mexperiment_name\u001b[39m\u001b[38;5;124m'\u001b[39m])\n\u001b[0;32m---> 47\u001b[0m df_tddip \u001b[38;5;241m=\u001b[39m pd\u001b[38;5;241m.\u001b[39mread_csv(tddip_parameters[\u001b[38;5;124m'\u001b[39m\u001b[38;5;124mcsv_path\u001b[39m\u001b[38;5;124m'\u001b[39m], delimiter\u001b[38;5;241m=\u001b[39m\u001b[38;5;124m'\u001b[39m\u001b[38;5;124m;\u001b[39m\u001b[38;5;124m'\u001b[39m)\n\u001b[1;32m     48\u001b[0m tdDIP_results \u001b[38;5;241m=\u001b[39m filter_and_get_columns(df_tddip, tddip_parameters[\u001b[38;5;124m'\u001b[39m\u001b[38;5;124mtraining_params\u001b[39m\u001b[38;5;124m'\u001b[39m], target_columns)[\u001b[38;5;241m0\u001b[39m]\n\u001b[1;32m     49\u001b[0m tddip_parameters[\u001b[38;5;124m'\u001b[39m\u001b[38;5;124mbest_recon_path\u001b[39m\u001b[38;5;124m'\u001b[39m] \u001b[38;5;241m=\u001b[39m os\u001b[38;5;241m.\u001b[39mpath\u001b[38;5;241m.\u001b[39mjoin(tddip_parameters[\u001b[38;5;124m'\u001b[39m\u001b[38;5;124mexp_folder_path\u001b[39m\u001b[38;5;124m'\u001b[39m], tdDIP_results[\u001b[38;5;124m'\u001b[39m\u001b[38;5;124mtraining_name\u001b[39m\u001b[38;5;124m'\u001b[39m], \u001b[38;5;124m'\u001b[39m\u001b[38;5;124mbest_recon.npz\u001b[39m\u001b[38;5;124m'\u001b[39m)\n",
      "File \u001b[0;32m/mnt/workspace/rdelasotta/.conda/envs/jaxenv/lib/python3.11/site-packages/pandas/io/parsers/readers.py:1026\u001b[0m, in \u001b[0;36mread_csv\u001b[0;34m(filepath_or_buffer, sep, delimiter, header, names, index_col, usecols, dtype, engine, converters, true_values, false_values, skipinitialspace, skiprows, skipfooter, nrows, na_values, keep_default_na, na_filter, verbose, skip_blank_lines, parse_dates, infer_datetime_format, keep_date_col, date_parser, date_format, dayfirst, cache_dates, iterator, chunksize, compression, thousands, decimal, lineterminator, quotechar, quoting, doublequote, escapechar, comment, encoding, encoding_errors, dialect, on_bad_lines, delim_whitespace, low_memory, memory_map, float_precision, storage_options, dtype_backend)\u001b[0m\n\u001b[1;32m   1013\u001b[0m kwds_defaults \u001b[38;5;241m=\u001b[39m _refine_defaults_read(\n\u001b[1;32m   1014\u001b[0m     dialect,\n\u001b[1;32m   1015\u001b[0m     delimiter,\n\u001b[0;32m   (...)\u001b[0m\n\u001b[1;32m   1022\u001b[0m     dtype_backend\u001b[38;5;241m=\u001b[39mdtype_backend,\n\u001b[1;32m   1023\u001b[0m )\n\u001b[1;32m   1024\u001b[0m kwds\u001b[38;5;241m.\u001b[39mupdate(kwds_defaults)\n\u001b[0;32m-> 1026\u001b[0m \u001b[38;5;28;01mreturn\u001b[39;00m _read(filepath_or_buffer, kwds)\n",
      "File \u001b[0;32m/mnt/workspace/rdelasotta/.conda/envs/jaxenv/lib/python3.11/site-packages/pandas/io/parsers/readers.py:620\u001b[0m, in \u001b[0;36m_read\u001b[0;34m(filepath_or_buffer, kwds)\u001b[0m\n\u001b[1;32m    617\u001b[0m _validate_names(kwds\u001b[38;5;241m.\u001b[39mget(\u001b[38;5;124m\"\u001b[39m\u001b[38;5;124mnames\u001b[39m\u001b[38;5;124m\"\u001b[39m, \u001b[38;5;28;01mNone\u001b[39;00m))\n\u001b[1;32m    619\u001b[0m \u001b[38;5;66;03m# Create the parser.\u001b[39;00m\n\u001b[0;32m--> 620\u001b[0m parser \u001b[38;5;241m=\u001b[39m TextFileReader(filepath_or_buffer, \u001b[38;5;241m*\u001b[39m\u001b[38;5;241m*\u001b[39mkwds)\n\u001b[1;32m    622\u001b[0m \u001b[38;5;28;01mif\u001b[39;00m chunksize \u001b[38;5;129;01mor\u001b[39;00m iterator:\n\u001b[1;32m    623\u001b[0m     \u001b[38;5;28;01mreturn\u001b[39;00m parser\n",
      "File \u001b[0;32m/mnt/workspace/rdelasotta/.conda/envs/jaxenv/lib/python3.11/site-packages/pandas/io/parsers/readers.py:1620\u001b[0m, in \u001b[0;36mTextFileReader.__init__\u001b[0;34m(self, f, engine, **kwds)\u001b[0m\n\u001b[1;32m   1617\u001b[0m     \u001b[38;5;28mself\u001b[39m\u001b[38;5;241m.\u001b[39moptions[\u001b[38;5;124m\"\u001b[39m\u001b[38;5;124mhas_index_names\u001b[39m\u001b[38;5;124m\"\u001b[39m] \u001b[38;5;241m=\u001b[39m kwds[\u001b[38;5;124m\"\u001b[39m\u001b[38;5;124mhas_index_names\u001b[39m\u001b[38;5;124m\"\u001b[39m]\n\u001b[1;32m   1619\u001b[0m \u001b[38;5;28mself\u001b[39m\u001b[38;5;241m.\u001b[39mhandles: IOHandles \u001b[38;5;241m|\u001b[39m \u001b[38;5;28;01mNone\u001b[39;00m \u001b[38;5;241m=\u001b[39m \u001b[38;5;28;01mNone\u001b[39;00m\n\u001b[0;32m-> 1620\u001b[0m \u001b[38;5;28mself\u001b[39m\u001b[38;5;241m.\u001b[39m_engine \u001b[38;5;241m=\u001b[39m \u001b[38;5;28mself\u001b[39m\u001b[38;5;241m.\u001b[39m_make_engine(f, \u001b[38;5;28mself\u001b[39m\u001b[38;5;241m.\u001b[39mengine)\n",
      "File \u001b[0;32m/mnt/workspace/rdelasotta/.conda/envs/jaxenv/lib/python3.11/site-packages/pandas/io/parsers/readers.py:1880\u001b[0m, in \u001b[0;36mTextFileReader._make_engine\u001b[0;34m(self, f, engine)\u001b[0m\n\u001b[1;32m   1878\u001b[0m     \u001b[38;5;28;01mif\u001b[39;00m \u001b[38;5;124m\"\u001b[39m\u001b[38;5;124mb\u001b[39m\u001b[38;5;124m\"\u001b[39m \u001b[38;5;129;01mnot\u001b[39;00m \u001b[38;5;129;01min\u001b[39;00m mode:\n\u001b[1;32m   1879\u001b[0m         mode \u001b[38;5;241m+\u001b[39m\u001b[38;5;241m=\u001b[39m \u001b[38;5;124m\"\u001b[39m\u001b[38;5;124mb\u001b[39m\u001b[38;5;124m\"\u001b[39m\n\u001b[0;32m-> 1880\u001b[0m \u001b[38;5;28mself\u001b[39m\u001b[38;5;241m.\u001b[39mhandles \u001b[38;5;241m=\u001b[39m get_handle(\n\u001b[1;32m   1881\u001b[0m     f,\n\u001b[1;32m   1882\u001b[0m     mode,\n\u001b[1;32m   1883\u001b[0m     encoding\u001b[38;5;241m=\u001b[39m\u001b[38;5;28mself\u001b[39m\u001b[38;5;241m.\u001b[39moptions\u001b[38;5;241m.\u001b[39mget(\u001b[38;5;124m\"\u001b[39m\u001b[38;5;124mencoding\u001b[39m\u001b[38;5;124m\"\u001b[39m, \u001b[38;5;28;01mNone\u001b[39;00m),\n\u001b[1;32m   1884\u001b[0m     compression\u001b[38;5;241m=\u001b[39m\u001b[38;5;28mself\u001b[39m\u001b[38;5;241m.\u001b[39moptions\u001b[38;5;241m.\u001b[39mget(\u001b[38;5;124m\"\u001b[39m\u001b[38;5;124mcompression\u001b[39m\u001b[38;5;124m\"\u001b[39m, \u001b[38;5;28;01mNone\u001b[39;00m),\n\u001b[1;32m   1885\u001b[0m     memory_map\u001b[38;5;241m=\u001b[39m\u001b[38;5;28mself\u001b[39m\u001b[38;5;241m.\u001b[39moptions\u001b[38;5;241m.\u001b[39mget(\u001b[38;5;124m\"\u001b[39m\u001b[38;5;124mmemory_map\u001b[39m\u001b[38;5;124m\"\u001b[39m, \u001b[38;5;28;01mFalse\u001b[39;00m),\n\u001b[1;32m   1886\u001b[0m     is_text\u001b[38;5;241m=\u001b[39mis_text,\n\u001b[1;32m   1887\u001b[0m     errors\u001b[38;5;241m=\u001b[39m\u001b[38;5;28mself\u001b[39m\u001b[38;5;241m.\u001b[39moptions\u001b[38;5;241m.\u001b[39mget(\u001b[38;5;124m\"\u001b[39m\u001b[38;5;124mencoding_errors\u001b[39m\u001b[38;5;124m\"\u001b[39m, \u001b[38;5;124m\"\u001b[39m\u001b[38;5;124mstrict\u001b[39m\u001b[38;5;124m\"\u001b[39m),\n\u001b[1;32m   1888\u001b[0m     storage_options\u001b[38;5;241m=\u001b[39m\u001b[38;5;28mself\u001b[39m\u001b[38;5;241m.\u001b[39moptions\u001b[38;5;241m.\u001b[39mget(\u001b[38;5;124m\"\u001b[39m\u001b[38;5;124mstorage_options\u001b[39m\u001b[38;5;124m\"\u001b[39m, \u001b[38;5;28;01mNone\u001b[39;00m),\n\u001b[1;32m   1889\u001b[0m )\n\u001b[1;32m   1890\u001b[0m \u001b[38;5;28;01massert\u001b[39;00m \u001b[38;5;28mself\u001b[39m\u001b[38;5;241m.\u001b[39mhandles \u001b[38;5;129;01mis\u001b[39;00m \u001b[38;5;129;01mnot\u001b[39;00m \u001b[38;5;28;01mNone\u001b[39;00m\n\u001b[1;32m   1891\u001b[0m f \u001b[38;5;241m=\u001b[39m \u001b[38;5;28mself\u001b[39m\u001b[38;5;241m.\u001b[39mhandles\u001b[38;5;241m.\u001b[39mhandle\n",
      "File \u001b[0;32m/mnt/workspace/rdelasotta/.conda/envs/jaxenv/lib/python3.11/site-packages/pandas/io/common.py:873\u001b[0m, in \u001b[0;36mget_handle\u001b[0;34m(path_or_buf, mode, encoding, compression, memory_map, is_text, errors, storage_options)\u001b[0m\n\u001b[1;32m    868\u001b[0m \u001b[38;5;28;01melif\u001b[39;00m \u001b[38;5;28misinstance\u001b[39m(handle, \u001b[38;5;28mstr\u001b[39m):\n\u001b[1;32m    869\u001b[0m     \u001b[38;5;66;03m# Check whether the filename is to be opened in binary mode.\u001b[39;00m\n\u001b[1;32m    870\u001b[0m     \u001b[38;5;66;03m# Binary mode does not support 'encoding' and 'newline'.\u001b[39;00m\n\u001b[1;32m    871\u001b[0m     \u001b[38;5;28;01mif\u001b[39;00m ioargs\u001b[38;5;241m.\u001b[39mencoding \u001b[38;5;129;01mand\u001b[39;00m \u001b[38;5;124m\"\u001b[39m\u001b[38;5;124mb\u001b[39m\u001b[38;5;124m\"\u001b[39m \u001b[38;5;129;01mnot\u001b[39;00m \u001b[38;5;129;01min\u001b[39;00m ioargs\u001b[38;5;241m.\u001b[39mmode:\n\u001b[1;32m    872\u001b[0m         \u001b[38;5;66;03m# Encoding\u001b[39;00m\n\u001b[0;32m--> 873\u001b[0m         handle \u001b[38;5;241m=\u001b[39m \u001b[38;5;28mopen\u001b[39m(\n\u001b[1;32m    874\u001b[0m             handle,\n\u001b[1;32m    875\u001b[0m             ioargs\u001b[38;5;241m.\u001b[39mmode,\n\u001b[1;32m    876\u001b[0m             encoding\u001b[38;5;241m=\u001b[39mioargs\u001b[38;5;241m.\u001b[39mencoding,\n\u001b[1;32m    877\u001b[0m             errors\u001b[38;5;241m=\u001b[39merrors,\n\u001b[1;32m    878\u001b[0m             newline\u001b[38;5;241m=\u001b[39m\u001b[38;5;124m\"\u001b[39m\u001b[38;5;124m\"\u001b[39m,\n\u001b[1;32m    879\u001b[0m         )\n\u001b[1;32m    880\u001b[0m     \u001b[38;5;28;01melse\u001b[39;00m:\n\u001b[1;32m    881\u001b[0m         \u001b[38;5;66;03m# Binary mode\u001b[39;00m\n\u001b[1;32m    882\u001b[0m         handle \u001b[38;5;241m=\u001b[39m \u001b[38;5;28mopen\u001b[39m(handle, ioargs\u001b[38;5;241m.\u001b[39mmode)\n",
      "\u001b[0;31mFileNotFoundError\u001b[0m: [Errno 2] No such file or directory: '/mnt/workspace/datasets/pulseqCINE/DATA_0.55T/DP/tdDIP/iter_lr_init_value.csv'"
     ]
    }
   ],
   "source": [
    "import os\n",
    "\n",
    "all_slices_data = []\n",
    "\n",
    "for i in range(1, total_slices + 1):\n",
    "    print(f'slice {i}')\n",
    "    slice_data = {}\n",
    "\n",
    "    # === Volunteer and Training Parameters ===\n",
    "    volunteer_params = get_info_volunteer(dataset, volunteer, i)\n",
    "    stdip_parameters['training_params']['slice'] = i\n",
    "    tddip_parameters['training_params']['slice'] = i\n",
    "\n",
    "    # === Reference Dataset Path ===\n",
    "    dataset_name = f'slice_{i}_{total_slices}_nbins{num_frames}'\n",
    "    path_dataset = os.path.join(train_data_folder, f'{dataset_name}.npz')\n",
    "\n",
    "    # === Reference Reconstructions ===\n",
    "    recon_fs, recon_grasp, recon_sense, time_grasp, time_sense = read_ref_dataset(path_dataset)\n",
    "    recon_grasp    = get_center(recon_grasp) \n",
    "    recon_sense    = get_center(recon_sense)\n",
    "    recon_fs       = get_center(recon_fs) \n",
    "    recon_grasp    = safe_normalize(recon_grasp) \n",
    "    recon_sense    = safe_normalize(recon_sense) \n",
    "    recon_fs       = safe_normalize(recon_fs) \n",
    "    recon_fs = apply_transform(recon_fs, volunteer_params['trans_gt'])\n",
    "    recon_grasp = apply_transform(recon_grasp, volunteer_params['trans'])\n",
    "    recon_sense = apply_transform(recon_sense, volunteer_params['trans'])\n",
    "    slice_data['recon'] = {\n",
    "        'fs': recon_fs,\n",
    "        'grasp': recon_grasp,\n",
    "        'sense': recon_sense\n",
    "    }\n",
    "\n",
    "    # === stDIP Reconstruction ===\n",
    "    stdip_parameters['exp_folder_path'] = os.path.join(stdip_parameters['path'], dataset_name, stdip_parameters['experiment_name'])\n",
    "    df_stdip = pd.read_csv(stdip_parameters['csv_path'], delimiter=';')\n",
    "    stDIP_results = filter_and_get_columns(df_stdip, stdip_parameters['training_params'], target_columns)[0]\n",
    "    stdip_parameters['best_recon_path'] = os.path.join(stdip_parameters['exp_folder_path'], stDIP_results['training_name'], 'best_recon.npz')\n",
    "    recon_stdip = onp.load(stdip_parameters['best_recon_path'], allow_pickle=True)['best_recon']\n",
    "    recon_stdip = safe_normalize(recon_stdip)\n",
    "    recon_stdip = apply_transform(recon_stdip, volunteer_params['trans'])\n",
    "    slice_data['recon']['stdip'] = recon_stdip\n",
    "\n",
    "    # === tdDIP Reconstruction ===\n",
    "    tddip_parameters['exp_folder_path'] = os.path.join(tddip_parameters['path'], dataset_name, tddip_parameters['experiment_name'])\n",
    "    df_tddip = pd.read_csv(tddip_parameters['csv_path'], delimiter=';')\n",
    "    tdDIP_results = filter_and_get_columns(df_tddip, tddip_parameters['training_params'], target_columns)[0]\n",
    "    tddip_parameters['best_recon_path'] = os.path.join(tddip_parameters['exp_folder_path'], tdDIP_results['training_name'], 'best_recon.npz')\n",
    "    recon_tddip = onp.load(tddip_parameters['best_recon_path'], allow_pickle=True)['best_recon']\n",
    "    recon_tddip = safe_normalize(recon_tddip)\n",
    "    recon_tddip = apply_transform(recon_tddip, volunteer_params['trans'])\n",
    "    slice_data['recon']['tddip'] = recon_tddip\n",
    "\n",
    "\n",
    "    # === Save Slice Info ===\n",
    "    slice_data['metadata'] = {\n",
    "        'slice_number': i,\n",
    "        'dataset_name': dataset_name,\n",
    "        'volunteer_params': volunteer_params\n",
    "    }\n",
    "\n",
    "    all_slices_data.append(slice_data)\n"
   ]
  },
  {
   "cell_type": "code",
   "execution_count": null,
   "id": "2fe50fb1-4ca3-4e4a-aaa3-02a347c4cd49",
   "metadata": {},
   "outputs": [],
   "source": [
    "import numpy as np\n",
    "import nibabel as nib"
   ]
  },
  {
   "cell_type": "code",
   "execution_count": null,
   "id": "492398c2-474a-42ca-9203-dc9761455752",
   "metadata": {},
   "outputs": [],
   "source": [
    "affine = np.eye(4)\n",
    "\n",
    "for slice_num in range(total_slices):\n",
    "    # reference\n",
    "    fs   = all_slices_data[slice_num]['recon']['fs']   \n",
    "    fs_nii = nib.Nifti1Image(fs, affine)\n",
    "    nib.save(fs_nii, export_folder +  volunteer + '_' + 'recon_fs' + '_slice' + str(slice_num+1) + '.nii') \n",
    "    # grasp\n",
    "    grasp_results   = all_slices_data[slice_num]['recon']['grasp']\n",
    "    grasp_nii = nib.Nifti1Image(grasp_results, affine)\n",
    "    nib.save(grasp_nii, export_folder +  volunteer + '_' + 'grasp' + '_slice' + str(slice_num+1) + '.nii') \n",
    "    \n",
    "    # st-dip\n",
    "    stDIP_results   = all_slices_data[slice_num]['recon']['stdip']\n",
    "    stdip_nii = nib.Nifti1Image(stDIP_results, affine)\n",
    "    nib.save(stdip_nii, export_folder +  volunteer + '_' + 'stdip' + '_slice' + str(slice_num+1) + '.nii') \n",
    "\n",
    "    # td-dip\n",
    "    tdDIP_results   = all_slices_data[slice_num]['recon']['tddip']\n",
    "    tddip_nii = nib.Nifti1Image(tdDIP_results, affine)\n",
    "    nib.save(tddip_nii, export_folder +  volunteer + '_' + 'tddip' + '_slice' + str(slice_num+1) + '.nii') "
   ]
  },
  {
   "cell_type": "code",
   "execution_count": null,
   "id": "a508a919-52c7-4a64-a9ef-d3095e4be552",
   "metadata": {},
   "outputs": [],
   "source": []
  },
  {
   "cell_type": "code",
   "execution_count": null,
   "id": "33f5d623-730f-46df-bff2-7b22f273deb0",
   "metadata": {},
   "outputs": [],
   "source": []
  }
 ],
 "metadata": {
  "kernelspec": {
   "display_name": "Python 3 (ipykernel)",
   "language": "python",
   "name": "python3"
  },
  "language_info": {
   "codemirror_mode": {
    "name": "ipython",
    "version": 3
   },
   "file_extension": ".py",
   "mimetype": "text/x-python",
   "name": "python",
   "nbconvert_exporter": "python",
   "pygments_lexer": "ipython3",
   "version": "3.11.9"
  }
 },
 "nbformat": 4,
 "nbformat_minor": 5
}
