{
 "cells": [
  {
   "cell_type": "markdown",
   "metadata": {},
   "source": [
    "# Preliminares \n",
    "\n",
    "## Importar dependencias "
   ]
  },
  {
   "cell_type": "code",
   "execution_count": null,
   "metadata": {},
   "outputs": [],
   "source": [
    "from inrmri.fourier_features import BasicSpatialFourierFeaturesNet \n",
    "from inrmri.utils import meshgrid_from_subdiv_autolims\n",
    "from inrmri.data_splitter import SimpleDataLoader\n",
    "\n",
    "from jax import random \n",
    "import jax.numpy as np \n",
    "\n",
    "import matplotlib.pyplot as plt \n",
    "from inrmri.utils import to_complex \n",
    "from jax import jit \n",
    "from inrmri.fourier import make_kspace, make_image\n",
    "from inrmri.basic_nn import mse, simple_train\n",
    "import optax "
   ]
  },
  {
   "cell_type": "markdown",
   "metadata": {},
   "source": [
    "## Descargar datos \n",
    "\n",
    "Para este notebook se necesitan dos archivos `cine_sax_slice5_frame5` y `cs`. Los directorios a ambos archivos se guardan en las variables `KSPACE_FILE` y `CSMAP_FILE` respectivamente, y pueden descargarse de:\n",
    "\n",
    "- `cine_sax_slice5_frame5.npy`: https://drive.google.com/file/d/13MAxtswKV-31tAu8XPq1Mea2yYdRCTyv/view?usp=sharing \n",
    "- `cs.npy`: https://drive.google.com/file/d/11He4AX0rC1n9hgehzcEzWU9ZtPD-q03b/view \n",
    "\n",
    "Los datos `cine_sax_slice5_frame5.npy` corresponden a una adquisición de resonancia magnética cardiaca, específicamente un cine cardiaco (un vídeo del corazón moviéndose). Los datos corresponden a un frame y una slice de una adquisición cartesiana multibobina. \n",
    "\n",
    "> Para ver otros frames o slices de la misma adquisición, se puede descargar el archivo [`cine_sax.mat`](https://drive.google.com/file/d/1P8FRU2FOp97Sbbi7JwPMHvV_keHBkjiX/view). Se necesita la librería [`mat73`](https://pypi.org/project/mat73/) para leerlo. Puede recuperarse el archivo `cine_sax_slice5_frame5` a partir de `cnie_sax` haciendo:\n",
    ">\n",
    "> ```python\n",
    "> import mat73 \n",
    "> cine_sax = max73.loadmat(FULL_CINE_SAX_PATH)['kspace_full']\n",
    "> selected_slice = 5 \n",
    "> selected_frame = 5 \n",
    "> cine_sax_slice5_frame5 = cine_sax[:,:,:,selected_slice, selected_frame] \n",
    "> ```"
   ]
  },
  {
   "cell_type": "code",
   "execution_count": null,
   "metadata": {},
   "outputs": [],
   "source": [
    "KSPACE_FILE = '/home/tabita/ACIP-MRI/NF-cMRI/carthesian_data/cine_sax_slice5_frame5.npy'\n",
    "CSMAP_FILE = '/home/tabita/ACIP-MRI/NF-cMRI/carthesian_data/cs.npy'"
   ]
  },
  {
   "cell_type": "markdown",
   "metadata": {},
   "source": [
    "# Reconstrucción de una adquisición cartesiana usando _Implicit Neural Representations_\n",
    "\n",
    "## Cargar datos "
   ]
  },
  {
   "cell_type": "code",
   "execution_count": null,
   "metadata": {},
   "outputs": [],
   "source": [
    "kspace = np.load(KSPACE_FILE)\n",
    "Y_full = kspace[None, ..., None] # (1, px, py, coil, 1)\n",
    "grid = meshgrid_from_subdiv_autolims(Y_full.shape[1:3], endpoint=True)\n",
    "X_full = grid[None,...]\n",
    "\n",
    "# data_loader = SimpleDataLoader(X_full, Y_full) "
   ]
  },
  {
   "cell_type": "code",
   "execution_count": null,
   "metadata": {},
   "outputs": [],
   "source": [
    "fig, axs = plt.subplots(2,5, figsize=(5*2,2*4))\n",
    "axs = axs.flatten()\n",
    "\n",
    "maxval=0.3 * np.abs(make_image(Y_full, axes=(1,2)).max())\n",
    "for i,ax in enumerate(axs):\n",
    "    ax.imshow(np.abs(make_image(Y_full[0,:,:,i,0])), vmax=maxval, cmap='bone')\n",
    "    ax.set_title(f'Imagen obtenida\\n por la bobina {i}')\n",
    "plt.tight_layout()"
   ]
  },
  {
   "cell_type": "code",
   "execution_count": null,
   "metadata": {},
   "outputs": [],
   "source": [
    "cs = np.load(CSMAP_FILE)\n",
    "print(\"cs.shape: \", cs.shape)\n",
    "\n",
    "fig, axs = plt.subplots(2,5, figsize=(5*2,2*4))\n",
    "axs = axs.flatten()\n",
    "\n",
    "maxval = np.abs(cs.max())\n",
    "\n",
    "for i,ax in enumerate(axs):\n",
    "    ax.imshow(np.abs(cs[0,:,:,i]), vmax=maxval)\n",
    "    ax.set_title(f'Bobina {i}')\n",
    "plt.tight_layout()"
   ]
  },
  {
   "cell_type": "markdown",
   "metadata": {},
   "source": [
    "## Construir red y entrenar "
   ]
  },
  {
   "cell_type": "code",
   "execution_count": null,
   "metadata": {},
   "outputs": [],
   "source": [
    "key_B, key_params, key_train = random.split(random.PRNGKey(0), 3)\n",
    "ffnet = BasicSpatialFourierFeaturesNet(input_size=2, # la red es 2D\n",
    "                                       mapping_size=1000,\n",
    "                                       sigma=7.5,\n",
    "                                       output_size=2, # real e imaginario \n",
    "                                       key_B=key_B)\n",
    "\n",
    "FFs = ffnet.useFFBox(X_full) \n",
    "fig, axs = plt.subplots(2,10, figsize=(10*2, 2*4), dpi=150) # observo los primeros 20 fourier features \n",
    "for i, ax in enumerate(axs.flatten()):\n",
    "    ax.imshow(FFs[0,:,:,i])\n",
    "    ax.set_axis_off()\n",
    "    ax.set_title(f'Feature {i}')\n"
   ]
  },
  {
   "cell_type": "code",
   "execution_count": null,
   "metadata": {},
   "outputs": [],
   "source": [
    "def ffnet_image(params, grid): \n",
    "    img = ffnet.eval_coordinates(params, grid) # (1,px,py,2)\n",
    "    img = to_complex(img) \n",
    "    return img \n",
    "\n",
    "@jit\n",
    "def loss(params, X, Y): \n",
    "   print(X.shape)\n",
    "   img = ffnet_image(params, X)\n",
    "   print(img.shape)\n",
    "   print(cs.shape)\n",
    "   coil_weighted_img = img * cs # (1,px,py,coils)\n",
    "   kspace = make_kspace(coil_weighted_img, axes=(1,2))[...,None] \n",
    "   print(kspace.shape) # revisar que los shapes de kspace e Y coincidan\n",
    "   print(Y.shape)\n",
    "   return mse(kspace, Y)\n",
    "\n",
    "params = ffnet.init_params(key_params, [256,256,256])\n",
    "\n",
    "optimizer = optax.adam(1e-3)\n",
    "results = simple_train(loss,\n",
    "                X_full,\n",
    "                Y_full,\n",
    "                params,\n",
    "                optimizer,\n",
    "                key_train,\n",
    "                batch_size=1,\n",
    "                nIter=5000) # no cambiar el batch size"
   ]
  },
  {
   "cell_type": "markdown",
   "metadata": {},
   "source": [
    "## Ver resultados"
   ]
  },
  {
   "cell_type": "code",
   "execution_count": null,
   "metadata": {},
   "outputs": [],
   "source": [
    "# %% \n",
    "\n",
    "chosen_csmap = 5\n",
    "vmax = 0.18\n",
    "\n",
    "fig = plt.figure(figsize=(8,7))\n",
    "plt.subplot(121)\n",
    "plt.imshow(np.abs(make_image(Y_full[0,:,:,chosen_csmap])), vmin=0., vmax=vmax, cmap='bone')\n",
    "plt.colorbar()\n",
    "plt.axis('off')\n",
    "plt.title(f'Reference en coil {chosen_csmap}')\n",
    "plt.subplot(122)\n",
    "plt.imshow(np.abs(ffnet_image(results['last_param'], X_full)[0,...,0] * cs[0,:,:,chosen_csmap]), vmin=0., vmax=vmax, cmap='bone')\n",
    "plt.title(f'Imagen aproximada con \\nFourier Features en coil {chosen_csmap}')\n",
    "plt.axis('off')\n",
    "plt.colorbar()\n",
    "# %%\n",
    "\n",
    "ffnet_image(results['last_param'], X_full).shape, cs.shape\n",
    "# %%"
   ]
  },
  {
   "cell_type": "code",
   "execution_count": null,
   "metadata": {},
   "outputs": [],
   "source": []
  }
 ],
 "metadata": {
  "kernelspec": {
   "display_name": "jax",
   "language": "python",
   "name": "python3"
  },
  "language_info": {
   "codemirror_mode": {
    "name": "ipython",
    "version": 3
   },
   "file_extension": ".py",
   "mimetype": "text/x-python",
   "name": "python",
   "nbconvert_exporter": "python",
   "pygments_lexer": "ipython3",
   "version": "3.11.5"
  }
 },
 "nbformat": 4,
 "nbformat_minor": 2
}
