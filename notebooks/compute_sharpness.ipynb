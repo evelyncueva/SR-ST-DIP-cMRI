{
 "cells": [
  {
   "cell_type": "code",
   "execution_count": null,
   "id": "f9c7f9e5-ebcf-43ac-a978-ff31933f15e4",
   "metadata": {},
   "outputs": [],
   "source": [
    "import scipy.io\n",
    "import jax.numpy as np\n",
    "from scipy.io import loadmat \n",
    "import numpy as onp\n",
    "import matplotlib.pyplot as plt \n",
    "import os\n",
    "import shutil\n",
    "from PIL import Image\n",
    "from inrmri.bart import bart_acquisition_from_arrays\n",
    "from inrmri.data_harvard import get_csmaps_and_mask, get_reference_reco\n",
    "import pandas as pd\n",
    "from jax import jit, vmap, random\n",
    "from inrmri.dip import TimeDependant_DIP_Net, helix_generator, circle_generator\n",
    "from inrmri.new_radon import ForwardRadonOperator\n",
    "from inrmri.fourier import fastshiftfourier, get_freqs\n",
    "from inrmri.basic_nn import weighted_loss \n",
    "from inrmri.utils import to_complex, is_inside_of_radial_lim, meshgrid_from_subdiv_autolims, total_variation_batch_complex, save_matrix_and_dict_in_zpy, load_matrix_and_dict_from_zpy    \n",
    "from inrmri.utils import create_exp_file_name, total_variation_complex\n",
    "import optax \n",
    "from inrmri.metrics_rd import mean_psnr, mean_ssim, mean_artifact_power\n",
    "from inrmri.utils_rdls import seconds_to_min_sec_format, filter_and_get_columns, apply_transform"
   ]
  },
  {
   "cell_type": "code",
   "execution_count": null,
   "id": "fd00e927-4a24-42f4-b40e-a475f47b770a",
   "metadata": {},
   "outputs": [],
   "source": [
    "from inrmri.image_processor import BeforeLinRegNormalizer\n",
    "from inrmri.basic_plotting import full_halph_FOV_space_time \n",
    "from inrmri.image_processor import reduce_FOV "
   ]
  },
  {
   "cell_type": "code",
   "execution_count": null,
   "id": "f5cc25e9-c5a1-48a3-8379-21daa5ac786a",
   "metadata": {},
   "outputs": [],
   "source": [
    "from inrmri.utils_rdls import safe_normalize, get_center"
   ]
  },
  {
   "cell_type": "markdown",
   "id": "a1f4550c-b411-4e4d-9ccc-03315c44af00",
   "metadata": {},
   "source": [
    "## General"
   ]
  },
  {
   "cell_type": "code",
   "execution_count": null,
   "id": "4bf4868f-0ec3-477c-8828-ad3094fabc7e",
   "metadata": {},
   "outputs": [],
   "source": [
    "total_slices = 8\n",
    "num_frames   = 30\n",
    "slice_num             = 7\n",
    "base_path    = '/mnt/workspace/datasets/pulseqCINE/'\n",
    "stdip_parameters = {\n",
    "    'experiment_name': 'total_kiter_lambda_denoise_reg', \n",
    "    'training_params': {\n",
    "        'total_kiter':3000,\n",
    "        'lambda_denoise_reg':1e-7,\n",
    "        'slice':slice_num,\n",
    "    }\n",
    "}\n",
    "tddip_parameters = {\n",
    "    'experiment_name': 'total_kiter', \n",
    "    'training_params': {\n",
    "        'total_kiter':2000,\n",
    "        'slice':slice_num,\n",
    "    }\n",
    "}\n",
    "# parameteres for global statustics\n",
    "stdip_summray_parameters = stdip_parameters['training_params']\n",
    "stdip_summray_parameters.pop('slice', None)\n",
    "tddip_summray_parameters = tddip_parameters['training_params']\n",
    "tddip_summray_parameters.pop('slice', None)"
   ]
  },
  {
   "cell_type": "code",
   "execution_count": null,
   "id": "163c4f81-39cf-407d-90f8-a5adf9e8c058",
   "metadata": {},
   "outputs": [],
   "source": [
    "dict_plot = {\n",
    "    'DATA_1.5T': {\n",
    "        'GC': {\n",
    "            1: {'crop_ns': [35,50,55,30], 'saturation': 0.25},\n",
    "            2: {'crop_ns': [35,50,55,30], 'saturation': 0.25}, # done\n",
    "            3: {'crop_ns': [32,57,55,27], 'saturation': 0.3}, # done\n",
    "            4: {'crop_ns': [32,47,57,27], 'saturation': 0.4}, # done\n",
    "            5: {'crop_ns': [25,55,50,30], 'saturation': 0.5}, # done\n",
    "            6: {'crop_ns': [23,55,48,30], 'saturation': 0.5}, # done\n",
    "            7: {'crop_ns': [25,55,50,30], 'saturation': 0.5},\n",
    "            8: {'crop_ns': [25,55,50,30], 'saturation': 0.5},\n",
    "        },\n",
    "        'CM': {\n",
    "            1: {'crop_ns': [32,43,30,40], 'saturation': 0.4},\n",
    "            2: {'crop_ns': [32,43,30,40], 'saturation': 0.4},\n",
    "            3: {'crop_ns': [32,43,30,40], 'saturation': 0.4}, # done\n",
    "            4: {'crop_ns': [35,40,35,40], 'saturation': 0.4}, # done\n",
    "            5: {'crop_ns': [35,40,35,40], 'saturation': 0.4}, # done\n",
    "            6: {'crop_ns': [35,40,40,34], 'saturation': 0.4}, # done\n",
    "            7: {'crop_ns': [35,40,35,40], 'saturation': 0.4}, # done\n",
    "            8: {'crop_ns': [35,40,35,40], 'saturation': 0.4},\n",
    "        },\n",
    "        'DW': {\n",
    "            1: {'crop_ns': [28,45,50,25], 'saturation': 0.6},\n",
    "            2: {'crop_ns': [28,45,50,25], 'saturation': 0.6}, # done\n",
    "            3: {'crop_ns': [28,45,50,25], 'saturation': 0.6}, # done\n",
    "            4: {'crop_ns': [28,45,50,25], 'saturation': 0.6}, # done\n",
    "            5: {'crop_ns': [30,45,50,25], 'saturation': 0.6}, # done\n",
    "            6: {'crop_ns': [30,45,50,25], 'saturation': 0.6},\n",
    "            7: {'crop_ns': [30,45,50,25], 'saturation': 0.6}, \n",
    "            8: {'crop_ns': [30,45,50,25], 'saturation': 0.6},\n",
    "        },\n",
    "    },\n",
    "    'DATA_0.55T': {\n",
    "        'MP': {\n",
    "            1: {'crop_ns': [40,35,35,40], 'saturation': 0.3}, # done\n",
    "            2: {'crop_ns': [40,35,35,40], 'saturation': 0.3}, # done\n",
    "            3: {'crop_ns': [40,35,35,40], 'saturation': 0.3}, # done\n",
    "            4: {'crop_ns': [40,35,35,40], 'saturation': 0.3}, # done\n",
    "            5: {'crop_ns': [40,40,40,40], 'saturation': 0.3}, # done\n",
    "            6: {'crop_ns': [40,40,40,40], 'saturation': 0.3},\n",
    "            7: {'crop_ns': [40,40,40,40], 'saturation': 0.3},\n",
    "            8: {'crop_ns': [40,40,40,40], 'saturation': 0.3},\n",
    "        },\n",
    "        'FH': {\n",
    "            1: {'crop_ns': [32,40,35,35], 'saturation': 0.3}, \n",
    "            2: {'crop_ns': [32,40,35,35], 'saturation': 0.3}, # done\n",
    "            3: {'crop_ns': [32,40,33,38], 'saturation': 0.3}, # done\n",
    "            4: {'crop_ns': [32,40,33,38], 'saturation': 0.3}, # done\n",
    "            5: {'crop_ns': [32,40,33,38], 'saturation': 0.3}, # done\n",
    "            6: {'crop_ns': [32,40,33,38], 'saturation': 0.3}, # done\n",
    "            7: {'crop_ns': [32,40,33,38], 'saturation': 0.3},\n",
    "            8: {'crop_ns': [32,40,33,38], 'saturation': 0.3},\n",
    "        }, \n",
    "        'TC': {\n",
    "            1: {'crop_ns': [32,42,48,37], 'saturation': 0.2},\n",
    "            2: {'crop_ns': [40,40,45,40], 'saturation': 0.2}, # done\n",
    "            3: {'crop_ns': [40,40,45,40], 'saturation': 0.2}, # done\n",
    "            4: {'crop_ns': [40,40,45,40], 'saturation': 0.2}, # done\n",
    "            5: {'crop_ns': [40,45,45,40], 'saturation': 0.2}, # done\n",
    "            6: {'crop_ns': [40,45,45,40], 'saturation': 0.25}, # done\n",
    "            7: {'crop_ns': [40,45,45,40], 'saturation': 0.25},\n",
    "            8: {'crop_ns': [40,45,45,40], 'saturation': 0.25},\n",
    "        }, \n",
    "        'RF': {\n",
    "            1: {'crop_ns': [38,42,45,40], 'saturation': 0.2},\n",
    "            2: {'crop_ns': [38,42,45,40], 'saturation': 0.2}, # done\n",
    "            3: {'crop_ns': [38,42,45,40], 'saturation': 0.2}, # done\n",
    "            4: {'crop_ns': [38,42,45,40], 'saturation': 0.25}, # done\n",
    "            5: {'crop_ns': [38,42,45,40], 'saturation': 0.25}, # done\n",
    "            6: {'crop_ns': [38,42,45,40], 'saturation': 0.25}, # done\n",
    "            7: {'crop_ns': [38,42,45,40], 'saturation': 0.25},\n",
    "            8: {'crop_ns': [38,42,45,40], 'saturation': 0.25},\n",
    "        }, \n",
    "        'JB': {\n",
    "            1: {'crop_ns': [40,38,48,30], 'saturation': 0.4},\n",
    "            2: {'crop_ns': [40,38,48,30], 'saturation': 0.4}, # done\n",
    "            3: {'crop_ns': [40,38,48,30], 'saturation': 0.5}, # done\n",
    "            4: {'crop_ns': [40,38,48,30], 'saturation': 0.5}, # done\n",
    "            5: {'crop_ns': [40,38,48,30], 'saturation': 0.5}, # done\n",
    "            6: {'crop_ns': [40,38,48,30], 'saturation': 0.5}, # done\n",
    "            7: {'crop_ns': [40,38,48,30], 'saturation': 0.5},\n",
    "            8: {'crop_ns': [40,38,48,30], 'saturation': 0.5},\n",
    "        }, \n",
    "        'FE': {\n",
    "            1: {'crop_ns': [40,40,42,38], 'saturation': 0.25},\n",
    "            2: {'crop_ns': [40,40,42,38], 'saturation': 0.25}, # done\n",
    "            3: {'crop_ns': [40,40,42,38], 'saturation': 0.25}, # done\n",
    "            4: {'crop_ns': [38,42,38,36], 'saturation': 0.25}, # done\n",
    "            5: {'crop_ns': [36,42,38,36], 'saturation': 0.35}, # done \n",
    "            6: {'crop_ns': [36,42,38,36], 'saturation': 0.35}, # done \n",
    "            7: {'crop_ns': [36,42,38,36], 'saturation': 0.4}, # done\n",
    "            8: {'crop_ns': [36,42,38,36], 'saturation': 0.5}, # done\n",
    "        }, \n",
    "        'DB': {\n",
    "            1: {'crop_ns': [34,40,45,30], 'saturation': 0.25},\n",
    "            2: {'crop_ns': [34,40,45,30], 'saturation': 0.25}, # done\n",
    "            3: {'crop_ns': [34,40,45,30], 'saturation': 0.25}, # done\n",
    "            4: {'crop_ns': [34,40,45,30], 'saturation': 0.25}, # done\n",
    "            5: {'crop_ns': [34,40,45,30], 'saturation': 0.25}, # done\n",
    "            6: {'crop_ns': [34,42,45,30], 'saturation': 0.25}, # done\n",
    "            7: {'crop_ns': [34,42,45,30], 'saturation': 0.25},\n",
    "            8: {'crop_ns': [34,42,45,30], 'saturation': 0.25},\n",
    "        }, \n",
    "        'FP': {\n",
    "            1: {'crop_ns': [35,42,45,30], 'saturation': 0.35},\n",
    "            2: {'crop_ns': [35,42,45,30], 'saturation': 0.35}, # done\n",
    "            3: {'crop_ns': [35,42,45,30], 'saturation': 0.35}, # done\n",
    "            4: {'crop_ns': [35,42,45,30], 'saturation': 0.35}, # done\n",
    "            5: {'crop_ns': [35,42,45,30], 'saturation': 0.35},\n",
    "            6: {'crop_ns': [35,42,45,30], 'saturation': 0.35},\n",
    "            7: {'crop_ns': [35,42,45,30], 'saturation': 0.35}, # done\n",
    "            8: {'crop_ns': [35,42,45,30], 'saturation': 0.35},\n",
    "        }, \n",
    "        'AA': {\n",
    "            1: {'crop_ns': [35,42,45,30], 'saturation': 0.3},\n",
    "            2: {'crop_ns': [35,42,45,30], 'saturation': 0.3}, # done\n",
    "            3: {'crop_ns': [35,42,45,30], 'saturation': 0.3}, # done\n",
    "            4: {'crop_ns': [35,42,45,30], 'saturation': 0.3}, # done\n",
    "            5: {'crop_ns': [35,42,45,30], 'saturation': 0.3}, # done\n",
    "            6: {'crop_ns': [35,42,45,30], 'saturation': 0.3}, # done\n",
    "            7: {'crop_ns': [35,42,45,30], 'saturation': 0.3},\n",
    "            8: {'crop_ns': [35,42,45,30], 'saturation': 0.3},\n",
    "        }, \n",
    "        'DP': {\n",
    "            1: {'crop_ns': [25,60,40,35], 'saturation': 0.2},\n",
    "            2: {'crop_ns': [25,60,40,35], 'saturation': 0.2}, # done\n",
    "            3: {'crop_ns': [25,55,40,35], 'saturation': 0.2}, # done\n",
    "            4: {'crop_ns': [25,55,40,35], 'saturation': 0.2}, # done\n",
    "            5: {'crop_ns': [25,55,40,35], 'saturation': 0.2}, # done\n",
    "            6: {'crop_ns': [25,55,40,35], 'saturation': 0.2}, # done\n",
    "            7: {'crop_ns': [25,55,40,40], 'saturation': 0.2}, # done\n",
    "            8: {'crop_ns': [25,55,40,40], 'saturation': 0.2},\n",
    "        }, \n",
    "    }\n",
    "}\n",
    "\n",
    "dict_trans = {\n",
    "    'DATA_1.5T': {\n",
    "        'GC': {\n",
    "            'flip_h': False,\n",
    "            'flip_v': False,\n",
    "            'rot': 0,\n",
    "        },\n",
    "        'CM': {\n",
    "            'flip_h': False,\n",
    "            'flip_v': False,\n",
    "            'rot': 0,\n",
    "        },\n",
    "        'DW': {\n",
    "            'flip_h': False,\n",
    "            'flip_v': False,\n",
    "            'rot': 0,\n",
    "        },\n",
    "    },\n",
    "    'DATA_0.55T': {\n",
    "        'MP': {\n",
    "            'flip_h': True,\n",
    "            'flip_v': True,\n",
    "            'rot': 0,\n",
    "        },\n",
    "        'FH': {\n",
    "            'flip_h': True,\n",
    "            'flip_v': True,\n",
    "            'rot': 0,\n",
    "        }, \n",
    "        'TC': {\n",
    "            'flip_h': True,\n",
    "            'flip_v': True,\n",
    "            'rot': 0,\n",
    "        }, \n",
    "        'RF': {\n",
    "            'flip_h': True,\n",
    "            'flip_v': True,\n",
    "            'rot': 0,\n",
    "        }, \n",
    "        'JB': {\n",
    "            'flip_h': True,\n",
    "            'flip_v': True,\n",
    "            'rot': 0,\n",
    "        }, \n",
    "        'FE': {\n",
    "            'flip_h': True,\n",
    "            'flip_v': False,\n",
    "            'rot': 0,\n",
    "        }, \n",
    "        'DB': {\n",
    "            'flip_h': True,\n",
    "            'flip_v': False,\n",
    "            'rot': 0,\n",
    "        },\n",
    "        'FP': {\n",
    "            'flip_h': False,\n",
    "            'flip_v': False,\n",
    "            'rot': 0,\n",
    "        },\n",
    "        'AA': {\n",
    "            'flip_h': True,\n",
    "            'flip_v': False,\n",
    "            'rot': 0,\n",
    "        },\n",
    "        'DP': {\n",
    "            'flip_h': False,\n",
    "            'flip_v': False,\n",
    "            'rot': 0,\n",
    "        },\n",
    "    }\n",
    "}\n",
    "\n",
    "\n",
    "gt_trans = {\n",
    "    'DATA_0.55T': {\n",
    "        'FP': {\n",
    "            'flip_h': False,\n",
    "            'flip_v': False,\n",
    "            'rot': 90,\n",
    "        },\n",
    "        'DP': {\n",
    "            'flip_h': True,\n",
    "            'flip_v': True,\n",
    "            'rot': 0,\n",
    "        },\n",
    "    }\n",
    "}\n"
   ]
  },
  {
   "cell_type": "markdown",
   "id": "df3f3a2b-dd59-43f3-8a9d-a9815edcc10f",
   "metadata": {},
   "source": [
    "# 1 .- Define volunteer and experiment"
   ]
  },
  {
   "cell_type": "code",
   "execution_count": null,
   "id": "168e5764-6eea-474e-949e-5b281138f92a",
   "metadata": {},
   "outputs": [],
   "source": [
    "volunteer    = 'TC'\n",
    "dataset      = 'DATA_0.55T'\n",
    "# --- PATH ---\n",
    "base_folder                = base_path + dataset + '/' + volunteer + '/'\n",
    "train_data_folder          = base_folder + 'traindata/'"
   ]
  },
  {
   "cell_type": "markdown",
   "id": "3f1ccbfa-29e4-48f9-9151-754ae1887a91",
   "metadata": {},
   "source": [
    "## 1.1 .- Ground truth data"
   ]
  },
  {
   "cell_type": "code",
   "execution_count": null,
   "id": "af9f5e9c-a3bf-45ca-9956-6bd3e8b77e06",
   "metadata": {},
   "outputs": [],
   "source": [
    "total_time_grasp = 0\n",
    "total_time_sense = 0\n",
    "for i in range(total_slices):\n",
    "    slice_item = i+1\n",
    "    dataset_name       = 'slice_' + str(slice_item) + '_' + str(total_slices) +'_nbins' + str(num_frames)\n",
    "    path_dataset       = train_data_folder + dataset_name + '.npz'\n",
    "    data               = onp.load(path_dataset)\n",
    "    total_time_grasp   += data[\"time_grasp\"]\n",
    "    total_time_sense   += data[\"time_sense\"]\n",
    "total_time_grasp, total_time_sense"
   ]
  },
  {
   "cell_type": "code",
   "execution_count": null,
   "id": "e5ecb797-7bc8-40a7-b027-d578cda39b44",
   "metadata": {},
   "outputs": [],
   "source": [
    "dataset_name          = 'slice_' + str(slice_num) + '_' + str(total_slices) +'_nbins' + str(num_frames)\n",
    "path_dataset          = train_data_folder + dataset_name + '.npz'"
   ]
  },
  {
   "cell_type": "code",
   "execution_count": null,
   "id": "9c7b2c3f-2c66-4350-b92d-2b2f08b63215",
   "metadata": {},
   "outputs": [],
   "source": [
    "data         = onp.load(path_dataset)\n",
    "recon_grasp  = data[\"recon_grasp\"]\n",
    "recon_sense  = data[\"recon_sense\"]\n",
    "recon_fs     = data[\"recon_fs\"]\n",
    "time_grasp   = data[\"time_grasp\"]\n",
    "time_sense   = data[\"time_sense\"]\n",
    "\n",
    "recon_grasp    = get_center(recon_grasp) \n",
    "recon_sense    = get_center(recon_sense)\n",
    "recon_fs       = get_center(recon_fs) \n",
    "\n",
    "recon_grasp    = safe_normalize(recon_grasp) \n",
    "recon_sense    = safe_normalize(recon_sense) \n",
    "recon_fs       = safe_normalize(recon_fs) "
   ]
  },
  {
   "cell_type": "code",
   "execution_count": null,
   "id": "5a0f048f-2915-48b3-a543-a1175305f376",
   "metadata": {},
   "outputs": [],
   "source": [
    "reference_metrics = {\n",
    "    'time_grasp':     time_grasp,\n",
    "    'time_sense':     time_sense,\n",
    "    'time_grasp_str': seconds_to_min_sec_format(total_time_grasp),\n",
    "    'time_sense_str': seconds_to_min_sec_format(total_time_sense),\n",
    "    'psnr_grasp':     mean_psnr(recon_grasp, recon_fs),\n",
    "    'psnr_sense':     mean_psnr(recon_sense, recon_fs),\n",
    "    'ssim_grasp':     mean_ssim(recon_grasp, recon_fs),\n",
    "    'ssim_sense':     mean_ssim(recon_sense, recon_fs),\n",
    "    'psnr_grasp_str':     str(round(float(mean_psnr(recon_grasp, recon_fs)),1)),\n",
    "    'psnr_sense_str':     str(round(float(mean_psnr(recon_sense, recon_fs)),1)),\n",
    "    'ssim_grasp_str':     str(round(float(mean_ssim(recon_grasp, recon_fs)),3)),\n",
    "    'ssim_sense_str':     str(round(float(mean_ssim(recon_sense, recon_fs)),3)),\n",
    "}"
   ]
  },
  {
   "cell_type": "markdown",
   "id": "abba27c9-23be-4bed-8714-5c7fa041ae59",
   "metadata": {},
   "source": [
    "## 1.2 .- Models reconstructions"
   ]
  },
  {
   "cell_type": "code",
   "execution_count": null,
   "id": "c0176242-2f7f-4297-bf8e-04260eb7c7bc",
   "metadata": {},
   "outputs": [],
   "source": [
    "target_columns = ['training_name', 'psnr', 'ssim', 'it', 'duration [min]', 'duration [s]']"
   ]
  },
  {
   "cell_type": "markdown",
   "id": "c4e18f97-6b48-40b9-b495-83eaca644e31",
   "metadata": {},
   "source": [
    "### 1.2.1 .- ST-DIP"
   ]
  },
  {
   "cell_type": "code",
   "execution_count": null,
   "id": "44169b24-fc96-4a8b-8cc7-7c0bb7d0b2af",
   "metadata": {},
   "outputs": [],
   "source": [
    "stdip_parameters['path']               = base_folder + 'stDIP'\n",
    "stdip_parameters['csv_path']           = stdip_parameters['path'] +  '/' + stdip_parameters['experiment_name'] + \".csv\"\n",
    "stdip_parameters['csv_path_summary']   = stdip_parameters['path'] +  '/' + stdip_parameters['experiment_name'] + \"_summary.csv\"\n",
    "stdip_parameters['exp_folder_path']    = stdip_parameters['path'] +  '/' + dataset_name + '/' + stdip_parameters['experiment_name']\n",
    "df_stdip                               = pd.read_csv(stdip_parameters['csv_path'] , delimiter=';')\n",
    "df_stdip_summary                       = pd.read_csv(stdip_parameters['csv_path_summary'] , delimiter=';')"
   ]
  },
  {
   "cell_type": "code",
   "execution_count": null,
   "id": "cdc8b163-5a63-41c3-9693-f40e0ba2ac74",
   "metadata": {},
   "outputs": [],
   "source": [
    "stDIP_results                          = filter_and_get_columns(df_stdip, stdip_parameters['training_params'], target_columns)[0]"
   ]
  },
  {
   "cell_type": "code",
   "execution_count": null,
   "id": "609419ed-4a41-4bbf-84e5-639a8a17488f",
   "metadata": {},
   "outputs": [],
   "source": [
    "stdip_parameters['best_recon_path']    = stdip_parameters['exp_folder_path'] +  '/' + stDIP_results['training_name'] + '/' + 'best_recon.npz'"
   ]
  },
  {
   "cell_type": "code",
   "execution_count": null,
   "id": "6fb1f3e1-5dcf-42ab-bd12-b1390c5a7de0",
   "metadata": {},
   "outputs": [],
   "source": [
    "stDIP_results['recon']     = onp.load(stdip_parameters['best_recon_path'], allow_pickle=True)['best_recon']"
   ]
  },
  {
   "cell_type": "markdown",
   "id": "c56c3369-ca9a-4651-9ed6-ed2eeb7c11de",
   "metadata": {},
   "source": [
    "### 1.2.2 .- TD-DIP"
   ]
  },
  {
   "cell_type": "code",
   "execution_count": null,
   "id": "48be45f5-0a0c-48fe-aebc-2e3a6ba999a5",
   "metadata": {},
   "outputs": [],
   "source": [
    "tddip_parameters['path']               = base_folder + 'tdDIP'\n",
    "tddip_parameters['csv_path']           = tddip_parameters['path'] +  '/' + tddip_parameters['experiment_name'] + \".csv\"\n",
    "tddip_parameters['csv_path_summary']   = tddip_parameters['path'] +  '/' + tddip_parameters['experiment_name'] + \"_summary.csv\"\n",
    "tddip_parameters['exp_folder_path']    = tddip_parameters['path'] +  '/' + dataset_name + '/' + tddip_parameters['experiment_name']\n",
    "df_tddip                               = pd.read_csv(tddip_parameters['csv_path'] , delimiter=';')\n",
    "df_tddip_summary                       = pd.read_csv(tddip_parameters['csv_path_summary'] , delimiter=';')"
   ]
  },
  {
   "cell_type": "code",
   "execution_count": null,
   "id": "234e897b-199e-4bf5-89bf-c47a7a7ad7d7",
   "metadata": {},
   "outputs": [],
   "source": [
    "tdDIP_results                          = filter_and_get_columns(df_tddip, tddip_parameters['training_params'], target_columns)[0]"
   ]
  },
  {
   "cell_type": "code",
   "execution_count": null,
   "id": "78341710-4772-4bcd-ad57-5e152873878e",
   "metadata": {},
   "outputs": [],
   "source": [
    "tdDIP_summary_results                         =    filter_and_get_columns(df_tddip_summary, tddip_summray_parameters, ['duration [s]_mean'])[0]\n",
    "tdDIP_results['total_recon_time [s]']         =    tdDIP_summary_results['duration [s]_mean'] * total_slices\n",
    "tdDIP_results['total_recon_time [s]'], tdDIP_results['total_recon_time [s]']//60"
   ]
  },
  {
   "cell_type": "code",
   "execution_count": null,
   "id": "01305cdd-ee4d-4f3c-a7d2-812eaecaf8c6",
   "metadata": {},
   "outputs": [],
   "source": [
    "tddip_parameters['best_recon_path']    = tddip_parameters['exp_folder_path'] +  '/' + tdDIP_results['training_name'] + '/' + 'best_recon.npz'"
   ]
  },
  {
   "cell_type": "code",
   "execution_count": null,
   "id": "f6f1bb04-bab0-4129-b5b1-9c5bf8fb6cf4",
   "metadata": {},
   "outputs": [],
   "source": [
    "tdDIP_results['recon']     = onp.load(tddip_parameters['best_recon_path'], allow_pickle=True)['best_recon']"
   ]
  },
  {
   "cell_type": "code",
   "execution_count": null,
   "id": "3b544335-7fa3-46a5-b910-42faf522ae8d",
   "metadata": {},
   "outputs": [],
   "source": [
    "stDIP_results['recon']     = safe_normalize(stDIP_results['recon'] ) \n",
    "tdDIP_results['recon']     = safe_normalize(tdDIP_results['recon'] ) "
   ]
  },
  {
   "cell_type": "markdown",
   "id": "cf77aeb6-1f6f-4e29-a21c-609f96be99a8",
   "metadata": {},
   "source": [
    "# 2 .- Comparison of models"
   ]
  },
  {
   "cell_type": "code",
   "execution_count": null,
   "id": "091fcba5-4162-48de-8fb3-6ba4724cffbc",
   "metadata": {},
   "outputs": [],
   "source": [
    "comparison_folder = base_folder + 'comparison/'\n",
    "if not os.path.exists(comparison_folder):\n",
    "    os.makedirs(comparison_folder)"
   ]
  },
  {
   "cell_type": "markdown",
   "id": "c2b8c4dd-7b65-44cf-bd16-993920d2e749",
   "metadata": {},
   "source": [
    "## 2.1 .- Parameters for visualiation"
   ]
  },
  {
   "cell_type": "code",
   "execution_count": null,
   "id": "8362bd6c-b734-4aa1-a4c3-9552941fff8b",
   "metadata": {},
   "outputs": [],
   "source": [
    "add_psnr = False\n",
    "add_ssim = False\n",
    "add_time = True\n",
    "gt_title    = r'$\\mathbf{Ground Truth}$'\n",
    "stdip_title = r'$\\mathbf{ST\\text{-}DIP}$'\n",
    "tddip_title = r'$\\mathbf{TD\\text{-}DIP}$'\n",
    "grasp_title = r'$\\mathbf{GRASP}$'\n",
    "sense_title = r'$\\mathbf{SENSE}$'\n",
    "if add_psnr:\n",
    "    gt_title    += '\\n '\n",
    "    stdip_title += '\\npsnr: ' + str(round(stDIP_results['psnr'],1))\n",
    "    tddip_title += '\\npsnr: ' + str(round(tdDIP_results['psnr'],1))\n",
    "    grasp_title += '\\npsnr: ' + reference_metrics['psnr_grasp_str']\n",
    "    sense_title += '\\npsnr: ' + reference_metrics['psnr_sense_str']\n",
    "\n",
    "if add_ssim:\n",
    "    gt_title    += '\\n '\n",
    "    stdip_title += '\\nssim: ' + str(round(stDIP_results['ssim'],3))\n",
    "    tddip_title += '\\nssim: ' + str(round(tdDIP_results['ssim'],3))\n",
    "    grasp_title += '\\nssim: ' + reference_metrics['ssim_grasp_str']\n",
    "    sense_title += '\\nssim: ' + reference_metrics['ssim_sense_str']\n",
    "\n",
    "if add_time:\n",
    "    gt_title    += '\\n '\n",
    "    stdip_title += '\\ntotal recon time: ' + seconds_to_min_sec_format(stDIP_results['duration [s]'])\n",
    "    tddip_title += '\\ntotal recon time: ' + seconds_to_min_sec_format(tdDIP_results['total_recon_time [s]'])\n",
    "    grasp_title += '\\ntotal recon time: ' + reference_metrics['time_grasp_str']\n",
    "    sense_title += '\\ntotal recon time: ' + reference_metrics['time_sense_str']"
   ]
  },
  {
   "cell_type": "code",
   "execution_count": null,
   "id": "84aa9083-6ad0-4e39-bff0-cd649288b8f9",
   "metadata": {},
   "outputs": [],
   "source": [
    "stDIP_results['name'] = stdip_title\n",
    "tdDIP_results['name'] = tddip_title\n",
    "name_grasp            = grasp_title\n",
    "name_sense            = sense_title"
   ]
  },
  {
   "cell_type": "markdown",
   "id": "3cfad9d5-9cc5-4672-92d3-c2f901a9ec98",
   "metadata": {},
   "source": [
    "## 2.2 .- Plotting customization per volunteer"
   ]
  },
  {
   "cell_type": "code",
   "execution_count": null,
   "id": "f82132c0-4dc7-4649-84fe-3dd66743b4a2",
   "metadata": {},
   "outputs": [],
   "source": [
    "stDIP_results['recon_trans'] = apply_transform(stDIP_results['recon'], dataset, volunteer, dict_trans)\n",
    "tdDIP_results['recon_trans'] = apply_transform(tdDIP_results['recon'], dataset, volunteer, dict_trans)\n",
    "recon_grasp_trans = apply_transform(recon_grasp, dataset, volunteer, dict_trans)\n",
    "recon_sense_trans = apply_transform(recon_sense, dataset, volunteer, dict_trans)\n",
    "if volunteer in ['FP', 'DP']:\n",
    "    recon_fs_trans = apply_transform(recon_fs, dataset, volunteer, gt_trans)\n",
    "else:\n",
    "    recon_fs_trans = apply_transform(recon_fs, dataset, volunteer, dict_trans)"
   ]
  },
  {
   "cell_type": "code",
   "execution_count": null,
   "id": "08093b4e-6527-4af6-935a-fa492c6e79fd",
   "metadata": {},
   "outputs": [],
   "source": [
    "matrix_list  = [recon_fs_trans, stDIP_results['recon_trans'], tdDIP_results['recon_trans'] , recon_grasp_trans, recon_sense_trans]\n",
    "matrix_names = [gt_title, stDIP_results['name'], tdDIP_results['name'] , name_grasp , name_sense ]\n",
    "\n",
    "crop_ns       = dict_plot[dataset][volunteer][slice_num]['crop_ns']\n",
    "saturation    = dict_plot[dataset][volunteer][slice_num]['saturation']\n",
    "frame = 0\n",
    "print(crop_ns, saturation)"
   ]
  },
  {
   "cell_type": "code",
   "execution_count": null,
   "id": "fb28b0a5-44f5-4234-b87f-ecbd1a70bfee",
   "metadata": {},
   "outputs": [],
   "source": [
    "fig, axs = full_halph_FOV_space_time(matrix_list, crop_ns=crop_ns, saturation=saturation, frame=frame, xy_proportion=(2,7))\n",
    "for ax, title in zip(axs, matrix_names):\n",
    "    ax[0].set_title(title)\n",
    "fig.savefig( comparison_folder + 'slice' + str(slice_num) + \".png\", dpi=300, bbox_inches='tight')"
   ]
  },
  {
   "cell_type": "markdown",
   "id": "dd4b2705-5003-46bf-8473-2fc95be9c067",
   "metadata": {},
   "source": [
    "# 3 .- Get Sharpness"
   ]
  },
  {
   "cell_type": "code",
   "execution_count": null,
   "id": "2ff6608a-808d-4f87-a75e-5d87ac7d8361",
   "metadata": {},
   "outputs": [],
   "source": [
    "from inrmri.image_processor import crop_2d_im \n",
    "from inrmri.sharpness import (\n",
    "    radial_sharpness,\n",
    "    extract_line_at_points,\n",
    "    get_line_points_from_angle,\n",
    "    find_percentile_idx, \n",
    "    get_distance\n",
    ")"
   ]
  },
  {
   "cell_type": "code",
   "execution_count": null,
   "id": "a02ebf1e-1a4e-43f1-9fcd-e57626b55a3c",
   "metadata": {},
   "outputs": [],
   "source": [
    "recon_fs_trans.shape"
   ]
  },
  {
   "cell_type": "code",
   "execution_count": null,
   "id": "9e7f2082-5fb3-43e2-b2af-7cf88881f991",
   "metadata": {},
   "outputs": [],
   "source": [
    "# parameters\n",
    "center           = np.array([22, 22])  # coordenadas del centro del miocardio\n",
    "radius_pixels    = 10                  # radio en pixeles del perfil \n",
    "selected_frame   = 0\n",
    "angle            = np.pi * (-1/4)\n",
    "im               = crop_2d_im(recon_grasp_trans[...,selected_frame], crop_ns)\n",
    "vmax             = 0.6 * np.abs(im).max() \n",
    "im.shape"
   ]
  },
  {
   "cell_type": "code",
   "execution_count": null,
   "id": "647d33e3-7dd3-4901-b676-445fcff6f088",
   "metadata": {},
   "outputs": [],
   "source": [
    "def get_profile(image, frame, crop_ns):\n",
    "    im                 = crop_2d_im(image[...,frame], crop_ns)\n",
    "    vmax               = 0.6 * np.abs(im).max() \n",
    "    points, idx_center = get_line_points_from_angle(center, angle, im.shape)\n",
    "    points             = points[idx_center-radius_pixels:idx_center,:] # mitad izquierda\n",
    "    profile            = extract_line_at_points(im, points)\n",
    "    return profile"
   ]
  },
  {
   "cell_type": "code",
   "execution_count": null,
   "id": "dd0b4736-d069-4390-959e-7429b6d995b0",
   "metadata": {},
   "outputs": [],
   "source": [
    "recon_grasp_trans.shape"
   ]
  },
  {
   "cell_type": "code",
   "execution_count": null,
   "id": "d6deca84-49d5-4b50-803a-b048c6ecfccd",
   "metadata": {},
   "outputs": [],
   "source": [
    "# recon fully-sampled \n",
    "fs_profile          = get_profile(recon_fs_trans, selected_frame, crop_ns)\n",
    "stdip_profile       = get_profile(stDIP_results['recon_trans'], selected_frame, crop_ns)\n",
    "tddip_profile       = get_profile(tdDIP_results['recon_trans'], selected_frame, crop_ns)\n",
    "grasp_profile       = get_profile(recon_grasp_trans, selected_frame, crop_ns)\n",
    "sense_profile       = get_profile(recon_sense_trans, selected_frame, crop_ns)\n",
    "# stDIP\n",
    "plt.plot(fs_profile, '.-', label= 'FS')\n",
    "plt.plot(stdip_profile, '.-', label= 'ST-DIP')\n",
    "plt.plot(tddip_profile, '.-', label= 'TD-DIP')\n",
    "plt.plot(grasp_profile, '.-', label= 'GRASP')\n",
    "plt.plot(sense_profile, '.-', label= 'SENSE')\n",
    "plt.legend()"
   ]
  },
  {
   "cell_type": "code",
   "execution_count": null,
   "id": "f691f740-58e3-4513-8e67-8d2fc4c94da0",
   "metadata": {},
   "outputs": [],
   "source": [
    "im.shape, d, d_20_80"
   ]
  },
  {
   "cell_type": "code",
   "execution_count": null,
   "id": "e879eb81-b1f1-4b8c-9300-d111f9720f89",
   "metadata": {},
   "outputs": [],
   "source": [
    "plt.figure()\n",
    "plt.subplot(211)\n",
    "plt.imshow(np.abs(im), cmap='bone', vmax=vmax)\n",
    "plt.plot(points[:,1],\n",
    "        points[:,0],\n",
    "        color='red'\n",
    "        )\n",
    "plt.subplot(212)\n",
    "plt.plot(profile, '.-', color = 'red', label= 'profile')\n",
    "\n",
    "p20_color = 'orange'\n",
    "plt.hlines([p20], xmin=0, xmax=14, color=p20_color, label='p20', linestyles=(0,(1,3)))\n",
    "plt.vlines([idx_20], ymin=profile.min(), ymax=profile.max(), color=p20_color, label='idx_20', linestyles=(0,(1,1)))\n",
    "\n",
    "p80_color = 'blue'\n",
    "plt.hlines([p80], xmin=0, xmax=14, color=p80_color, label='p80', linestyles=(0, (3,3,1,3)))\n",
    "plt.vlines([idx_80], ymin=profile.min(), ymax=profile.max(), color=p80_color, label='idx_80', linestyles=(0, (3,1,1,1)))\n",
    "\n",
    "plt.hlines([profile.min()], xmin=idx_20, xmax=idx_80, color='gray', linestyles='-')\n",
    "plt.text(x=(idx_20 + idx_80)/2, y=profile.min() + 0.07 * (profile.max() - profile.min()), s='$d_{20, 80} = $' + f'{d_20_80}', ha='center', va='center', color='gray')\n",
    "\n",
    "plt.legend(bbox_to_anchor=(1.05, 1), loc='upper left')\n",
    "plt.title('$d_{20,80} = ' f'{d_20_80}$, sharpness 1/d {1 / d:.3f}')\n",
    "plt.tight_layout()"
   ]
  },
  {
   "cell_type": "code",
   "execution_count": null,
   "id": "49061615-50b6-40e5-bb4a-d77968a77c39",
   "metadata": {},
   "outputs": [],
   "source": []
  },
  {
   "cell_type": "code",
   "execution_count": null,
   "id": "b4c9e1cb-5e03-4f02-bb35-879d2be6071b",
   "metadata": {},
   "outputs": [],
   "source": []
  }
 ],
 "metadata": {
  "kernelspec": {
   "display_name": "Python 3 (ipykernel)",
   "language": "python",
   "name": "python3"
  },
  "language_info": {
   "codemirror_mode": {
    "name": "ipython",
    "version": 3
   },
   "file_extension": ".py",
   "mimetype": "text/x-python",
   "name": "python",
   "nbconvert_exporter": "python",
   "pygments_lexer": "ipython3",
   "version": "3.11.9"
  }
 },
 "nbformat": 4,
 "nbformat_minor": 5
}
