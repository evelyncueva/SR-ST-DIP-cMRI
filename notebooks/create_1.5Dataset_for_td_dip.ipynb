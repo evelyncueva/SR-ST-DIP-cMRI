{
 "cells": [
  {
   "cell_type": "markdown",
   "id": "cb0a78ad-3f87-47f0-bedf-f9db2b56017d",
   "metadata": {},
   "source": [
    "## **Create dataset for Time-dependent Deep Image Prior (TD-DIP) using 1.5T data**\n",
    "This code takes the data from the MC-CINE at 1.5T, an create a new dataset wit the used format for the TD-DIP acquitecture"
   ]
  },
  {
   "cell_type": "markdown",
   "id": "2a300d65-1eab-491b-aaee-3410b6d8c076",
   "metadata": {},
   "source": [
    "#### Libraries"
   ]
  },
  {
   "cell_type": "code",
   "execution_count": 1,
   "id": "2db48b3d-6ce0-4986-b870-a6678a7752b3",
   "metadata": {},
   "outputs": [],
   "source": [
    "# basic libraries\n",
    "import numpy as onp\n",
    "import jax.numpy as np \n",
    "import matplotlib.pyplot as plt  \n",
    "import os\n",
    "# bart\n",
    "from inrmri.bart import bart_acquisition_from_arrays"
   ]
  },
  {
   "cell_type": "code",
   "execution_count": 2,
   "id": "07fae605-8c30-4635-b9ae-e61a7b175ad0",
   "metadata": {},
   "outputs": [],
   "source": [
    "from inrmri.utils_rdls import preprocess_data, get_csm_format\n",
    "from inrmri.utils_rdls import plot_angles_and_times_from_xdata, balance_spokes_duplicating\n",
    "from inrmri.utils_rdls import plot_traj, plot_kdata, plot_csm, plot_zoom_images"
   ]
  },
  {
   "cell_type": "code",
   "execution_count": 3,
   "id": "abbdd3bb-ea5e-4441-ab36-2c892ce9154a",
   "metadata": {},
   "outputs": [],
   "source": [
    "from inrmri.utils_rdls import save_frames_as_gif_with_pillow"
   ]
  },
  {
   "cell_type": "markdown",
   "id": "d38d8c57-bbe4-4d8e-93e5-73c8959de317",
   "metadata": {},
   "source": [
    "# **1 .- DATA**"
   ]
  },
  {
   "cell_type": "markdown",
   "id": "4763a5e3-4e92-4a42-b596-506c316ffd65",
   "metadata": {},
   "source": [
    "#### **Parameters**"
   ]
  },
  {
   "cell_type": "code",
   "execution_count": 4,
   "id": "971c5ecb-7be5-435f-af0d-0281d115d90e",
   "metadata": {},
   "outputs": [],
   "source": [
    "# input folders\n",
    "base_path             = '/mnt/workspace/datasets/CRUZ_TOM_FREERUN/CINE_tr_resolved/Processed_Data/CINE/'\n",
    "slice_num             = 1\n",
    "nslices               = 8\n",
    "volunteer_name        = 'DW' # 'OJ', 'NF' 'GC', 'CM', 'DW'\n",
    "# parameters\n",
    "nbins                 = 30\n",
    "# computation folders\n",
    "bart_files_folder     = '/mnt/workspace/datasets/pulseqCINE/bart_files/'\n",
    "# output folder\n",
    "dataset_name          = 'DATA_1.5T'\n",
    "base_folder           = '/mnt/workspace/datasets/pulseqCINE/' + dataset_name + '/' + volunteer_name + '/'\n",
    "train_data_folder     = base_folder + '/traindata/'\n",
    "recons_folder         = base_folder + '/recons/' "
   ]
  },
  {
   "cell_type": "code",
   "execution_count": 5,
   "id": "88fd69ab-56cb-47f5-a038-df56a030f953",
   "metadata": {},
   "outputs": [],
   "source": [
    "if not os.path.exists(base_folder):\n",
    "    os.makedirs(base_folder)\n",
    "\n",
    "if not os.path.exists(train_data_folder):\n",
    "    os.makedirs(train_data_folder)\n",
    "\n",
    "if not os.path.exists(recons_folder):\n",
    "    os.makedirs(recons_folder)"
   ]
  },
  {
   "cell_type": "code",
   "execution_count": 6,
   "id": "df61d96f-bc33-4d5a-a766-fcf013ba5fa0",
   "metadata": {},
   "outputs": [],
   "source": [
    "dataset_name              = 'slice_' + str(slice_num) +'_' + str(nslices) +'_nbins' + str(nbins)\n",
    "dataset_recon_folder      = recons_folder + dataset_name + '/'\n",
    "path_save                 = train_data_folder + dataset_name + '.npz'"
   ]
  },
  {
   "cell_type": "markdown",
   "id": "58c6dff7-0238-482a-937e-07d63eca7968",
   "metadata": {},
   "source": [
    "## **1.1 Load Data**"
   ]
  },
  {
   "cell_type": "markdown",
   "id": "6a65e43a-850f-4356-9ec9-7a06b920b589",
   "metadata": {},
   "source": [
    "#### For each volunteer the following data is available: \n",
    "* **'traj'**:  Positions of the sampled data in k-space.\n",
    "* **'dcf'**:   Density compensation.\n",
    "* **'kdata'**: Acquired data.\n",
    "* **'csm'**:   Sensitivity coil maps.\n",
    "* **'Nt'**:    Total de spokes adquiridas.\n",
    "* **'zf'**:    Reconstrucción con zero fill; supongo que juntando todas las spokes.\n",
    "* **'fs'**:    Fully sampled recontruction."
   ]
  },
  {
   "cell_type": "code",
   "execution_count": 7,
   "id": "65dfdad2-0b64-47e2-bdb9-478158198e80",
   "metadata": {},
   "outputs": [
    {
     "name": "stdout",
     "output_type": "stream",
     "text": [
      "readout:  256\n",
      "number of coils:   8\n",
      "number of frames:  30\n"
     ]
    }
   ],
   "source": [
    "zf     = onp.load(base_path + volunteer_name + '_slice' +  str(slice_num) + '_' +'zf' + '.npy', allow_pickle=True)[:,:,0,:]\n",
    "traj   = onp.load(base_path + volunteer_name + '_slice' +  str(slice_num) + '_' +'traj' + '.npy', allow_pickle=True)[0]\n",
    "kdata  = onp.load(base_path + volunteer_name + '_slice' +  str(slice_num) + '_' +'kdata' + '.npy', allow_pickle=True)[0]\n",
    "fs     = onp.load(base_path + volunteer_name + '_slice' +  str(slice_num) + '_' +'fs' + '.npy', allow_pickle=True)[:,:,0,:]\n",
    "dcf    = onp.load(base_path + volunteer_name + '_slice' +  str(slice_num) + '_' +'dcf' + '.npy', allow_pickle=True)[0]\n",
    "csm    = onp.load(base_path + volunteer_name + '_slice' +  str(slice_num) + '_' +'csm' + '.npy', allow_pickle=True)[:,:,0,:]\n",
    "\n",
    "# ---   data preprocess   --- \n",
    "# get information\n",
    "readout, _, n_coils  = csm.shape\n",
    "n_frames             = len(traj)\n",
    "print('readout: ', readout)\n",
    "print('number of coils:  ', n_coils)\n",
    "print('number of frames: ', n_frames)"
   ]
  },
  {
   "cell_type": "markdown",
   "id": "fa1dc887-fe73-4635-bcd0-78338c97c8e4",
   "metadata": {},
   "source": [
    "## **1.2 Preprocess data**"
   ]
  },
  {
   "cell_type": "markdown",
   "id": "0705fa2c-bf07-469e-806a-0cb7b34994a9",
   "metadata": {},
   "source": [
    "### Trajectory"
   ]
  },
  {
   "cell_type": "code",
   "execution_count": 8,
   "id": "ccaf01fe-70cc-45f9-8cf1-a59a0deae62d",
   "metadata": {},
   "outputs": [
    {
     "name": "stderr",
     "output_type": "stream",
     "text": [
      "2025-05-02 18:22:22.641752: W external/xla/xla/service/gpu/nvptx_compiler.cc:836] The NVIDIA driver's CUDA version is 12.2 which is older than the PTX compiler version (12.6.20). Because the driver is older than the PTX compiler version, XLA is disabling parallel compilation, which may slow down compilation. You should update your NVIDIA driver or use the NVIDIA-provided CUDA forward compatibility packages.\n"
     ]
    },
    {
     "data": {
      "text/plain": [
       "(448, 256, 2)"
      ]
     },
     "execution_count": 8,
     "metadata": {},
     "output_type": "execute_result"
    }
   ],
   "source": [
    "# The trajectory is normalized, so we ponderate it by the readout\n",
    "for i in range(nbins):\n",
    "    traj[i] = traj[i]*readout\n",
    "\n",
    "traj_aux_list = []\n",
    "spokes_per_bin_list = []\n",
    "bins_sorted = []\n",
    "for i in range(n_frames):\n",
    "    spokes_per_bin = traj[i].shape[0]//readout\n",
    "    spokes_per_bin_list.append(spokes_per_bin)\n",
    "    bins_sorted += [i]*spokes_per_bin\n",
    "    traj_aux_list.append( np.reshape( traj[i], (spokes_per_bin, readout, 2) ) )\n",
    "\n",
    "traj_sorted = np.concat(traj_aux_list, axis=0)\n",
    "traj_sorted.shape"
   ]
  },
  {
   "cell_type": "markdown",
   "id": "6c20447b-6974-410a-83cd-d53b015a1694",
   "metadata": {},
   "source": [
    "### Coil sensitivities"
   ]
  },
  {
   "cell_type": "code",
   "execution_count": 9,
   "id": "00db06f9-32e6-45e2-96de-2b5107da0b66",
   "metadata": {},
   "outputs": [
    {
     "name": "stderr",
     "output_type": "stream",
     "text": [
      "Exception ignored in: <function _xla_gc_callback at 0x7fa7ac67d3a0>\n",
      "Traceback (most recent call last):\n",
      "  File \"/mnt/workspace/rdelasotta/.conda/envs/jaxenv/lib/python3.11/site-packages/jax/_src/lib/__init__.py\", line 96, in _xla_gc_callback\n",
      "    def _xla_gc_callback(*args):\n",
      "    \n",
      "KeyboardInterrupt: \n"
     ]
    },
    {
     "ename": "KeyboardInterrupt",
     "evalue": "",
     "output_type": "error",
     "traceback": [
      "\u001b[0;31m---------------------------------------------------------------------------\u001b[0m",
      "\u001b[0;31mKeyboardInterrupt\u001b[0m                         Traceback (most recent call last)",
      "Cell \u001b[0;32mIn[9], line 2\u001b[0m\n\u001b[1;32m      1\u001b[0m \u001b[38;5;66;03m# transpose coils\u001b[39;00m\n\u001b[0;32m----> 2\u001b[0m csm \u001b[38;5;241m=\u001b[39m np\u001b[38;5;241m.\u001b[39mtranspose(csm, (\u001b[38;5;241m2\u001b[39m, \u001b[38;5;241m0\u001b[39m, \u001b[38;5;241m1\u001b[39m))\n\u001b[1;32m      3\u001b[0m csm\u001b[38;5;241m.\u001b[39mshape\n",
      "File \u001b[0;32m/mnt/workspace/rdelasotta/.conda/envs/jaxenv/lib/python3.11/site-packages/jax/_src/numpy/lax_numpy.py:803\u001b[0m, in \u001b[0;36mtranspose\u001b[0;34m(a, axes)\u001b[0m\n\u001b[1;32m    801\u001b[0m axes_ \u001b[38;5;241m=\u001b[39m \u001b[38;5;28mlist\u001b[39m(\u001b[38;5;28mrange\u001b[39m(ndim(a))[::\u001b[38;5;241m-\u001b[39m\u001b[38;5;241m1\u001b[39m]) \u001b[38;5;28;01mif\u001b[39;00m axes \u001b[38;5;129;01mis\u001b[39;00m \u001b[38;5;28;01mNone\u001b[39;00m \u001b[38;5;28;01melse\u001b[39;00m axes\n\u001b[1;32m    802\u001b[0m axes_ \u001b[38;5;241m=\u001b[39m [_canonicalize_axis(i, ndim(a)) \u001b[38;5;28;01mfor\u001b[39;00m i \u001b[38;5;129;01min\u001b[39;00m axes_]\n\u001b[0;32m--> 803\u001b[0m \u001b[38;5;28;01mreturn\u001b[39;00m lax\u001b[38;5;241m.\u001b[39mtranspose(a, axes_)\n",
      "File \u001b[0;32m/mnt/workspace/rdelasotta/.conda/envs/jaxenv/lib/python3.11/site-packages/jax/_src/lax/lax.py:1030\u001b[0m, in \u001b[0;36mtranspose\u001b[0;34m(operand, permutation)\u001b[0m\n\u001b[1;32m   1028\u001b[0m   \u001b[38;5;28;01mreturn\u001b[39;00m operand\n\u001b[1;32m   1029\u001b[0m \u001b[38;5;28;01melse\u001b[39;00m:\n\u001b[0;32m-> 1030\u001b[0m   \u001b[38;5;28;01mreturn\u001b[39;00m transpose_p\u001b[38;5;241m.\u001b[39mbind(operand, permutation\u001b[38;5;241m=\u001b[39mpermutation)\n",
      "File \u001b[0;32m/mnt/workspace/rdelasotta/.conda/envs/jaxenv/lib/python3.11/site-packages/jax/_src/core.py:429\u001b[0m, in \u001b[0;36mPrimitive.bind\u001b[0;34m(self, *args, **params)\u001b[0m\n\u001b[1;32m    426\u001b[0m \u001b[38;5;28;01mdef\u001b[39;00m \u001b[38;5;21mbind\u001b[39m(\u001b[38;5;28mself\u001b[39m, \u001b[38;5;241m*\u001b[39margs, \u001b[38;5;241m*\u001b[39m\u001b[38;5;241m*\u001b[39mparams):\n\u001b[1;32m    427\u001b[0m   \u001b[38;5;28;01massert\u001b[39;00m (\u001b[38;5;129;01mnot\u001b[39;00m config\u001b[38;5;241m.\u001b[39menable_checks\u001b[38;5;241m.\u001b[39mvalue \u001b[38;5;129;01mor\u001b[39;00m\n\u001b[1;32m    428\u001b[0m           \u001b[38;5;28mall\u001b[39m(\u001b[38;5;28misinstance\u001b[39m(arg, Tracer) \u001b[38;5;129;01mor\u001b[39;00m valid_jaxtype(arg) \u001b[38;5;28;01mfor\u001b[39;00m arg \u001b[38;5;129;01min\u001b[39;00m args)), args\n\u001b[0;32m--> 429\u001b[0m   \u001b[38;5;28;01mreturn\u001b[39;00m \u001b[38;5;28mself\u001b[39m\u001b[38;5;241m.\u001b[39mbind_with_trace(find_top_trace(args), args, params)\n",
      "File \u001b[0;32m/mnt/workspace/rdelasotta/.conda/envs/jaxenv/lib/python3.11/site-packages/jax/_src/core.py:433\u001b[0m, in \u001b[0;36mPrimitive.bind_with_trace\u001b[0;34m(self, trace, args, params)\u001b[0m\n\u001b[1;32m    431\u001b[0m \u001b[38;5;28;01mdef\u001b[39;00m \u001b[38;5;21mbind_with_trace\u001b[39m(\u001b[38;5;28mself\u001b[39m, trace, args, params):\n\u001b[1;32m    432\u001b[0m   \u001b[38;5;28;01mwith\u001b[39;00m pop_level(trace\u001b[38;5;241m.\u001b[39mlevel):\n\u001b[0;32m--> 433\u001b[0m     out \u001b[38;5;241m=\u001b[39m trace\u001b[38;5;241m.\u001b[39mprocess_primitive(\u001b[38;5;28mself\u001b[39m, \u001b[38;5;28mmap\u001b[39m(trace\u001b[38;5;241m.\u001b[39mfull_raise, args), params)\n\u001b[1;32m    434\u001b[0m   \u001b[38;5;28;01mreturn\u001b[39;00m \u001b[38;5;28mmap\u001b[39m(full_lower, out) \u001b[38;5;28;01mif\u001b[39;00m \u001b[38;5;28mself\u001b[39m\u001b[38;5;241m.\u001b[39mmultiple_results \u001b[38;5;28;01melse\u001b[39;00m full_lower(out)\n",
      "File \u001b[0;32m/mnt/workspace/rdelasotta/.conda/envs/jaxenv/lib/python3.11/site-packages/jax/_src/core.py:939\u001b[0m, in \u001b[0;36mEvalTrace.process_primitive\u001b[0;34m(self, primitive, tracers, params)\u001b[0m\n\u001b[1;32m    937\u001b[0m   \u001b[38;5;28;01mreturn\u001b[39;00m call_impl_with_key_reuse_checks(primitive, primitive\u001b[38;5;241m.\u001b[39mimpl, \u001b[38;5;241m*\u001b[39mtracers, \u001b[38;5;241m*\u001b[39m\u001b[38;5;241m*\u001b[39mparams)\n\u001b[1;32m    938\u001b[0m \u001b[38;5;28;01melse\u001b[39;00m:\n\u001b[0;32m--> 939\u001b[0m   \u001b[38;5;28;01mreturn\u001b[39;00m primitive\u001b[38;5;241m.\u001b[39mimpl(\u001b[38;5;241m*\u001b[39mtracers, \u001b[38;5;241m*\u001b[39m\u001b[38;5;241m*\u001b[39mparams)\n",
      "File \u001b[0;32m/mnt/workspace/rdelasotta/.conda/envs/jaxenv/lib/python3.11/site-packages/jax/_src/dispatch.py:87\u001b[0m, in \u001b[0;36mapply_primitive\u001b[0;34m(prim, *args, **params)\u001b[0m\n\u001b[1;32m     85\u001b[0m prev \u001b[38;5;241m=\u001b[39m lib\u001b[38;5;241m.\u001b[39mjax_jit\u001b[38;5;241m.\u001b[39mswap_thread_local_state_disable_jit(\u001b[38;5;28;01mFalse\u001b[39;00m)\n\u001b[1;32m     86\u001b[0m \u001b[38;5;28;01mtry\u001b[39;00m:\n\u001b[0;32m---> 87\u001b[0m   outs \u001b[38;5;241m=\u001b[39m fun(\u001b[38;5;241m*\u001b[39margs)\n\u001b[1;32m     88\u001b[0m \u001b[38;5;28;01mfinally\u001b[39;00m:\n\u001b[1;32m     89\u001b[0m   lib\u001b[38;5;241m.\u001b[39mjax_jit\u001b[38;5;241m.\u001b[39mswap_thread_local_state_disable_jit(prev)\n",
      "    \u001b[0;31m[... skipping hidden 1 frame]\u001b[0m\n",
      "File \u001b[0;32m/mnt/workspace/rdelasotta/.conda/envs/jaxenv/lib/python3.11/site-packages/jax/_src/pjit.py:332\u001b[0m, in \u001b[0;36m_cpp_pjit.<locals>.cache_miss\u001b[0;34m(*args, **kwargs)\u001b[0m\n\u001b[1;32m    330\u001b[0m \u001b[38;5;129m@api_boundary\u001b[39m\n\u001b[1;32m    331\u001b[0m \u001b[38;5;28;01mdef\u001b[39;00m \u001b[38;5;21mcache_miss\u001b[39m(\u001b[38;5;241m*\u001b[39margs, \u001b[38;5;241m*\u001b[39m\u001b[38;5;241m*\u001b[39mkwargs):\n\u001b[0;32m--> 332\u001b[0m   outs, out_flat, out_tree, args_flat, jaxpr, attrs_tracked \u001b[38;5;241m=\u001b[39m _python_pjit_helper(\n\u001b[1;32m    333\u001b[0m       fun, jit_info, \u001b[38;5;241m*\u001b[39margs, \u001b[38;5;241m*\u001b[39m\u001b[38;5;241m*\u001b[39mkwargs)\n\u001b[1;32m    334\u001b[0m   executable \u001b[38;5;241m=\u001b[39m _read_most_recent_pjit_call_executable(jaxpr)\n\u001b[1;32m    335\u001b[0m   pgle_profiler \u001b[38;5;241m=\u001b[39m _read_pgle_profiler(jaxpr)\n",
      "File \u001b[0;32m/mnt/workspace/rdelasotta/.conda/envs/jaxenv/lib/python3.11/site-packages/jax/_src/pjit.py:190\u001b[0m, in \u001b[0;36m_python_pjit_helper\u001b[0;34m(fun, jit_info, *args, **kwargs)\u001b[0m\n\u001b[1;32m    187\u001b[0m   args_flat \u001b[38;5;241m=\u001b[39m [\u001b[38;5;241m*\u001b[39minit_states, \u001b[38;5;241m*\u001b[39margs_flat]\n\u001b[1;32m    189\u001b[0m \u001b[38;5;28;01mtry\u001b[39;00m:\n\u001b[0;32m--> 190\u001b[0m   out_flat \u001b[38;5;241m=\u001b[39m pjit_p\u001b[38;5;241m.\u001b[39mbind(\u001b[38;5;241m*\u001b[39margs_flat, \u001b[38;5;241m*\u001b[39m\u001b[38;5;241m*\u001b[39mp\u001b[38;5;241m.\u001b[39mparams)\n\u001b[1;32m    191\u001b[0m \u001b[38;5;28;01mexcept\u001b[39;00m pxla\u001b[38;5;241m.\u001b[39mDeviceAssignmentMismatchError \u001b[38;5;28;01mas\u001b[39;00m e:\n\u001b[1;32m    192\u001b[0m   fails, \u001b[38;5;241m=\u001b[39m e\u001b[38;5;241m.\u001b[39margs\n",
      "File \u001b[0;32m/mnt/workspace/rdelasotta/.conda/envs/jaxenv/lib/python3.11/site-packages/jax/_src/core.py:2739\u001b[0m, in \u001b[0;36mAxisPrimitive.bind\u001b[0;34m(self, *args, **params)\u001b[0m\n\u001b[1;32m   2735\u001b[0m axis_main \u001b[38;5;241m=\u001b[39m \u001b[38;5;28mmax\u001b[39m((axis_frame(a)\u001b[38;5;241m.\u001b[39mmain_trace \u001b[38;5;28;01mfor\u001b[39;00m a \u001b[38;5;129;01min\u001b[39;00m used_axis_names(\u001b[38;5;28mself\u001b[39m, params)),\n\u001b[1;32m   2736\u001b[0m                 default\u001b[38;5;241m=\u001b[39m\u001b[38;5;28;01mNone\u001b[39;00m, key\u001b[38;5;241m=\u001b[39m\u001b[38;5;28;01mlambda\u001b[39;00m t: \u001b[38;5;28mgetattr\u001b[39m(t, \u001b[38;5;124m'\u001b[39m\u001b[38;5;124mlevel\u001b[39m\u001b[38;5;124m'\u001b[39m, \u001b[38;5;241m-\u001b[39m\u001b[38;5;241m1\u001b[39m))\n\u001b[1;32m   2737\u001b[0m top_trace \u001b[38;5;241m=\u001b[39m (top_trace \u001b[38;5;28;01mif\u001b[39;00m \u001b[38;5;129;01mnot\u001b[39;00m axis_main \u001b[38;5;129;01mor\u001b[39;00m axis_main\u001b[38;5;241m.\u001b[39mlevel \u001b[38;5;241m<\u001b[39m top_trace\u001b[38;5;241m.\u001b[39mlevel\n\u001b[1;32m   2738\u001b[0m              \u001b[38;5;28;01melse\u001b[39;00m axis_main\u001b[38;5;241m.\u001b[39mwith_cur_sublevel())\n\u001b[0;32m-> 2739\u001b[0m \u001b[38;5;28;01mreturn\u001b[39;00m \u001b[38;5;28mself\u001b[39m\u001b[38;5;241m.\u001b[39mbind_with_trace(top_trace, args, params)\n",
      "File \u001b[0;32m/mnt/workspace/rdelasotta/.conda/envs/jaxenv/lib/python3.11/site-packages/jax/_src/core.py:433\u001b[0m, in \u001b[0;36mPrimitive.bind_with_trace\u001b[0;34m(self, trace, args, params)\u001b[0m\n\u001b[1;32m    431\u001b[0m \u001b[38;5;28;01mdef\u001b[39;00m \u001b[38;5;21mbind_with_trace\u001b[39m(\u001b[38;5;28mself\u001b[39m, trace, args, params):\n\u001b[1;32m    432\u001b[0m   \u001b[38;5;28;01mwith\u001b[39;00m pop_level(trace\u001b[38;5;241m.\u001b[39mlevel):\n\u001b[0;32m--> 433\u001b[0m     out \u001b[38;5;241m=\u001b[39m trace\u001b[38;5;241m.\u001b[39mprocess_primitive(\u001b[38;5;28mself\u001b[39m, \u001b[38;5;28mmap\u001b[39m(trace\u001b[38;5;241m.\u001b[39mfull_raise, args), params)\n\u001b[1;32m    434\u001b[0m   \u001b[38;5;28;01mreturn\u001b[39;00m \u001b[38;5;28mmap\u001b[39m(full_lower, out) \u001b[38;5;28;01mif\u001b[39;00m \u001b[38;5;28mself\u001b[39m\u001b[38;5;241m.\u001b[39mmultiple_results \u001b[38;5;28;01melse\u001b[39;00m full_lower(out)\n",
      "File \u001b[0;32m/mnt/workspace/rdelasotta/.conda/envs/jaxenv/lib/python3.11/site-packages/jax/_src/core.py:939\u001b[0m, in \u001b[0;36mEvalTrace.process_primitive\u001b[0;34m(self, primitive, tracers, params)\u001b[0m\n\u001b[1;32m    937\u001b[0m   \u001b[38;5;28;01mreturn\u001b[39;00m call_impl_with_key_reuse_checks(primitive, primitive\u001b[38;5;241m.\u001b[39mimpl, \u001b[38;5;241m*\u001b[39mtracers, \u001b[38;5;241m*\u001b[39m\u001b[38;5;241m*\u001b[39mparams)\n\u001b[1;32m    938\u001b[0m \u001b[38;5;28;01melse\u001b[39;00m:\n\u001b[0;32m--> 939\u001b[0m   \u001b[38;5;28;01mreturn\u001b[39;00m primitive\u001b[38;5;241m.\u001b[39mimpl(\u001b[38;5;241m*\u001b[39mtracers, \u001b[38;5;241m*\u001b[39m\u001b[38;5;241m*\u001b[39mparams)\n",
      "File \u001b[0;32m/mnt/workspace/rdelasotta/.conda/envs/jaxenv/lib/python3.11/site-packages/jax/_src/pjit.py:1730\u001b[0m, in \u001b[0;36m_pjit_call_impl\u001b[0;34m(jaxpr, in_shardings, out_shardings, in_layouts, out_layouts, resource_env, donated_invars, name, keep_unused, inline, *args)\u001b[0m\n\u001b[1;32m   1727\u001b[0m donated_argnums \u001b[38;5;241m=\u001b[39m [i \u001b[38;5;28;01mfor\u001b[39;00m i, d \u001b[38;5;129;01min\u001b[39;00m \u001b[38;5;28menumerate\u001b[39m(donated_invars) \u001b[38;5;28;01mif\u001b[39;00m d]\n\u001b[1;32m   1728\u001b[0m has_explicit_sharding \u001b[38;5;241m=\u001b[39m _pjit_explicit_sharding(\n\u001b[1;32m   1729\u001b[0m     in_shardings, out_shardings, \u001b[38;5;28;01mNone\u001b[39;00m, \u001b[38;5;28;01mNone\u001b[39;00m)\n\u001b[0;32m-> 1730\u001b[0m \u001b[38;5;28;01mreturn\u001b[39;00m xc\u001b[38;5;241m.\u001b[39m_xla\u001b[38;5;241m.\u001b[39mpjit(\n\u001b[1;32m   1731\u001b[0m     name, f, call_impl_cache_miss, [], [], donated_argnums,\n\u001b[1;32m   1732\u001b[0m     tree_util\u001b[38;5;241m.\u001b[39mdispatch_registry,\n\u001b[1;32m   1733\u001b[0m     \u001b[38;5;28;01mlambda\u001b[39;00m x, sharding: pxla\u001b[38;5;241m.\u001b[39mshard_args([sharding], [x])[\u001b[38;5;241m0\u001b[39m],\n\u001b[1;32m   1734\u001b[0m     _get_cpp_global_cache(has_explicit_sharding))(\u001b[38;5;241m*\u001b[39margs)\n",
      "File \u001b[0;32m/mnt/workspace/rdelasotta/.conda/envs/jaxenv/lib/python3.11/site-packages/jax/_src/pjit.py:1712\u001b[0m, in \u001b[0;36m_pjit_call_impl.<locals>.call_impl_cache_miss\u001b[0;34m(*args_, **kwargs_)\u001b[0m\n\u001b[1;32m   1711\u001b[0m \u001b[38;5;28;01mdef\u001b[39;00m \u001b[38;5;21mcall_impl_cache_miss\u001b[39m(\u001b[38;5;241m*\u001b[39margs_, \u001b[38;5;241m*\u001b[39m\u001b[38;5;241m*\u001b[39mkwargs_):\n\u001b[0;32m-> 1712\u001b[0m   out_flat, compiled \u001b[38;5;241m=\u001b[39m _pjit_call_impl_python(\n\u001b[1;32m   1713\u001b[0m       \u001b[38;5;241m*\u001b[39margs, jaxpr\u001b[38;5;241m=\u001b[39mjaxpr, in_shardings\u001b[38;5;241m=\u001b[39min_shardings,\n\u001b[1;32m   1714\u001b[0m       out_shardings\u001b[38;5;241m=\u001b[39mout_shardings, in_layouts\u001b[38;5;241m=\u001b[39min_layouts,\n\u001b[1;32m   1715\u001b[0m       out_layouts\u001b[38;5;241m=\u001b[39mout_layouts, resource_env\u001b[38;5;241m=\u001b[39mresource_env,\n\u001b[1;32m   1716\u001b[0m       donated_invars\u001b[38;5;241m=\u001b[39mdonated_invars, name\u001b[38;5;241m=\u001b[39mname, keep_unused\u001b[38;5;241m=\u001b[39mkeep_unused,\n\u001b[1;32m   1717\u001b[0m       inline\u001b[38;5;241m=\u001b[39minline)\n\u001b[1;32m   1718\u001b[0m   pgle_profiler \u001b[38;5;241m=\u001b[39m _read_pgle_profiler(jaxpr)\n\u001b[1;32m   1719\u001b[0m   fastpath_data \u001b[38;5;241m=\u001b[39m _get_fastpath_data(\n\u001b[1;32m   1720\u001b[0m       compiled, tree_structure(out_flat), args, out_flat, [], jaxpr\u001b[38;5;241m.\u001b[39meffects,\n\u001b[1;32m   1721\u001b[0m       jaxpr\u001b[38;5;241m.\u001b[39mconsts, \u001b[38;5;28;01mNone\u001b[39;00m, pgle_profiler)\n",
      "File \u001b[0;32m/mnt/workspace/rdelasotta/.conda/envs/jaxenv/lib/python3.11/site-packages/jax/_src/pjit.py:1642\u001b[0m, in \u001b[0;36m_pjit_call_impl_python\u001b[0;34m(jaxpr, in_shardings, out_shardings, in_layouts, out_layouts, resource_env, donated_invars, name, keep_unused, inline, *args)\u001b[0m\n\u001b[1;32m   1629\u001b[0m     compile_options \u001b[38;5;241m=\u001b[39m {\u001b[38;5;124m'\u001b[39m\u001b[38;5;124mfdo_profile\u001b[39m\u001b[38;5;124m'\u001b[39m: fdo_profile}\n\u001b[1;32m   1631\u001b[0m \u001b[38;5;66;03m# TODO(patrios): Do not pass mutable profile session through cached lowering\u001b[39;00m\n\u001b[1;32m   1632\u001b[0m \u001b[38;5;66;03m# chain. Instead we need to move profilers dictionary to pxla module and use\u001b[39;00m\n\u001b[1;32m   1633\u001b[0m \u001b[38;5;66;03m# module as key. Right now we can't do that since there is no way to evict _pjit_lower_cached cache for in PGLE mode.\u001b[39;00m\n\u001b[1;32m   1634\u001b[0m compiled \u001b[38;5;241m=\u001b[39m _resolve_and_lower(\n\u001b[1;32m   1635\u001b[0m     args, jaxpr\u001b[38;5;241m=\u001b[39mjaxpr, in_shardings\u001b[38;5;241m=\u001b[39min_shardings,\n\u001b[1;32m   1636\u001b[0m     out_shardings\u001b[38;5;241m=\u001b[39mout_shardings, in_layouts\u001b[38;5;241m=\u001b[39min_layouts,\n\u001b[1;32m   1637\u001b[0m     out_layouts\u001b[38;5;241m=\u001b[39mout_layouts, resource_env\u001b[38;5;241m=\u001b[39mresource_env,\n\u001b[1;32m   1638\u001b[0m     donated_invars\u001b[38;5;241m=\u001b[39mdonated_invars, name\u001b[38;5;241m=\u001b[39mname, keep_unused\u001b[38;5;241m=\u001b[39mkeep_unused,\n\u001b[1;32m   1639\u001b[0m     inline\u001b[38;5;241m=\u001b[39minline, lowering_platforms\u001b[38;5;241m=\u001b[39m\u001b[38;5;28;01mNone\u001b[39;00m,\n\u001b[1;32m   1640\u001b[0m     lowering_parameters\u001b[38;5;241m=\u001b[39mmlir\u001b[38;5;241m.\u001b[39mLoweringParameters(),\n\u001b[1;32m   1641\u001b[0m     pgle_profiler\u001b[38;5;241m=\u001b[39mpgle_profiler\n\u001b[0;32m-> 1642\u001b[0m )\u001b[38;5;241m.\u001b[39mcompile(compile_options)\n\u001b[1;32m   1644\u001b[0m _most_recent_pjit_call_executable\u001b[38;5;241m.\u001b[39mweak_key_dict[jaxpr] \u001b[38;5;241m=\u001b[39m compiled\n\u001b[1;32m   1645\u001b[0m \u001b[38;5;66;03m# This check is expensive so only do it if enable_checks is on.\u001b[39;00m\n",
      "File \u001b[0;32m/mnt/workspace/rdelasotta/.conda/envs/jaxenv/lib/python3.11/site-packages/jax/_src/interpreters/pxla.py:2295\u001b[0m, in \u001b[0;36mMeshComputation.compile\u001b[0;34m(self, compiler_options)\u001b[0m\n\u001b[1;32m   2293\u001b[0m \u001b[38;5;28;01mdef\u001b[39;00m \u001b[38;5;21mcompile\u001b[39m(\u001b[38;5;28mself\u001b[39m, compiler_options\u001b[38;5;241m=\u001b[39m\u001b[38;5;28;01mNone\u001b[39;00m) \u001b[38;5;241m-\u001b[39m\u001b[38;5;241m>\u001b[39m MeshExecutable:\n\u001b[1;32m   2294\u001b[0m   \u001b[38;5;28;01mif\u001b[39;00m \u001b[38;5;28mself\u001b[39m\u001b[38;5;241m.\u001b[39m_executable \u001b[38;5;129;01mis\u001b[39;00m \u001b[38;5;28;01mNone\u001b[39;00m \u001b[38;5;129;01mor\u001b[39;00m compiler_options \u001b[38;5;129;01mis\u001b[39;00m \u001b[38;5;129;01mnot\u001b[39;00m \u001b[38;5;28;01mNone\u001b[39;00m:\n\u001b[0;32m-> 2295\u001b[0m     executable \u001b[38;5;241m=\u001b[39m UnloadedMeshExecutable\u001b[38;5;241m.\u001b[39mfrom_hlo(\n\u001b[1;32m   2296\u001b[0m         \u001b[38;5;28mself\u001b[39m\u001b[38;5;241m.\u001b[39m_name, \u001b[38;5;28mself\u001b[39m\u001b[38;5;241m.\u001b[39m_hlo, \u001b[38;5;241m*\u001b[39m\u001b[38;5;241m*\u001b[39m\u001b[38;5;28mself\u001b[39m\u001b[38;5;241m.\u001b[39mcompile_args,\n\u001b[1;32m   2297\u001b[0m         compiler_options\u001b[38;5;241m=\u001b[39mcompiler_options)\n\u001b[1;32m   2298\u001b[0m     \u001b[38;5;28;01mif\u001b[39;00m compiler_options \u001b[38;5;129;01mis\u001b[39;00m \u001b[38;5;28;01mNone\u001b[39;00m:\n\u001b[1;32m   2299\u001b[0m       \u001b[38;5;28mself\u001b[39m\u001b[38;5;241m.\u001b[39m_executable \u001b[38;5;241m=\u001b[39m executable\n",
      "File \u001b[0;32m/mnt/workspace/rdelasotta/.conda/envs/jaxenv/lib/python3.11/site-packages/jax/_src/interpreters/pxla.py:2807\u001b[0m, in \u001b[0;36mUnloadedMeshExecutable.from_hlo\u001b[0;34m(***failed resolving arguments***)\u001b[0m\n\u001b[1;32m   2804\u001b[0m       mesh \u001b[38;5;241m=\u001b[39m i\u001b[38;5;241m.\u001b[39mmesh  \u001b[38;5;66;03m# type: ignore\u001b[39;00m\n\u001b[1;32m   2805\u001b[0m       \u001b[38;5;28;01mbreak\u001b[39;00m\n\u001b[0;32m-> 2807\u001b[0m xla_executable \u001b[38;5;241m=\u001b[39m _cached_compilation(\n\u001b[1;32m   2808\u001b[0m     hlo, name, mesh, spmd_lowering,\n\u001b[1;32m   2809\u001b[0m     tuple_args, auto_spmd_lowering, allow_prop_to_inputs,\n\u001b[1;32m   2810\u001b[0m     allow_prop_to_outputs, \u001b[38;5;28mtuple\u001b[39m(host_callbacks), backend, da, pmap_nreps,\n\u001b[1;32m   2811\u001b[0m     compiler_options_keys, compiler_options_values, pgle_profiler)\n\u001b[1;32m   2813\u001b[0m \u001b[38;5;28;01mif\u001b[39;00m auto_spmd_lowering:\n\u001b[1;32m   2814\u001b[0m   \u001b[38;5;28;01massert\u001b[39;00m mesh \u001b[38;5;129;01mis\u001b[39;00m \u001b[38;5;129;01mnot\u001b[39;00m \u001b[38;5;28;01mNone\u001b[39;00m\n",
      "File \u001b[0;32m/mnt/workspace/rdelasotta/.conda/envs/jaxenv/lib/python3.11/site-packages/jax/_src/interpreters/pxla.py:2621\u001b[0m, in \u001b[0;36m_cached_compilation\u001b[0;34m(computation, name, mesh, spmd_lowering, tuple_args, auto_spmd_lowering, allow_prop_to_inputs, allow_prop_to_outputs, host_callbacks, backend, da, pmap_nreps, compiler_options_keys, compiler_options_values, pgle_profiler)\u001b[0m\n\u001b[1;32m   2613\u001b[0m compile_options \u001b[38;5;241m=\u001b[39m create_compile_options(\n\u001b[1;32m   2614\u001b[0m     computation, mesh, spmd_lowering, tuple_args, auto_spmd_lowering,\n\u001b[1;32m   2615\u001b[0m     allow_prop_to_inputs, allow_prop_to_outputs, backend,\n\u001b[1;32m   2616\u001b[0m     dev, pmap_nreps, compiler_options)\n\u001b[1;32m   2618\u001b[0m \u001b[38;5;28;01mwith\u001b[39;00m dispatch\u001b[38;5;241m.\u001b[39mlog_elapsed_time(\n\u001b[1;32m   2619\u001b[0m     \u001b[38;5;124m\"\u001b[39m\u001b[38;5;124mFinished XLA compilation of \u001b[39m\u001b[38;5;132;01m{fun_name}\u001b[39;00m\u001b[38;5;124m in \u001b[39m\u001b[38;5;132;01m{elapsed_time:.9f}\u001b[39;00m\u001b[38;5;124m sec\u001b[39m\u001b[38;5;124m\"\u001b[39m,\n\u001b[1;32m   2620\u001b[0m     fun_name\u001b[38;5;241m=\u001b[39mname, event\u001b[38;5;241m=\u001b[39mdispatch\u001b[38;5;241m.\u001b[39mBACKEND_COMPILE_EVENT):\n\u001b[0;32m-> 2621\u001b[0m   xla_executable \u001b[38;5;241m=\u001b[39m compiler\u001b[38;5;241m.\u001b[39mcompile_or_get_cached(\n\u001b[1;32m   2622\u001b[0m       backend, computation, dev, compile_options, host_callbacks,\n\u001b[1;32m   2623\u001b[0m       pgle_profiler)\n\u001b[1;32m   2624\u001b[0m \u001b[38;5;28;01mreturn\u001b[39;00m xla_executable\n",
      "File \u001b[0;32m/mnt/workspace/rdelasotta/.conda/envs/jaxenv/lib/python3.11/site-packages/jax/_src/compiler.py:399\u001b[0m, in \u001b[0;36mcompile_or_get_cached\u001b[0;34m(backend, computation, devices, compile_options, host_callbacks, pgle_profiler)\u001b[0m\n\u001b[1;32m    397\u001b[0m \u001b[38;5;28;01melse\u001b[39;00m:\n\u001b[1;32m    398\u001b[0m   log_persistent_cache_miss(module_name, cache_key)\n\u001b[0;32m--> 399\u001b[0m   \u001b[38;5;28;01mreturn\u001b[39;00m _compile_and_write_cache(\n\u001b[1;32m    400\u001b[0m       backend,\n\u001b[1;32m    401\u001b[0m       computation,\n\u001b[1;32m    402\u001b[0m       compile_options,\n\u001b[1;32m    403\u001b[0m       host_callbacks,\n\u001b[1;32m    404\u001b[0m       module_name,\n\u001b[1;32m    405\u001b[0m       cache_key,\n\u001b[1;32m    406\u001b[0m   )\n",
      "File \u001b[0;32m/mnt/workspace/rdelasotta/.conda/envs/jaxenv/lib/python3.11/site-packages/jax/_src/compiler.py:627\u001b[0m, in \u001b[0;36m_compile_and_write_cache\u001b[0;34m(backend, computation, compile_options, host_callbacks, module_name, cache_key)\u001b[0m\n\u001b[1;32m    618\u001b[0m \u001b[38;5;28;01mdef\u001b[39;00m \u001b[38;5;21m_compile_and_write_cache\u001b[39m(\n\u001b[1;32m    619\u001b[0m     backend: xc\u001b[38;5;241m.\u001b[39mClient,\n\u001b[1;32m    620\u001b[0m     computation: ir\u001b[38;5;241m.\u001b[39mModule,\n\u001b[0;32m   (...)\u001b[0m\n\u001b[1;32m    624\u001b[0m     cache_key: \u001b[38;5;28mstr\u001b[39m,\n\u001b[1;32m    625\u001b[0m ) \u001b[38;5;241m-\u001b[39m\u001b[38;5;241m>\u001b[39m xc\u001b[38;5;241m.\u001b[39mLoadedExecutable:\n\u001b[1;32m    626\u001b[0m   start_time \u001b[38;5;241m=\u001b[39m time\u001b[38;5;241m.\u001b[39mmonotonic()\n\u001b[0;32m--> 627\u001b[0m   executable \u001b[38;5;241m=\u001b[39m backend_compile(\n\u001b[1;32m    628\u001b[0m       backend, computation, compile_options, host_callbacks\n\u001b[1;32m    629\u001b[0m   )\n\u001b[1;32m    630\u001b[0m   compile_time \u001b[38;5;241m=\u001b[39m time\u001b[38;5;241m.\u001b[39mmonotonic() \u001b[38;5;241m-\u001b[39m start_time\n\u001b[1;32m    631\u001b[0m   _cache_write(\n\u001b[1;32m    632\u001b[0m       cache_key, compile_time, module_name, backend, executable, host_callbacks\n\u001b[1;32m    633\u001b[0m   )\n",
      "File \u001b[0;32m/mnt/workspace/rdelasotta/.conda/envs/jaxenv/lib/python3.11/site-packages/jax/_src/profiler.py:336\u001b[0m, in \u001b[0;36mannotate_function.<locals>.wrapper\u001b[0;34m(*args, **kwargs)\u001b[0m\n\u001b[1;32m    333\u001b[0m \u001b[38;5;129m@wraps\u001b[39m(func)\n\u001b[1;32m    334\u001b[0m \u001b[38;5;28;01mdef\u001b[39;00m \u001b[38;5;21mwrapper\u001b[39m(\u001b[38;5;241m*\u001b[39margs, \u001b[38;5;241m*\u001b[39m\u001b[38;5;241m*\u001b[39mkwargs):\n\u001b[1;32m    335\u001b[0m   \u001b[38;5;28;01mwith\u001b[39;00m TraceAnnotation(name, \u001b[38;5;241m*\u001b[39m\u001b[38;5;241m*\u001b[39mdecorator_kwargs):\n\u001b[0;32m--> 336\u001b[0m     \u001b[38;5;28;01mreturn\u001b[39;00m func(\u001b[38;5;241m*\u001b[39margs, \u001b[38;5;241m*\u001b[39m\u001b[38;5;241m*\u001b[39mkwargs)\n\u001b[1;32m    337\u001b[0m   \u001b[38;5;28;01mreturn\u001b[39;00m wrapper\n",
      "File \u001b[0;32m/mnt/workspace/rdelasotta/.conda/envs/jaxenv/lib/python3.11/site-packages/jax/_src/compiler.py:267\u001b[0m, in \u001b[0;36mbackend_compile\u001b[0;34m(backend, module, options, host_callbacks)\u001b[0m\n\u001b[1;32m    262\u001b[0m   \u001b[38;5;28;01mreturn\u001b[39;00m backend\u001b[38;5;241m.\u001b[39mcompile(built_c, compile_options\u001b[38;5;241m=\u001b[39moptions,\n\u001b[1;32m    263\u001b[0m                          host_callbacks\u001b[38;5;241m=\u001b[39mhost_callbacks)\n\u001b[1;32m    264\u001b[0m \u001b[38;5;66;03m# Some backends don't have `host_callbacks` option yet\u001b[39;00m\n\u001b[1;32m    265\u001b[0m \u001b[38;5;66;03m# TODO(sharadmv): remove this fallback when all backends allow `compile`\u001b[39;00m\n\u001b[1;32m    266\u001b[0m \u001b[38;5;66;03m# to take in `host_callbacks`\u001b[39;00m\n\u001b[0;32m--> 267\u001b[0m \u001b[38;5;28;01mreturn\u001b[39;00m backend\u001b[38;5;241m.\u001b[39mcompile(built_c, compile_options\u001b[38;5;241m=\u001b[39moptions)\n",
      "\u001b[0;31mKeyboardInterrupt\u001b[0m: "
     ]
    }
   ],
   "source": [
    "# transpose coils\n",
    "csm = np.transpose(csm, (2, 0, 1))\n",
    "csm.shape"
   ]
  },
  {
   "cell_type": "markdown",
   "id": "91b461c7-4dd6-442c-8a85-3c3dde3e7c68",
   "metadata": {},
   "source": [
    "### DATA"
   ]
  },
  {
   "cell_type": "code",
   "execution_count": null,
   "id": "30d74cc2-43ba-4a2a-8feb-1ee422d87810",
   "metadata": {},
   "outputs": [],
   "source": [
    "kdata_aux_list = []\n",
    "for i in range(n_frames):\n",
    "    kdata_aux_list.append( kdata[i] )"
   ]
  },
  {
   "cell_type": "code",
   "execution_count": null,
   "id": "c72e8ea4-904c-4d10-8007-678b4b2d0da4",
   "metadata": {},
   "outputs": [],
   "source": [
    "kdata_sorted = np.concat(kdata_aux_list, axis=1)\n",
    "kdata_sorted.shape"
   ]
  },
  {
   "cell_type": "markdown",
   "id": "4df4e8d5-e0f0-46ae-baa1-8dca3145321b",
   "metadata": {},
   "source": [
    "## **1.2 Check data**"
   ]
  },
  {
   "cell_type": "markdown",
   "id": "877b8fbc-3294-4596-820a-2fa42a43b612",
   "metadata": {},
   "source": [
    "### **Trajectory (traj)**\n",
    "##### The trajectory is a list of frames. The frames dimensions are (n_spokes*readout, 2)"
   ]
  },
  {
   "cell_type": "code",
   "execution_count": null,
   "id": "719024ea-a21b-4c4c-aec3-6ba2d18627c2",
   "metadata": {},
   "outputs": [],
   "source": [
    "plot_traj(traj_sorted, spokes_per_bin_list, vplot = 2, hplot = 4)"
   ]
  },
  {
   "cell_type": "markdown",
   "id": "35059a77-622e-4a95-86b9-74c3630c505e",
   "metadata": {},
   "source": [
    "### **k-space data (kdata)**\n",
    "##### For each point of the trajectory, a signal was acquired by each coil. The data corresponds to the horizontal magnetization, obtained by a pulse sequence. Given that we have two axis in the horizontal plane, the data is in complex form.\n",
    "##### The kdata is a list of frames. The frames dimensions are (readout, n_spokes, coils)"
   ]
  },
  {
   "cell_type": "code",
   "execution_count": null,
   "id": "f74e9677-8702-45e1-b7b9-22ec38881143",
   "metadata": {},
   "outputs": [],
   "source": [
    "plot_kdata(kdata_sorted, spokes_per_bin_list, vplot = 2, hplot = 4)"
   ]
  },
  {
   "cell_type": "markdown",
   "id": "2c04993b-0b01-47e0-8e4d-e63b3813c81a",
   "metadata": {},
   "source": [
    "### **Coil Sensitivity Map (CSM)**"
   ]
  },
  {
   "cell_type": "code",
   "execution_count": null,
   "id": "eafd323a-80f2-4102-911c-85dece9f4db8",
   "metadata": {},
   "outputs": [],
   "source": [
    "plot_csm(csm, spokes_per_bin_list, vplot = 2, hplot = 4)"
   ]
  },
  {
   "cell_type": "markdown",
   "id": "7fa5036f-3fce-40f3-ae95-656453cca129",
   "metadata": {},
   "source": [
    "# **2 .- TD-DIP dataset**"
   ]
  },
  {
   "cell_type": "markdown",
   "id": "04b8c38f-23ab-4e6a-931b-783d627c3251",
   "metadata": {},
   "source": [
    "### times"
   ]
  },
  {
   "cell_type": "code",
   "execution_count": null,
   "id": "7fded710-7251-419d-a5a8-f63976731698",
   "metadata": {},
   "outputs": [],
   "source": [
    "times = onp.array(bins_sorted)/n_frames"
   ]
  },
  {
   "cell_type": "code",
   "execution_count": null,
   "id": "c46c2594-1cb0-4f85-a8e5-f612492398a0",
   "metadata": {},
   "outputs": [],
   "source": [
    "fig, axes = plt.subplots(1, 1, figsize=(12, 4))\n",
    "axes.plot(times)\n",
    "axes.set_title(\"Times\")\n",
    "plt.show()"
   ]
  },
  {
   "cell_type": "markdown",
   "id": "aa574feb-06e0-4491-ab8f-16131cb67d5e",
   "metadata": {},
   "source": [
    "## **2.3 .- Preprocess data**"
   ]
  },
  {
   "cell_type": "code",
   "execution_count": null,
   "id": "30b88909-4d69-4c1c-a8ce-8bbfb6bfdf62",
   "metadata": {},
   "outputs": [],
   "source": [
    "Y_data, X_data, spclim = preprocess_data(times, kdata_sorted, traj_sorted)\n",
    "Y_data.shape, X_data.shape"
   ]
  },
  {
   "cell_type": "code",
   "execution_count": null,
   "id": "3f015470-c4c8-40a3-999d-d58b38de5ca6",
   "metadata": {},
   "outputs": [],
   "source": [
    "plot_angles_and_times_from_xdata(X_data)"
   ]
  },
  {
   "cell_type": "markdown",
   "id": "ca70ac5d-9080-4c6b-9b88-c1f2b25d36c8",
   "metadata": {},
   "source": [
    "# **3 .- GRASP and iterative-SENSE reconstructions**"
   ]
  },
  {
   "cell_type": "markdown",
   "id": "5aaf7241-ebaf-43af-84d2-b21e56432194",
   "metadata": {},
   "source": [
    "## **3.1 .- Coil sensitivity map**"
   ]
  },
  {
   "cell_type": "code",
   "execution_count": null,
   "id": "df40a5e5-460f-42b4-87bf-c0c04730f3f6",
   "metadata": {},
   "outputs": [],
   "source": [
    "traj_sorted.shape, kdata_sorted.shape"
   ]
  },
  {
   "cell_type": "code",
   "execution_count": null,
   "id": "8aab4c78-2ea2-4e67-b7c9-2ffd1ceabfc7",
   "metadata": {},
   "outputs": [],
   "source": [
    "csm_computed, hollow_mask_computed, bac_csm = get_csm_format(traj_sorted, kdata_sorted, bart_files_folder, dataset_name)\n",
    "hollow_mask_computed = np.nan_to_num(hollow_mask_computed, nan=1.0)"
   ]
  },
  {
   "cell_type": "code",
   "execution_count": null,
   "id": "9806d5b2-83a0-47e3-a170-f8954d4f93bf",
   "metadata": {},
   "outputs": [],
   "source": [
    "fig, axes = plt.subplots(1, 2, figsize=(8, 3))\n",
    "\n",
    "axes[0].imshow(onp.abs(csm_computed[0,:,:]))\n",
    "axes[0].axis('off')  # Turn off the axis for the first image\n",
    "\n",
    "axes[1].imshow(onp.abs(hollow_mask_computed))\n",
    "axes[1].axis('off')  # Turn off the axis for the second image\n",
    "\n",
    "plt.show()"
   ]
  },
  {
   "cell_type": "markdown",
   "id": "31e0de75-24d9-4b11-8a36-a985830e5191",
   "metadata": {},
   "source": [
    "## **3.2 .- GRASP reconstruction**"
   ]
  },
  {
   "cell_type": "code",
   "execution_count": null,
   "id": "8f12f7a6-fe4c-4ecd-bf6a-4652e2036b2f",
   "metadata": {},
   "outputs": [],
   "source": [
    "ktraj_b, kdata_b, time_b = balance_spokes_duplicating(times, kdata_sorted, traj_sorted)"
   ]
  },
  {
   "cell_type": "code",
   "execution_count": null,
   "id": "34622621-ed56-489b-9a20-9b87c6cb7ee7",
   "metadata": {},
   "outputs": [],
   "source": [
    "bac_name_grasp = dataset_name + '_grasp_b'\n",
    "bac_grasp = bart_acquisition_from_arrays(ktraj_b, kdata_b, bart_files_folder, bac_name_grasp)"
   ]
  },
  {
   "cell_type": "code",
   "execution_count": null,
   "id": "6285e4e0-01a0-4578-8c15-3be65aa83082",
   "metadata": {},
   "outputs": [],
   "source": [
    "iters = 100\n",
    "lagrangian_value = 5.\n",
    "lambda_value = 0.01\n",
    "grasp_exp_name = bac_name_grasp + str(iters) + '_lagrangian' + str(lagrangian_value).replace(\".\", \"_\") + '_lambda' + str(lambda_value).replace(\".\", \"_\")\n",
    "\n",
    "recon_grasp = bac_grasp.calculate_bart_reco_with_external_csmap(bac_csm, grasp_exp_name, lmbda = lambda_value, lagrangian = lagrangian_value, iters = iters)"
   ]
  },
  {
   "cell_type": "code",
   "execution_count": null,
   "id": "2133c56a-f839-421d-a9ac-9be09251ff80",
   "metadata": {},
   "outputs": [],
   "source": [
    "recon_grasp = recon_grasp.reshape((recon_grasp.shape[0],recon_grasp.shape[1],recon_grasp.shape[-1]))\n",
    "recon_grasp.shape"
   ]
  },
  {
   "cell_type": "markdown",
   "id": "0211be7e-9fc0-4d34-a36b-7c9023df95cd",
   "metadata": {},
   "source": [
    "## **3.3 .- SENSE reconstruction**"
   ]
  },
  {
   "cell_type": "code",
   "execution_count": null,
   "id": "b9cb384d-2269-4354-b9a9-18276ad60e9a",
   "metadata": {},
   "outputs": [],
   "source": [
    "bac_name_sense = dataset_name + '_sense_b'\n",
    "recon_sense = bac_grasp.make_sense_reconstruction( bac_csm.csmappath(), bac_name_sense)"
   ]
  },
  {
   "cell_type": "code",
   "execution_count": null,
   "id": "e89b257d-fc0c-42a5-ac90-1af541b83e09",
   "metadata": {},
   "outputs": [],
   "source": [
    "recon_sense = recon_sense.reshape((recon_sense.shape[0],recon_sense.shape[1],recon_sense.shape[-1]))\n",
    "recon_sense.shape"
   ]
  },
  {
   "cell_type": "markdown",
   "id": "58d76ac8-e6cf-4e12-bd2a-47388a1f8ba7",
   "metadata": {},
   "source": [
    "## **3.4 .- Plot**"
   ]
  },
  {
   "cell_type": "code",
   "execution_count": null,
   "id": "cd1db044-e5fa-46e6-b853-db3909690ad2",
   "metadata": {},
   "outputs": [],
   "source": [
    "array_images = [fs,recon_grasp,recon_sense,zf]\n",
    "array_names = ['ground truth', 'GRASP', 'SENSE', 'Zero fill']\n",
    "plot_zoom_images(array_images, array_names, frame_to_show=0, iterative_zoom=4)"
   ]
  },
  {
   "cell_type": "markdown",
   "id": "2aa6b57b-2147-4791-b886-7be01d6781d4",
   "metadata": {},
   "source": [
    "## **5 .- Save data**\n",
    "### Train DATA\n",
    "* **Y_data**:                (spokes, coils, readout,1)\n",
    "* **X_data**:                (spokes, 2)\n",
    "* **csm**:                   (coils, readout, readout) # to do \n",
    "* **csm_computed**:          (coils, readout, readout)\n",
    "* **hollow_mask_computed**:  (readout, readout)\n",
    "* **spclim**:                0.5\n",
    "### Reconstructions\n",
    "* **recon_fs**:              (readout, readout, frames)\n",
    "* **recon_grasp**:           (readout, readout, frames)\n",
    "* **recon_sense**:           (readout, readout, frames)\n",
    "* **recon_zf**:              (readout, readout, frames)"
   ]
  },
  {
   "cell_type": "code",
   "execution_count": null,
   "id": "1a25e4bd-a8c8-498b-b679-fdc86e562480",
   "metadata": {},
   "outputs": [],
   "source": [
    "zf.shape, fs.shape"
   ]
  },
  {
   "cell_type": "code",
   "execution_count": null,
   "id": "bedc15f6-7158-49db-99b3-76e8c4ab2892",
   "metadata": {},
   "outputs": [],
   "source": [
    "onp.savez(path_save, Y_data=Y_data, X_data=X_data, csm=csm, csm_computed=csm_computed, hollow_mask_computed=hollow_mask_computed, spclim=spclim, recon_grasp=recon_grasp, recon_sense=recon_sense, recon_zf=zf, recon_fs=fs)"
   ]
  },
  {
   "cell_type": "markdown",
   "id": "fa541a4b-0cea-4ec2-a346-ad8108a17411",
   "metadata": {},
   "source": [
    "## 6 .- Save Recon "
   ]
  },
  {
   "cell_type": "code",
   "execution_count": null,
   "id": "e901f06b-070b-4537-a045-60cccdfccbbf",
   "metadata": {},
   "outputs": [],
   "source": [
    "recon_grasp_cropped = recon_grasp[recon_grasp.shape[0]//4:3*recon_grasp.shape[0]//4,recon_grasp.shape[1]//4:3*recon_grasp.shape[1]//4,:]\n",
    "recon_sense_cropped = recon_sense[recon_sense.shape[0]//4:3*recon_sense.shape[0]//4,recon_sense.shape[1]//4:3*recon_sense.shape[1]//4,:]\n",
    "zf_cropped = zf[zf.shape[0]//4:3*zf.shape[0]//4,zf.shape[1]//4:3*zf.shape[1]//4,:]\n",
    "fs_cropped = fs[fs.shape[0]//4:3*fs.shape[0]//4,fs.shape[1]//4:3*fs.shape[1]//4,:]"
   ]
  },
  {
   "cell_type": "code",
   "execution_count": null,
   "id": "f04965fd-9a4c-4b27-b98c-7d4669555e7e",
   "metadata": {},
   "outputs": [],
   "source": [
    "save_frames_as_gif_with_pillow(dataset_recon_folder, recon_grasp_cropped / onp.max(onp.abs(recon_grasp_cropped)), filename='GRASP', vmax=1, saturation=0.8, fps=30)\n",
    "save_frames_as_gif_with_pillow(dataset_recon_folder, recon_sense_cropped / onp.max(onp.abs(recon_sense_cropped)), filename='SENSE', vmax=1, saturation=0.8, fps=30)\n",
    "save_frames_as_gif_with_pillow(dataset_recon_folder, zf_cropped / onp.max(onp.abs(zf_cropped)), filename='ZF', vmax=1, saturation=0.8, fps=30)\n",
    "save_frames_as_gif_with_pillow(dataset_recon_folder, fs_cropped / onp.max(onp.abs(fs_cropped)), filename='FS', vmax=1, saturation=0.8, fps=30)"
   ]
  },
  {
   "cell_type": "code",
   "execution_count": null,
   "id": "88683d5f-3314-45c6-894c-68c56dd99688",
   "metadata": {},
   "outputs": [],
   "source": []
  }
 ],
 "metadata": {
  "kernelspec": {
   "display_name": "Python 3 (ipykernel)",
   "language": "python",
   "name": "python3"
  },
  "language_info": {
   "codemirror_mode": {
    "name": "ipython",
    "version": 3
   },
   "file_extension": ".py",
   "mimetype": "text/x-python",
   "name": "python",
   "nbconvert_exporter": "python",
   "pygments_lexer": "ipython3",
   "version": "3.11.9"
  }
 },
 "nbformat": 4,
 "nbformat_minor": 5
}
